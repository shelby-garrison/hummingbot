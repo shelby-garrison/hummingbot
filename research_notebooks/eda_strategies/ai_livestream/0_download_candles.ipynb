{
 "cells": [
  {
   "cell_type": "code",
   "metadata": {
    "collapsed": false,
    "jupyter": {
     "outputs_hidden": false
    },
    "ExecuteTime": {
     "end_time": "2025-09-09T14:06:42.995020Z",
     "start_time": "2025-09-09T14:06:41.849137Z"
    }
   },
   "source": [
    "from core.data_sources.clob import CLOBDataSource\n",
    "import warnings\n",
    "\n",
    "warnings.filterwarnings(\"ignore\")\n",
    "\n",
    "# Get trading rules and candles\n",
    "clob = CLOBDataSource()"
   ],
   "outputs": [],
   "execution_count": 1
  },
  {
   "cell_type": "code",
   "metadata": {
    "collapsed": false,
    "jupyter": {
     "outputs_hidden": false
    },
    "ExecuteTime": {
     "end_time": "2025-09-09T14:06:43.183095Z",
     "start_time": "2025-09-09T14:06:43.180779Z"
    }
   },
   "source": [
    "# Constants\n",
    "CONNECTOR_NAME = \"binance\"\n",
    "INTERVAL = \"1s\"\n",
    "TRADING_PAIR = \"BTC-USDT\"\n",
    "DAYS = 3"
   ],
   "outputs": [],
   "execution_count": 2
  },
  {
   "cell_type": "markdown",
   "metadata": {
    "collapsed": false,
    "jupyter": {
     "outputs_hidden": false
    }
   },
   "source": [
    "# Download data\n",
    "- Get trading rules\n",
    "- Get candles for the last x days"
   ]
  },
  {
   "cell_type": "code",
   "metadata": {
    "collapsed": false,
    "ExecuteTime": {
     "end_time": "2025-09-09T14:06:46.375269Z",
     "start_time": "2025-09-09T14:06:45.934286Z"
    }
   },
   "source": "await clob.get_candles_last_days(CONNECTOR_NAME, TRADING_PAIR, INTERVAL, DAYS)\nclob.dump_candles_cache()",
   "outputs": [
    {
     "name": "stderr",
     "output_type": "stream",
     "text": [
      "2025-09-09 11:06:45,976 - hummingbot.data_feed.candles_feed.binance_spot_candles.binance_spot_candles - ERROR - Error fetching historical candles: Cannot connect to host api.binance.com:443 ssl:default [Connect call failed ('18.65.54.47', 443)]\n",
      "Traceback (most recent call last):\n",
      "  File \"/opt/anaconda3/envs/quants-lab/lib/python3.12/site-packages/aiohttp/connector.py\", line 1268, in _wrap_create_connection\n",
      "    sock = await aiohappyeyeballs.start_connection(\n",
      "           ^^^^^^^^^^^^^^^^^^^^^^^^^^^^^^^^^^^^^^^^\n",
      "  File \"/opt/anaconda3/envs/quants-lab/lib/python3.12/site-packages/aiohappyeyeballs/impl.py\", line 122, in start_connection\n",
      "    raise first_exception\n",
      "  File \"/opt/anaconda3/envs/quants-lab/lib/python3.12/site-packages/aiohappyeyeballs/impl.py\", line 73, in start_connection\n",
      "    sock = await _connect_sock(\n",
      "           ^^^^^^^^^^^^^^^^^^^^\n",
      "  File \"/opt/anaconda3/envs/quants-lab/lib/python3.12/site-packages/aiohappyeyeballs/impl.py\", line 208, in _connect_sock\n",
      "    await loop.sock_connect(sock, address)\n",
      "  File \"/opt/anaconda3/envs/quants-lab/lib/python3.12/asyncio/selector_events.py\", line 651, in sock_connect\n",
      "    return await fut\n",
      "           ^^^^^^^^^\n",
      "  File \"/opt/anaconda3/envs/quants-lab/lib/python3.12/asyncio/selector_events.py\", line 691, in _sock_connect_cb\n",
      "    raise OSError(err, f'Connect call failed {address}')\n",
      "ConnectionRefusedError: [Errno 61] Connect call failed ('18.65.54.47', 443)\n",
      "\n",
      "The above exception was the direct cause of the following exception:\n",
      "\n",
      "Traceback (most recent call last):\n",
      "  File \"/opt/anaconda3/envs/quants-lab/lib/python3.12/site-packages/hummingbot/data_feed/candles_feed/candles_base.py\", line 172, in get_historical_candles\n",
      "    candles = await self.fetch_candles(start_time=current_start_time,\n",
      "              ^^^^^^^^^^^^^^^^^^^^^^^^^^^^^^^^^^^^^^^^^^^^^^^^^^^^^^^\n",
      "  File \"/opt/anaconda3/envs/quants-lab/lib/python3.12/site-packages/hummingbot/data_feed/candles_feed/candles_base.py\", line 258, in fetch_candles\n",
      "    candles = await rest_assistant.execute_request(url=self.candles_url,\n",
      "              ^^^^^^^^^^^^^^^^^^^^^^^^^^^^^^^^^^^^^^^^^^^^^^^^^^^^^^^^^^\n",
      "  File \"/opt/anaconda3/envs/quants-lab/lib/python3.12/site-packages/hummingbot/core/web_assistant/rest_assistant.py\", line 47, in execute_request\n",
      "    response = await self.execute_request_and_get_response(\n",
      "               ^^^^^^^^^^^^^^^^^^^^^^^^^^^^^^^^^^^^^^^^^^^^\n",
      "  File \"/opt/anaconda3/envs/quants-lab/lib/python3.12/site-packages/hummingbot/core/web_assistant/rest_assistant.py\", line 94, in execute_request_and_get_response\n",
      "    response = await self.call(request=request, timeout=timeout)\n",
      "               ^^^^^^^^^^^^^^^^^^^^^^^^^^^^^^^^^^^^^^^^^^^^^^^^^\n",
      "  File \"/opt/anaconda3/envs/quants-lab/lib/python3.12/site-packages/hummingbot/core/web_assistant/rest_assistant.py\", line 108, in call\n",
      "    resp = await wait_for(self._connection.call(request), timeout)\n",
      "           ^^^^^^^^^^^^^^^^^^^^^^^^^^^^^^^^^^^^^^^^^^^^^^^^^^^^^^^\n",
      "  File \"/opt/anaconda3/envs/quants-lab/lib/python3.12/asyncio/tasks.py\", line 520, in wait_for\n",
      "    return await fut\n",
      "           ^^^^^^^^^\n",
      "  File \"/opt/anaconda3/envs/quants-lab/lib/python3.12/site-packages/hummingbot/core/web_assistant/connections/rest_connection.py\", line 10, in call\n",
      "    aiohttp_resp = await self._client_session.request(\n",
      "                   ^^^^^^^^^^^^^^^^^^^^^^^^^^^^^^^^^^^\n",
      "  File \"/opt/anaconda3/envs/quants-lab/lib/python3.12/site-packages/aiohttp/client.py\", line 770, in _request\n",
      "    resp = await handler(req)\n",
      "           ^^^^^^^^^^^^^^^^^^\n",
      "  File \"/opt/anaconda3/envs/quants-lab/lib/python3.12/site-packages/aiohttp/client.py\", line 725, in _connect_and_send_request\n",
      "    conn = await self._connector.connect(\n",
      "           ^^^^^^^^^^^^^^^^^^^^^^^^^^^^^^\n",
      "  File \"/opt/anaconda3/envs/quants-lab/lib/python3.12/site-packages/aiohttp/connector.py\", line 642, in connect\n",
      "    proto = await self._create_connection(req, traces, timeout)\n",
      "            ^^^^^^^^^^^^^^^^^^^^^^^^^^^^^^^^^^^^^^^^^^^^^^^^^^^\n",
      "  File \"/opt/anaconda3/envs/quants-lab/lib/python3.12/site-packages/aiohttp/connector.py\", line 1209, in _create_connection\n",
      "    _, proto = await self._create_direct_connection(req, traces, timeout)\n",
      "               ^^^^^^^^^^^^^^^^^^^^^^^^^^^^^^^^^^^^^^^^^^^^^^^^^^^^^^^^^^\n",
      "  File \"/opt/anaconda3/envs/quants-lab/lib/python3.12/site-packages/aiohttp/connector.py\", line 1581, in _create_direct_connection\n",
      "    raise last_exc\n",
      "  File \"/opt/anaconda3/envs/quants-lab/lib/python3.12/site-packages/aiohttp/connector.py\", line 1550, in _create_direct_connection\n",
      "    transp, proto = await self._wrap_create_connection(\n",
      "                    ^^^^^^^^^^^^^^^^^^^^^^^^^^^^^^^^^^^\n",
      "  File \"/opt/anaconda3/envs/quants-lab/lib/python3.12/site-packages/aiohttp/connector.py\", line 1291, in _wrap_create_connection\n",
      "    raise client_error(req.connection_key, exc) from exc\n",
      "aiohttp.client_exceptions.ClientConnectorError: Cannot connect to host api.binance.com:443 ssl:default [Connect call failed ('18.65.54.47', 443)]\n",
      "2025-09-09 11:06:45,982 - core.data_sources.clob - ERROR - Error fetching candles for binance BTC-USDT 1s: ClientConnectorError - Cannot connect to host api.binance.com:443 ssl:default [Connect call failed ('18.65.54.47', 443)]\n"
     ]
    },
    {
     "ename": "ClientConnectorError",
     "evalue": "Cannot connect to host api.binance.com:443 ssl:default [Connect call failed ('18.65.54.47', 443)]",
     "output_type": "error",
     "traceback": [
      "\u001B[31m---------------------------------------------------------------------------\u001B[39m",
      "\u001B[31mConnectionRefusedError\u001B[39m                    Traceback (most recent call last)",
      "\u001B[36mFile \u001B[39m\u001B[32m/opt/anaconda3/envs/quants-lab/lib/python3.12/site-packages/aiohttp/connector.py:1268\u001B[39m, in \u001B[36mTCPConnector._wrap_create_connection\u001B[39m\u001B[34m(self, addr_infos, req, timeout, client_error, *args, **kwargs)\u001B[39m\n\u001B[32m   1265\u001B[39m \u001B[38;5;28;01masync\u001B[39;00m \u001B[38;5;28;01mwith\u001B[39;00m ceil_timeout(\n\u001B[32m   1266\u001B[39m     timeout.sock_connect, ceil_threshold=timeout.ceil_threshold\n\u001B[32m   1267\u001B[39m ):\n\u001B[32m-> \u001B[39m\u001B[32m1268\u001B[39m     sock = \u001B[38;5;28;01mawait\u001B[39;00m aiohappyeyeballs.start_connection(\n\u001B[32m   1269\u001B[39m         addr_infos=addr_infos,\n\u001B[32m   1270\u001B[39m         local_addr_infos=\u001B[38;5;28mself\u001B[39m._local_addr_infos,\n\u001B[32m   1271\u001B[39m         happy_eyeballs_delay=\u001B[38;5;28mself\u001B[39m._happy_eyeballs_delay,\n\u001B[32m   1272\u001B[39m         interleave=\u001B[38;5;28mself\u001B[39m._interleave,\n\u001B[32m   1273\u001B[39m         loop=\u001B[38;5;28mself\u001B[39m._loop,\n\u001B[32m   1274\u001B[39m         socket_factory=\u001B[38;5;28mself\u001B[39m._socket_factory,\n\u001B[32m   1275\u001B[39m     )\n\u001B[32m   1276\u001B[39m     \u001B[38;5;66;03m# Add ssl_shutdown_timeout for Python 3.11+ when SSL is used\u001B[39;00m\n",
      "\u001B[36mFile \u001B[39m\u001B[32m/opt/anaconda3/envs/quants-lab/lib/python3.12/site-packages/aiohappyeyeballs/impl.py:122\u001B[39m, in \u001B[36mstart_connection\u001B[39m\u001B[34m(addr_infos, local_addr_infos, happy_eyeballs_delay, interleave, loop, socket_factory)\u001B[39m\n\u001B[32m    121\u001B[39m \u001B[38;5;28;01mif\u001B[39;00m \u001B[38;5;28mlen\u001B[39m(all_exceptions) == \u001B[32m1\u001B[39m:\n\u001B[32m--> \u001B[39m\u001B[32m122\u001B[39m     \u001B[38;5;28;01mraise\u001B[39;00m first_exception\n\u001B[32m    123\u001B[39m \u001B[38;5;28;01melse\u001B[39;00m:\n\u001B[32m    124\u001B[39m     \u001B[38;5;66;03m# If they all have the same str(), raise one.\u001B[39;00m\n",
      "\u001B[36mFile \u001B[39m\u001B[32m/opt/anaconda3/envs/quants-lab/lib/python3.12/site-packages/aiohappyeyeballs/impl.py:73\u001B[39m, in \u001B[36mstart_connection\u001B[39m\u001B[34m(addr_infos, local_addr_infos, happy_eyeballs_delay, interleave, loop, socket_factory)\u001B[39m\n\u001B[32m     72\u001B[39m \u001B[38;5;28;01mtry\u001B[39;00m:\n\u001B[32m---> \u001B[39m\u001B[32m73\u001B[39m     sock = \u001B[38;5;28;01mawait\u001B[39;00m _connect_sock(\n\u001B[32m     74\u001B[39m         current_loop,\n\u001B[32m     75\u001B[39m         exceptions,\n\u001B[32m     76\u001B[39m         addrinfo,\n\u001B[32m     77\u001B[39m         local_addr_infos,\n\u001B[32m     78\u001B[39m         \u001B[38;5;28;01mNone\u001B[39;00m,\n\u001B[32m     79\u001B[39m         socket_factory,\n\u001B[32m     80\u001B[39m     )\n\u001B[32m     81\u001B[39m     \u001B[38;5;28;01mbreak\u001B[39;00m\n",
      "\u001B[36mFile \u001B[39m\u001B[32m/opt/anaconda3/envs/quants-lab/lib/python3.12/site-packages/aiohappyeyeballs/impl.py:208\u001B[39m, in \u001B[36m_connect_sock\u001B[39m\u001B[34m(loop, exceptions, addr_info, local_addr_infos, open_sockets, socket_factory)\u001B[39m\n\u001B[32m    207\u001B[39m             \u001B[38;5;28;01mraise\u001B[39;00m \u001B[38;5;167;01mOSError\u001B[39;00m(\u001B[33mf\u001B[39m\u001B[33m\"\u001B[39m\u001B[33mno matching local address with \u001B[39m\u001B[38;5;132;01m{\u001B[39;00mfamily\u001B[38;5;132;01m=}\u001B[39;00m\u001B[33m found\u001B[39m\u001B[33m\"\u001B[39m)\n\u001B[32m--> \u001B[39m\u001B[32m208\u001B[39m \u001B[38;5;28;01mawait\u001B[39;00m loop.sock_connect(sock, address)\n\u001B[32m    209\u001B[39m \u001B[38;5;28;01mreturn\u001B[39;00m sock\n",
      "\u001B[36mFile \u001B[39m\u001B[32m/opt/anaconda3/envs/quants-lab/lib/python3.12/asyncio/selector_events.py:651\u001B[39m, in \u001B[36mBaseSelectorEventLoop.sock_connect\u001B[39m\u001B[34m(self, sock, address)\u001B[39m\n\u001B[32m    650\u001B[39m \u001B[38;5;28;01mtry\u001B[39;00m:\n\u001B[32m--> \u001B[39m\u001B[32m651\u001B[39m     \u001B[38;5;28;01mreturn\u001B[39;00m \u001B[38;5;28;01mawait\u001B[39;00m fut\n\u001B[32m    652\u001B[39m \u001B[38;5;28;01mfinally\u001B[39;00m:\n\u001B[32m    653\u001B[39m     \u001B[38;5;66;03m# Needed to break cycles when an exception occurs.\u001B[39;00m\n",
      "\u001B[36mFile \u001B[39m\u001B[32m/opt/anaconda3/envs/quants-lab/lib/python3.12/asyncio/selector_events.py:691\u001B[39m, in \u001B[36mBaseSelectorEventLoop._sock_connect_cb\u001B[39m\u001B[34m(self, fut, sock, address)\u001B[39m\n\u001B[32m    689\u001B[39m     \u001B[38;5;28;01mif\u001B[39;00m err != \u001B[32m0\u001B[39m:\n\u001B[32m    690\u001B[39m         \u001B[38;5;66;03m# Jump to any except clause below.\u001B[39;00m\n\u001B[32m--> \u001B[39m\u001B[32m691\u001B[39m         \u001B[38;5;28;01mraise\u001B[39;00m \u001B[38;5;167;01mOSError\u001B[39;00m(err, \u001B[33mf\u001B[39m\u001B[33m'\u001B[39m\u001B[33mConnect call failed \u001B[39m\u001B[38;5;132;01m{\u001B[39;00maddress\u001B[38;5;132;01m}\u001B[39;00m\u001B[33m'\u001B[39m)\n\u001B[32m    692\u001B[39m \u001B[38;5;28;01mexcept\u001B[39;00m (\u001B[38;5;167;01mBlockingIOError\u001B[39;00m, \u001B[38;5;167;01mInterruptedError\u001B[39;00m):\n\u001B[32m    693\u001B[39m     \u001B[38;5;66;03m# socket is still registered, the callback will be retried later\u001B[39;00m\n",
      "\u001B[31mConnectionRefusedError\u001B[39m: [Errno 61] Connect call failed ('18.65.54.47', 443)",
      "\nThe above exception was the direct cause of the following exception:\n",
      "\u001B[31mClientConnectorError\u001B[39m                      Traceback (most recent call last)",
      "\u001B[36mCell\u001B[39m\u001B[36m \u001B[39m\u001B[32mIn[3]\u001B[39m\u001B[32m, line 1\u001B[39m\n\u001B[32m----> \u001B[39m\u001B[32m1\u001B[39m \u001B[38;5;28;01mawait\u001B[39;00m clob.get_candles_last_days(CONNECTOR_NAME, TRADING_PAIR, INTERVAL, DAYS)\n\u001B[32m      2\u001B[39m clob.dump_candles_cache()\n",
      "\u001B[36mFile \u001B[39m\u001B[32m~/Documents/code/quants-lab/core/data_sources/clob.py:162\u001B[39m, in \u001B[36mCLOBDataSource.get_candles_last_days\u001B[39m\u001B[34m(self, connector_name, trading_pair, interval, days, from_trades)\u001B[39m\n\u001B[32m    160\u001B[39m end_time = \u001B[38;5;28mint\u001B[39m(time.time())\n\u001B[32m    161\u001B[39m start_time = end_time - days * \u001B[32m24\u001B[39m * \u001B[32m60\u001B[39m * \u001B[32m60\u001B[39m\n\u001B[32m--> \u001B[39m\u001B[32m162\u001B[39m \u001B[38;5;28;01mreturn\u001B[39;00m \u001B[38;5;28;01mawait\u001B[39;00m \u001B[38;5;28mself\u001B[39m.get_candles(connector_name, trading_pair, interval, start_time, end_time, from_trades)\n",
      "\u001B[36mFile \u001B[39m\u001B[32m~/Documents/code/quants-lab/core/data_sources/clob.py:128\u001B[39m, in \u001B[36mCLOBDataSource.get_candles\u001B[39m\u001B[34m(self, connector_name, trading_pair, interval, start_time, end_time, from_trades)\u001B[39m\n\u001B[32m    122\u001B[39m \u001B[38;5;28;01melse\u001B[39;00m:\n\u001B[32m    123\u001B[39m     candle = \u001B[38;5;28mself\u001B[39m.candles_factory.get_candle(CandlesConfig(\n\u001B[32m    124\u001B[39m         connector=connector_name,\n\u001B[32m    125\u001B[39m         trading_pair=trading_pair,\n\u001B[32m    126\u001B[39m         interval=interval\n\u001B[32m    127\u001B[39m     ))\n\u001B[32m--> \u001B[39m\u001B[32m128\u001B[39m     candles_df = \u001B[38;5;28;01mawait\u001B[39;00m candle.get_historical_candles(HistoricalCandlesConfig(\n\u001B[32m    129\u001B[39m         connector_name=connector_name,\n\u001B[32m    130\u001B[39m         trading_pair=trading_pair,\n\u001B[32m    131\u001B[39m         start_time=new_start_time,\n\u001B[32m    132\u001B[39m         end_time=new_end_time,\n\u001B[32m    133\u001B[39m         interval=interval\n\u001B[32m    134\u001B[39m     ))\n\u001B[32m    135\u001B[39m     \u001B[38;5;28;01mif\u001B[39;00m candles_df \u001B[38;5;129;01mis\u001B[39;00m \u001B[38;5;28;01mNone\u001B[39;00m:\n\u001B[32m    136\u001B[39m         \u001B[38;5;28;01mreturn\u001B[39;00m Candles(candles_df=pd.DataFrame(), connector_name=connector_name, trading_pair=trading_pair,\n\u001B[32m    137\u001B[39m                        interval=interval)\n",
      "\u001B[36mFile \u001B[39m\u001B[32m/opt/anaconda3/envs/quants-lab/lib/python3.12/site-packages/hummingbot/data_feed/candles_feed/candles_base.py:193\u001B[39m, in \u001B[36mCandlesBase.get_historical_candles\u001B[39m\u001B[34m(self, config)\u001B[39m\n\u001B[32m    191\u001B[39m \u001B[38;5;28;01mexcept\u001B[39;00m \u001B[38;5;167;01mException\u001B[39;00m \u001B[38;5;28;01mas\u001B[39;00m e:\n\u001B[32m    192\u001B[39m     \u001B[38;5;28mself\u001B[39m.logger().exception(\u001B[33mf\u001B[39m\u001B[33m\"\u001B[39m\u001B[33mError fetching historical candles: \u001B[39m\u001B[38;5;132;01m{\u001B[39;00m\u001B[38;5;28mstr\u001B[39m(e)\u001B[38;5;132;01m}\u001B[39;00m\u001B[33m\"\u001B[39m)\n\u001B[32m--> \u001B[39m\u001B[32m193\u001B[39m     \u001B[38;5;28;01mraise\u001B[39;00m e\n",
      "\u001B[36mFile \u001B[39m\u001B[32m/opt/anaconda3/envs/quants-lab/lib/python3.12/site-packages/hummingbot/data_feed/candles_feed/candles_base.py:172\u001B[39m, in \u001B[36mCandlesBase.get_historical_candles\u001B[39m\u001B[34m(self, config)\u001B[39m\n\u001B[32m    170\u001B[39m \u001B[38;5;28;01mwhile\u001B[39;00m current_end_time >= current_start_time:\n\u001B[32m    171\u001B[39m     missing_records = \u001B[38;5;28mint\u001B[39m((current_end_time - current_start_time) / \u001B[38;5;28mself\u001B[39m.interval_in_seconds)\n\u001B[32m--> \u001B[39m\u001B[32m172\u001B[39m     candles = \u001B[38;5;28;01mawait\u001B[39;00m \u001B[38;5;28mself\u001B[39m.fetch_candles(start_time=current_start_time,\n\u001B[32m    173\u001B[39m                                        end_time=current_end_time,\n\u001B[32m    174\u001B[39m                                        limit=missing_records)\n\u001B[32m    175\u001B[39m     \u001B[38;5;28;01mif\u001B[39;00m \u001B[38;5;28mlen\u001B[39m(candles) <= \u001B[32m1\u001B[39m \u001B[38;5;129;01mor\u001B[39;00m missing_records == \u001B[32m0\u001B[39m:\n\u001B[32m    176\u001B[39m         fetched_candles_df = pd.DataFrame(candles, columns=\u001B[38;5;28mself\u001B[39m.columns)\n",
      "\u001B[36mFile \u001B[39m\u001B[32m/opt/anaconda3/envs/quants-lab/lib/python3.12/site-packages/hummingbot/data_feed/candles_feed/candles_base.py:258\u001B[39m, in \u001B[36mCandlesBase.fetch_candles\u001B[39m\u001B[34m(self, start_time, end_time, limit)\u001B[39m\n\u001B[32m    256\u001B[39m headers = \u001B[38;5;28mself\u001B[39m._get_rest_candles_headers()\n\u001B[32m    257\u001B[39m rest_assistant = \u001B[38;5;28;01mawait\u001B[39;00m \u001B[38;5;28mself\u001B[39m._api_factory.get_rest_assistant()\n\u001B[32m--> \u001B[39m\u001B[32m258\u001B[39m candles = \u001B[38;5;28;01mawait\u001B[39;00m rest_assistant.execute_request(url=\u001B[38;5;28mself\u001B[39m.candles_url,\n\u001B[32m    259\u001B[39m                                                throttler_limit_id=\u001B[38;5;28mself\u001B[39m._rest_throttler_limit_id,\n\u001B[32m    260\u001B[39m                                                params=params,\n\u001B[32m    261\u001B[39m                                                data=\u001B[38;5;28mself\u001B[39m._rest_payload(**kwargs),\n\u001B[32m    262\u001B[39m                                                headers=headers,\n\u001B[32m    263\u001B[39m                                                method=\u001B[38;5;28mself\u001B[39m._rest_method)\n\u001B[32m    264\u001B[39m arr = \u001B[38;5;28mself\u001B[39m._parse_rest_candles(candles, end_time)\n\u001B[32m    265\u001B[39m \u001B[38;5;28;01mreturn\u001B[39;00m np.array(arr).astype(\u001B[38;5;28mfloat\u001B[39m)\n",
      "\u001B[36mFile \u001B[39m\u001B[32m/opt/anaconda3/envs/quants-lab/lib/python3.12/site-packages/hummingbot/core/web_assistant/rest_assistant.py:47\u001B[39m, in \u001B[36mRESTAssistant.execute_request\u001B[39m\u001B[34m(self, url, throttler_limit_id, params, data, method, is_auth_required, return_err, timeout, headers)\u001B[39m\n\u001B[32m     35\u001B[39m \u001B[38;5;28;01masync\u001B[39;00m \u001B[38;5;28;01mdef\u001B[39;00m\u001B[38;5;250m \u001B[39m\u001B[34mexecute_request\u001B[39m(\n\u001B[32m     36\u001B[39m     \u001B[38;5;28mself\u001B[39m,\n\u001B[32m     37\u001B[39m     url: \u001B[38;5;28mstr\u001B[39m,\n\u001B[32m   (...)\u001B[39m\u001B[32m     45\u001B[39m     headers: Optional[Dict[\u001B[38;5;28mstr\u001B[39m, Any]] = \u001B[38;5;28;01mNone\u001B[39;00m,\n\u001B[32m     46\u001B[39m ) -> Union[\u001B[38;5;28mstr\u001B[39m, Dict[\u001B[38;5;28mstr\u001B[39m, Any]]:\n\u001B[32m---> \u001B[39m\u001B[32m47\u001B[39m     response = \u001B[38;5;28;01mawait\u001B[39;00m \u001B[38;5;28mself\u001B[39m.execute_request_and_get_response(\n\u001B[32m     48\u001B[39m         url=url,\n\u001B[32m     49\u001B[39m         throttler_limit_id=throttler_limit_id,\n\u001B[32m     50\u001B[39m         params=params,\n\u001B[32m     51\u001B[39m         data=data,\n\u001B[32m     52\u001B[39m         method=method,\n\u001B[32m     53\u001B[39m         is_auth_required=is_auth_required,\n\u001B[32m     54\u001B[39m         return_err=return_err,\n\u001B[32m     55\u001B[39m         timeout=timeout,\n\u001B[32m     56\u001B[39m         headers=headers,\n\u001B[32m     57\u001B[39m     )\n\u001B[32m     58\u001B[39m     response_json = \u001B[38;5;28;01mawait\u001B[39;00m response.json()\n\u001B[32m     59\u001B[39m     \u001B[38;5;28;01mreturn\u001B[39;00m response_json\n",
      "\u001B[36mFile \u001B[39m\u001B[32m/opt/anaconda3/envs/quants-lab/lib/python3.12/site-packages/hummingbot/core/web_assistant/rest_assistant.py:94\u001B[39m, in \u001B[36mRESTAssistant.execute_request_and_get_response\u001B[39m\u001B[34m(self, url, throttler_limit_id, params, data, method, is_auth_required, return_err, timeout, headers)\u001B[39m\n\u001B[32m     83\u001B[39m request = RESTRequest(\n\u001B[32m     84\u001B[39m     method=method,\n\u001B[32m     85\u001B[39m     url=url,\n\u001B[32m   (...)\u001B[39m\u001B[32m     90\u001B[39m     throttler_limit_id=throttler_limit_id\n\u001B[32m     91\u001B[39m )\n\u001B[32m     93\u001B[39m \u001B[38;5;28;01masync\u001B[39;00m \u001B[38;5;28;01mwith\u001B[39;00m \u001B[38;5;28mself\u001B[39m._throttler.execute_task(limit_id=throttler_limit_id):\n\u001B[32m---> \u001B[39m\u001B[32m94\u001B[39m     response = \u001B[38;5;28;01mawait\u001B[39;00m \u001B[38;5;28mself\u001B[39m.call(request=request, timeout=timeout)\n\u001B[32m     96\u001B[39m     \u001B[38;5;28;01mif\u001B[39;00m \u001B[32m400\u001B[39m <= response.status:\n\u001B[32m     97\u001B[39m         \u001B[38;5;28;01mif\u001B[39;00m \u001B[38;5;129;01mnot\u001B[39;00m return_err:\n",
      "\u001B[36mFile \u001B[39m\u001B[32m/opt/anaconda3/envs/quants-lab/lib/python3.12/site-packages/hummingbot/core/web_assistant/rest_assistant.py:108\u001B[39m, in \u001B[36mRESTAssistant.call\u001B[39m\u001B[34m(self, request, timeout)\u001B[39m\n\u001B[32m    106\u001B[39m request = \u001B[38;5;28;01mawait\u001B[39;00m \u001B[38;5;28mself\u001B[39m._pre_process_request(request)\n\u001B[32m    107\u001B[39m request = \u001B[38;5;28;01mawait\u001B[39;00m \u001B[38;5;28mself\u001B[39m._authenticate(request)\n\u001B[32m--> \u001B[39m\u001B[32m108\u001B[39m resp = \u001B[38;5;28;01mawait\u001B[39;00m wait_for(\u001B[38;5;28mself\u001B[39m._connection.call(request), timeout)\n\u001B[32m    109\u001B[39m resp = \u001B[38;5;28;01mawait\u001B[39;00m \u001B[38;5;28mself\u001B[39m._post_process_response(resp)\n\u001B[32m    110\u001B[39m \u001B[38;5;28;01mreturn\u001B[39;00m resp\n",
      "\u001B[36mFile \u001B[39m\u001B[32m/opt/anaconda3/envs/quants-lab/lib/python3.12/asyncio/tasks.py:520\u001B[39m, in \u001B[36mwait_for\u001B[39m\u001B[34m(fut, timeout)\u001B[39m\n\u001B[32m    517\u001B[39m         \u001B[38;5;28;01mraise\u001B[39;00m \u001B[38;5;167;01mTimeoutError\u001B[39;00m \u001B[38;5;28;01mfrom\u001B[39;00m\u001B[38;5;250m \u001B[39m\u001B[34;01mexc\u001B[39;00m\n\u001B[32m    519\u001B[39m \u001B[38;5;28;01masync\u001B[39;00m \u001B[38;5;28;01mwith\u001B[39;00m timeouts.timeout(timeout):\n\u001B[32m--> \u001B[39m\u001B[32m520\u001B[39m     \u001B[38;5;28;01mreturn\u001B[39;00m \u001B[38;5;28;01mawait\u001B[39;00m fut\n",
      "\u001B[36mFile \u001B[39m\u001B[32m/opt/anaconda3/envs/quants-lab/lib/python3.12/site-packages/hummingbot/core/web_assistant/connections/rest_connection.py:10\u001B[39m, in \u001B[36mRESTConnection.call\u001B[39m\u001B[34m(self, request)\u001B[39m\n\u001B[32m      9\u001B[39m \u001B[38;5;28;01masync\u001B[39;00m \u001B[38;5;28;01mdef\u001B[39;00m\u001B[38;5;250m \u001B[39m\u001B[34mcall\u001B[39m(\u001B[38;5;28mself\u001B[39m, request: RESTRequest) -> RESTResponse:\n\u001B[32m---> \u001B[39m\u001B[32m10\u001B[39m     aiohttp_resp = \u001B[38;5;28;01mawait\u001B[39;00m \u001B[38;5;28mself\u001B[39m._client_session.request(\n\u001B[32m     11\u001B[39m         method=request.method.value,\n\u001B[32m     12\u001B[39m         url=request.url,\n\u001B[32m     13\u001B[39m         params=request.params,\n\u001B[32m     14\u001B[39m         data=request.data,\n\u001B[32m     15\u001B[39m         headers=request.headers,\n\u001B[32m     16\u001B[39m     )\n\u001B[32m     18\u001B[39m     resp = \u001B[38;5;28;01mawait\u001B[39;00m \u001B[38;5;28mself\u001B[39m._build_resp(aiohttp_resp)\n\u001B[32m     19\u001B[39m     \u001B[38;5;28;01mreturn\u001B[39;00m resp\n",
      "\u001B[36mFile \u001B[39m\u001B[32m/opt/anaconda3/envs/quants-lab/lib/python3.12/site-packages/aiohttp/client.py:770\u001B[39m, in \u001B[36mClientSession._request\u001B[39m\u001B[34m(self, method, str_or_url, params, data, json, cookies, headers, skip_auto_headers, auth, allow_redirects, max_redirects, compress, chunked, expect100, raise_for_status, read_until_eof, proxy, proxy_auth, timeout, verify_ssl, fingerprint, ssl_context, ssl, server_hostname, proxy_headers, trace_request_ctx, read_bufsize, auto_decompress, max_line_size, max_field_size, middlewares)\u001B[39m\n\u001B[32m    767\u001B[39m     handler = _connect_and_send_request\n\u001B[32m    769\u001B[39m \u001B[38;5;28;01mtry\u001B[39;00m:\n\u001B[32m--> \u001B[39m\u001B[32m770\u001B[39m     resp = \u001B[38;5;28;01mawait\u001B[39;00m handler(req)\n\u001B[32m    771\u001B[39m \u001B[38;5;66;03m# Client connector errors should not be retried\u001B[39;00m\n\u001B[32m    772\u001B[39m \u001B[38;5;28;01mexcept\u001B[39;00m (\n\u001B[32m    773\u001B[39m     ConnectionTimeoutError,\n\u001B[32m    774\u001B[39m     ClientConnectorError,\n\u001B[32m    775\u001B[39m     ClientConnectorCertificateError,\n\u001B[32m    776\u001B[39m     ClientConnectorSSLError,\n\u001B[32m    777\u001B[39m ):\n",
      "\u001B[36mFile \u001B[39m\u001B[32m/opt/anaconda3/envs/quants-lab/lib/python3.12/site-packages/aiohttp/client.py:725\u001B[39m, in \u001B[36mClientSession._request.<locals>._connect_and_send_request\u001B[39m\u001B[34m(req)\u001B[39m\n\u001B[32m    723\u001B[39m \u001B[38;5;28;01massert\u001B[39;00m \u001B[38;5;28mself\u001B[39m._connector \u001B[38;5;129;01mis\u001B[39;00m \u001B[38;5;129;01mnot\u001B[39;00m \u001B[38;5;28;01mNone\u001B[39;00m\n\u001B[32m    724\u001B[39m \u001B[38;5;28;01mtry\u001B[39;00m:\n\u001B[32m--> \u001B[39m\u001B[32m725\u001B[39m     conn = \u001B[38;5;28;01mawait\u001B[39;00m \u001B[38;5;28mself\u001B[39m._connector.connect(\n\u001B[32m    726\u001B[39m         req, traces=traces, timeout=real_timeout\n\u001B[32m    727\u001B[39m     )\n\u001B[32m    728\u001B[39m \u001B[38;5;28;01mexcept\u001B[39;00m asyncio.TimeoutError \u001B[38;5;28;01mas\u001B[39;00m exc:\n\u001B[32m    729\u001B[39m     \u001B[38;5;28;01mraise\u001B[39;00m ConnectionTimeoutError(\n\u001B[32m    730\u001B[39m         \u001B[33mf\u001B[39m\u001B[33m\"\u001B[39m\u001B[33mConnection timeout to host \u001B[39m\u001B[38;5;132;01m{\u001B[39;00mreq.url\u001B[38;5;132;01m}\u001B[39;00m\u001B[33m\"\u001B[39m\n\u001B[32m    731\u001B[39m     ) \u001B[38;5;28;01mfrom\u001B[39;00m\u001B[38;5;250m \u001B[39m\u001B[34;01mexc\u001B[39;00m\n",
      "\u001B[36mFile \u001B[39m\u001B[32m/opt/anaconda3/envs/quants-lab/lib/python3.12/site-packages/aiohttp/connector.py:642\u001B[39m, in \u001B[36mBaseConnector.connect\u001B[39m\u001B[34m(self, req, traces, timeout)\u001B[39m\n\u001B[32m    640\u001B[39m     \u001B[38;5;28;01mfor\u001B[39;00m trace \u001B[38;5;129;01min\u001B[39;00m traces:\n\u001B[32m    641\u001B[39m         \u001B[38;5;28;01mawait\u001B[39;00m trace.send_connection_create_start()\n\u001B[32m--> \u001B[39m\u001B[32m642\u001B[39m proto = \u001B[38;5;28;01mawait\u001B[39;00m \u001B[38;5;28mself\u001B[39m._create_connection(req, traces, timeout)\n\u001B[32m    643\u001B[39m \u001B[38;5;28;01mif\u001B[39;00m traces:\n\u001B[32m    644\u001B[39m     \u001B[38;5;28;01mfor\u001B[39;00m trace \u001B[38;5;129;01min\u001B[39;00m traces:\n",
      "\u001B[36mFile \u001B[39m\u001B[32m/opt/anaconda3/envs/quants-lab/lib/python3.12/site-packages/aiohttp/connector.py:1209\u001B[39m, in \u001B[36mTCPConnector._create_connection\u001B[39m\u001B[34m(self, req, traces, timeout)\u001B[39m\n\u001B[32m   1207\u001B[39m     _, proto = \u001B[38;5;28;01mawait\u001B[39;00m \u001B[38;5;28mself\u001B[39m._create_proxy_connection(req, traces, timeout)\n\u001B[32m   1208\u001B[39m \u001B[38;5;28;01melse\u001B[39;00m:\n\u001B[32m-> \u001B[39m\u001B[32m1209\u001B[39m     _, proto = \u001B[38;5;28;01mawait\u001B[39;00m \u001B[38;5;28mself\u001B[39m._create_direct_connection(req, traces, timeout)\n\u001B[32m   1211\u001B[39m \u001B[38;5;28;01mreturn\u001B[39;00m proto\n",
      "\u001B[36mFile \u001B[39m\u001B[32m/opt/anaconda3/envs/quants-lab/lib/python3.12/site-packages/aiohttp/connector.py:1581\u001B[39m, in \u001B[36mTCPConnector._create_direct_connection\u001B[39m\u001B[34m(self, req, traces, timeout, client_error)\u001B[39m\n\u001B[32m   1579\u001B[39m \u001B[38;5;28;01melse\u001B[39;00m:\n\u001B[32m   1580\u001B[39m     \u001B[38;5;28;01massert\u001B[39;00m last_exc \u001B[38;5;129;01mis\u001B[39;00m \u001B[38;5;129;01mnot\u001B[39;00m \u001B[38;5;28;01mNone\u001B[39;00m\n\u001B[32m-> \u001B[39m\u001B[32m1581\u001B[39m     \u001B[38;5;28;01mraise\u001B[39;00m last_exc\n",
      "\u001B[36mFile \u001B[39m\u001B[32m/opt/anaconda3/envs/quants-lab/lib/python3.12/site-packages/aiohttp/connector.py:1550\u001B[39m, in \u001B[36mTCPConnector._create_direct_connection\u001B[39m\u001B[34m(self, req, traces, timeout, client_error)\u001B[39m\n\u001B[32m   1545\u001B[39m server_hostname = (\n\u001B[32m   1546\u001B[39m     (req.server_hostname \u001B[38;5;129;01mor\u001B[39;00m host).rstrip(\u001B[33m\"\u001B[39m\u001B[33m.\u001B[39m\u001B[33m\"\u001B[39m) \u001B[38;5;28;01mif\u001B[39;00m sslcontext \u001B[38;5;28;01melse\u001B[39;00m \u001B[38;5;28;01mNone\u001B[39;00m\n\u001B[32m   1547\u001B[39m )\n\u001B[32m   1549\u001B[39m \u001B[38;5;28;01mtry\u001B[39;00m:\n\u001B[32m-> \u001B[39m\u001B[32m1550\u001B[39m     transp, proto = \u001B[38;5;28;01mawait\u001B[39;00m \u001B[38;5;28mself\u001B[39m._wrap_create_connection(\n\u001B[32m   1551\u001B[39m         \u001B[38;5;28mself\u001B[39m._factory,\n\u001B[32m   1552\u001B[39m         timeout=timeout,\n\u001B[32m   1553\u001B[39m         ssl=sslcontext,\n\u001B[32m   1554\u001B[39m         addr_infos=addr_infos,\n\u001B[32m   1555\u001B[39m         server_hostname=server_hostname,\n\u001B[32m   1556\u001B[39m         req=req,\n\u001B[32m   1557\u001B[39m         client_error=client_error,\n\u001B[32m   1558\u001B[39m     )\n\u001B[32m   1559\u001B[39m \u001B[38;5;28;01mexcept\u001B[39;00m (ClientConnectorError, asyncio.TimeoutError) \u001B[38;5;28;01mas\u001B[39;00m exc:\n\u001B[32m   1560\u001B[39m     last_exc = exc\n",
      "\u001B[36mFile \u001B[39m\u001B[32m/opt/anaconda3/envs/quants-lab/lib/python3.12/site-packages/aiohttp/connector.py:1291\u001B[39m, in \u001B[36mTCPConnector._wrap_create_connection\u001B[39m\u001B[34m(self, addr_infos, req, timeout, client_error, *args, **kwargs)\u001B[39m\n\u001B[32m   1289\u001B[39m \u001B[38;5;28;01mif\u001B[39;00m exc.errno \u001B[38;5;129;01mis\u001B[39;00m \u001B[38;5;28;01mNone\u001B[39;00m \u001B[38;5;129;01mand\u001B[39;00m \u001B[38;5;28misinstance\u001B[39m(exc, asyncio.TimeoutError):\n\u001B[32m   1290\u001B[39m     \u001B[38;5;28;01mraise\u001B[39;00m\n\u001B[32m-> \u001B[39m\u001B[32m1291\u001B[39m \u001B[38;5;28;01mraise\u001B[39;00m client_error(req.connection_key, exc) \u001B[38;5;28;01mfrom\u001B[39;00m\u001B[38;5;250m \u001B[39m\u001B[34;01mexc\u001B[39;00m\n",
      "\u001B[31mClientConnectorError\u001B[39m: Cannot connect to host api.binance.com:443 ssl:default [Connect call failed ('18.65.54.47', 443)]"
     ]
    }
   ],
   "execution_count": 3
  },
  {
   "cell_type": "code",
   "metadata": {},
   "source": [
    "btc_candles = clob.candles_cache[(\"binance\", \"BTC-USDT\", \"1s\")]"
   ],
   "outputs": [],
   "execution_count": null
  },
  {
   "cell_type": "code",
   "metadata": {},
   "source": [
    "btc_candles.plot()"
   ],
   "outputs": [],
   "execution_count": null
  },
  {
   "cell_type": "code",
   "metadata": {},
   "source": [
    "btc_candles.data"
   ],
   "outputs": [],
   "execution_count": null
  }
 ],
 "metadata": {
  "kernelspec": {
   "display_name": "Python 3 (ipykernel)",
   "language": "python",
   "name": "python3"
  },
  "language_info": {
   "codemirror_mode": {
    "name": "ipython",
    "version": 3
   },
   "file_extension": ".py",
   "mimetype": "text/x-python",
   "name": "python",
   "nbconvert_exporter": "python",
   "pygments_lexer": "ipython3",
   "version": "3.10.16"
  }
 },
 "nbformat": 4,
 "nbformat_minor": 4
}
