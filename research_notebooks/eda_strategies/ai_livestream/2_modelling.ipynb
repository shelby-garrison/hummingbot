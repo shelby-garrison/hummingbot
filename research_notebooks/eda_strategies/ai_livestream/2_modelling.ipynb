{
 "cells": [
  {
   "cell_type": "code",
   "metadata": {
    "collapsed": false,
    "jupyter": {
     "outputs_hidden": false
    }
   },
   "source": [
    "# This is necessary to recognize the modules\n",
    "import os\n",
    "import sys\n",
    "from decimal import Decimal\n",
    "import warnings\n",
    "import pandas as pd\n",
    "from sklearn.model_selection import train_test_split\n",
    "from sklearn.ensemble import RandomForestClassifier\n",
    "from sklearn.metrics import classification_report\n",
    "import joblib\n",
    "\n",
    "warnings.filterwarnings(\"ignore\")\n",
    "\n",
    "root_path = os.path.abspath(os.path.join(os.getcwd(), '../..'))\n",
    "sys.path.append(root_path)"
   ],
   "outputs": [],
   "execution_count": null
  },
  {
   "cell_type": "code",
   "metadata": {},
   "source": [
    "# Load data\n",
    "connector_name = \"binance\"\n",
    "trading_pair = \"BTC-USDT\"\n",
    "interval = \"1s\"\n",
    "\n",
    "df_with_features = pd.read_parquet(os.path.join(root_path, \"data\", \"features_df\", f\"{connector_name}|{trading_pair}|{interval}.parquet\"))\n",
    "\n",
    "# Prepare features and target\n",
    "feature_columns = [col for col in df_with_features.columns if col not in ['timestamp', 'tl', 'stop_loss_time', \n",
    "                                                                       'take_profit_time', 'close_time', 'close_type',\n",
    "                                                                       'real_class', 'ret']]\n",
    "\n",
    "X = df_with_features[feature_columns]\n",
    "y = df_with_features['close_type']\n",
    "\n",
    "# Print initial class distribution\n",
    "print(\"Initial class distribution:\")\n",
    "print(y.value_counts().sort_index())\n",
    "print(\"\\n\")\n",
    "\n",
    "\n",
    "# Get the size of the smaller classes\n",
    "target_size = df_with_features[df_with_features['close_type'] != 0].shape[0] // 2\n",
    "df_neg = df_with_features[df_with_features['close_type'] == -1]\n",
    "df_pos = df_with_features[df_with_features['close_type'] == 1]\n",
    "df_mid = df_with_features[df_with_features['close_type'] == 0].sample(n=target_size, random_state=42)\n",
    "\n",
    "# Combine the balanced dataset\n",
    "balanced_df = pd.concat([df_neg, df_mid, df_pos])\n",
    "\n",
    "X_balanced = balanced_df[feature_columns]\n",
    "y_balanced = balanced_df['close_type']\n",
    "\n",
    "# Print balanced distribution\n",
    "print(\"Balanced class distribution:\")\n",
    "print(y_balanced.value_counts().sort_index())\n",
    "print(\"\\n\")\n",
    "\n",
    "\n",
    "\n",
    "# Split the data first\n",
    "X_train, X_test, y_train, y_test = train_test_split(X_balanced, y_balanced, test_size=0.4, random_state=42, shuffle=True)\n",
    "\n",
    "\n",
    "# Initialize and train XGBoost\n",
    "model = RandomForestClassifier(\n",
    "    n_estimators=500,\n",
    "    max_depth=3,\n",
    "    random_state=42,\n",
    "    n_jobs=-1,\n",
    "    class_weight='balanced',\n",
    ")\n",
    "# Train the model\n",
    "print(\"Training model...\")\n",
    "model.fit(X_train, y_train)\n",
    "\n",
    "# Make predictions\n",
    "y_pred = model.predict(X_test)\n",
    "\n",
    "\n",
    "# Print model performance\n",
    "print(\"\\nClassification Report:\")\n",
    "print(classification_report(y_test, y_pred))\n",
    "\n",
    "# Save the model and scaler\n",
    "print(\"\\nSaving model and scaler...\")\n",
    "model_path = os.path.join(root_path, \"models\", f\"{connector_name}_{trading_pair}_{interval}_xgb_model.joblib\")\n",
    "scaler_path = os.path.join(root_path, \"models\", f\"{connector_name}_{trading_pair}_{interval}_scaler.joblib\")\n",
    "\n",
    "# Create models directory if it doesn't exist\n",
    "os.makedirs(os.path.dirname(model_path), exist_ok=True)\n",
    "\n",
    "# Save both model and scaler\n",
    "joblib.dump(model, model_path)\n",
    "\n",
    "print(f\"Model saved to: {model_path}\")"
   ],
   "outputs": [],
   "execution_count": null
  },
  {
   "cell_type": "code",
   "metadata": {},
   "source": [
    "y_test.value_counts()"
   ],
   "outputs": [],
   "execution_count": null
  },
  {
   "cell_type": "code",
   "metadata": {},
   "source": [
    "y_train.value_counts()"
   ],
   "outputs": [],
   "execution_count": null
  },
  {
   "cell_type": "code",
   "metadata": {},
   "source": [],
   "outputs": [],
   "execution_count": null
  }
 ],
 "metadata": {
  "kernelspec": {
   "display_name": "Python 3 (ipykernel)",
   "language": "python",
   "name": "python3"
  },
  "language_info": {
   "codemirror_mode": {
    "name": "ipython",
    "version": 3
   },
   "file_extension": ".py",
   "mimetype": "text/x-python",
   "name": "python",
   "nbconvert_exporter": "python",
   "pygments_lexer": "ipython3",
   "version": "3.10.16"
  }
 },
 "nbformat": 4,
 "nbformat_minor": 4
}
