{
 "cells": [
  {
   "cell_type": "markdown",
   "metadata": {
    "collapsed": false
   },
   "source": [
    "# RESEARCH NOTEBOOK --> MACDBB"
   ]
  },
  {
   "cell_type": "code",
   "execution_count": null,
   "metadata": {},
   "outputs": [],
   "source": [
    "import warnings\n",
    "\n",
    "warnings.filterwarnings(\"ignore\")\n",
    "\n",
    "import pandas_ta as ta  # noqa: F401\n",
    "from core.data_sources import CLOBDataSource\n",
    "\n",
    "# Initialize the data source\n",
    "clob = CLOBDataSource()"
   ]
  },
  {
   "cell_type": "code",
   "execution_count": null,
   "metadata": {
    "collapsed": false
   },
   "outputs": [],
   "source": [
    "# Define the parameters\n",
    "CONNECTOR_NAME = \"binance_perpetual\"\n",
    "TRADING_PAIR = \"BTC-USDT\"\n",
    "INTERVAL = \"1m\"\n",
    "DAYS = 15"
   ]
  },
  {
   "cell_type": "code",
   "execution_count": null,
   "metadata": {
    "collapsed": false
   },
   "outputs": [],
   "source": [
    "# Get the candles\n",
    "clob.load_candles_cache()\n",
    "candles = next(candle for candle in clob.candles_cache.values()\n",
    "               if candle.trading_pair == TRADING_PAIR and\n",
    "               candle.connector_name == CONNECTOR_NAME and\n",
    "               candle.interval == INTERVAL)\n",
    "if not candles:\n",
    "    candles = await clob.get_candles_last_days(CONNECTOR_NAME, TRADING_PAIR, INTERVAL, DAYS, from_trades=False)\n",
    "    clob.dump_candles_cache()"
   ]
  },
  {
   "cell_type": "code",
   "execution_count": null,
   "metadata": {
    "collapsed": false
   },
   "outputs": [],
   "source": [
    "candles.data.head()"
   ]
  },
  {
   "cell_type": "code",
   "execution_count": null,
   "metadata": {
    "collapsed": false
   },
   "outputs": [],
   "source": [
    "candles.plot(type=\"returns\")"
   ]
  },
  {
   "cell_type": "code",
   "execution_count": null,
   "metadata": {
    "collapsed": false
   },
   "outputs": [],
   "source": [
    "# Bollinger Bands\n",
    "bb_length = 100\n",
    "bb_std = 1.5\n",
    "bb_long_threshold = 0\n",
    "bb_short_threshold = 1\n",
    "\n",
    "# MACD\n",
    "macd_fast = 21\n",
    "macd_slow = 42\n",
    "macd_signal = 9\n",
    "\n",
    "# Add indicators\n",
    "candles_df = candles.data\n",
    "candles_df.ta.bbands(length=bb_length, std=bb_std, append=True)\n",
    "candles_df.ta.macd(fast=macd_fast, slow=macd_slow, signal=macd_signal, append=True)\n",
    "candles_df[[\"timestamp\", \"close\", f\"BBU_{bb_length}_{bb_std}\", f\"BBL_{bb_length}_{bb_std}\", f\"MACD_{macd_fast}_{macd_slow}_{macd_signal}\", f\"MACDs_{macd_fast}_{macd_slow}_{macd_signal}\", f\"MACDh_{macd_fast}_{macd_slow}_{macd_signal}\"]].tail(5)"
   ]
  },
  {
   "cell_type": "code",
   "execution_count": null,
   "metadata": {
    "collapsed": false
   },
   "outputs": [],
   "source": [
    "import plotly.graph_objects as go\n",
    "from plotly.subplots import make_subplots\n",
    "\n",
    "# Create figure with secondary y-axis\n",
    "fig = make_subplots(rows=2, cols=1, shared_xaxes=True, vertical_spacing=0.03, \n",
    "                    subplot_titles=(TRADING_PAIR, 'MACD'),\n",
    "                    row_heights=[0.7, 0.3])\n",
    "\n",
    "# Add candlestick\n",
    "fig.add_trace(go.Candlestick(x=candles_df.index,\n",
    "                             open=candles_df['open'],\n",
    "                             high=candles_df['high'],\n",
    "                             low=candles_df['low'],\n",
    "                             close=candles_df['close'],\n",
    "                             name='OHLC'),\n",
    "              row=1, col=1)\n",
    "\n",
    "# Add Bollinger Bands\n",
    "bb_upper = f'BBU_{bb_length}_{bb_std}'\n",
    "bb_lower = f'BBL_{bb_length}_{bb_std}'\n",
    "fig.add_trace(go.Scatter(x=candles_df.index, y=candles_df[bb_upper], \n",
    "                         line=dict(color='rgba(173, 204, 255, 0.7)'),\n",
    "                         name='BB Upper'), row=1, col=1)\n",
    "fig.add_trace(go.Scatter(x=candles_df.index, y=candles_df[bb_lower], \n",
    "                         line=dict(color='rgba(173, 204, 255, 0.7)'),\n",
    "                         fill='tonexty', fillcolor='rgba(173, 204, 255, 0.1)',\n",
    "                         name='BB Lower'), row=1, col=1)\n",
    "\n",
    "# Add MACD\n",
    "macd = f'MACD_{macd_fast}_{macd_slow}_{macd_signal}'\n",
    "macd_s = f'MACDs_{macd_fast}_{macd_slow}_{macd_signal}'\n",
    "macd_hist = f'MACDh_{macd_fast}_{macd_slow}_{macd_signal}'\n",
    "\n",
    "fig.add_trace(go.Scatter(x=candles_df.index, y=candles_df[macd], \n",
    "                         line=dict(color='#00FFFF', width=2),\n",
    "                         name='MACD'), row=2, col=1)\n",
    "fig.add_trace(go.Scatter(x=candles_df.index, y=candles_df[macd_s], \n",
    "                         line=dict(color='#FFA500', width=2),\n",
    "                         name='Signal'), row=2, col=1)\n",
    "fig.add_trace(go.Bar(x=candles_df.index, y=candles_df[macd_hist], name='Histogram',\n",
    "                     marker_color=candles_df[macd_hist].apply(\n",
    "                         lambda x: '#00FF00' if x >= 0 else '#FF0000')),\n",
    "              row=2, col=1)\n",
    "\n",
    "# Update layout for dark theme\n",
    "fig.update_layout(\n",
    "    title=f'{CONNECTOR_NAME} - {TRADING_PAIR} - {INTERVAL}',\n",
    "    width=1200, height=800,\n",
    "    font=dict(color='#e1e1e1'),\n",
    "    plot_bgcolor='#1e1e1e',\n",
    "    paper_bgcolor='#1e1e1e',\n",
    "    xaxis_rangeslider_visible=False,\n",
    "    legend=dict(bgcolor='rgba(0,0,0,0)'),\n",
    "    yaxis=dict(title='Price'),\n",
    "    yaxis2=dict(title='MACD', showgrid=False),\n",
    "    showlegend=False\n",
    ")\n",
    "\n",
    "# Update axes\n",
    "fig.update_xaxes(showgrid=True, gridwidth=1, gridcolor='#323232', zeroline=False)\n",
    "fig.update_yaxes(showgrid=True, gridwidth=1, gridcolor='#323232', zeroline=False)\n",
    "\n",
    "# Show the plot\n",
    "fig.show()"
   ]
  },
  {
   "cell_type": "code",
   "execution_count": null,
   "metadata": {
    "collapsed": false
   },
   "outputs": [],
   "source": [
    "# Generate signal\n",
    "\n",
    "candles_df[\"signal\"] = 0\n",
    "bbp = candles_df[f\"BBP_{bb_length}_{bb_std}\"]\n",
    "macdh = candles_df[f\"MACDh_{macd_fast}_{macd_slow}_{macd_signal}\"]\n",
    "macd = candles_df[f\"MACD_{macd_fast}_{macd_slow}_{macd_signal}\"]\n",
    "\n",
    "long_condition = (bbp < bb_long_threshold) & (macdh > 0) & (macd < 0)\n",
    "short_condition = (bbp > bb_short_threshold) & (macdh < 0) & (macd > 0)\n",
    "\n",
    "candles_df.loc[long_condition, \"signal\"] = 1\n",
    "candles_df.loc[short_condition, \"signal\"] = -1"
   ]
  },
  {
   "cell_type": "code",
   "execution_count": null,
   "metadata": {
    "collapsed": false
   },
   "outputs": [],
   "source": [
    "from plotly.subplots import make_subplots\n",
    "import plotly.graph_objects as go\n",
    "\n",
    "fig = make_subplots(rows=3, cols=1, shared_xaxes=True, vertical_spacing=0.02,\n",
    "                    subplot_titles=('OHLC with BB', 'MACD', 'Signal'),\n",
    "                    row_heights=[0.6, 0.2, 0.2])\n",
    "\n",
    "# Add candlestick\n",
    "fig.add_trace(go.Candlestick(x=candles_df.index,\n",
    "                             open=candles_df['open'],\n",
    "                             high=candles_df['high'],\n",
    "                             low=candles_df['low'],\n",
    "                             close=candles_df['close'],\n",
    "                             name='Candlesticks'),\n",
    "              row=1, col=1)\n",
    "\n",
    "# Add Bollinger Bands\n",
    "bb_upper = f'BBU_{bb_length}_{bb_std}'\n",
    "bb_lower = f'BBL_{bb_length}_{bb_std}'\n",
    "fig.add_trace(go.Scatter(x=candles_df.index, y=candles_df[bb_upper], \n",
    "                         line=dict(color='rgba(173, 204, 255, 0.7)'),\n",
    "                         name='BB Upper'), row=1, col=1)\n",
    "fig.add_trace(go.Scatter(x=candles_df.index, y=candles_df[bb_lower], \n",
    "                         line=dict(color='rgba(173, 204, 255, 0.7)'),\n",
    "                         fill='tonexty', fillcolor='rgba(173, 204, 255, 0.1)',\n",
    "                         name='BB Lower'), row=1, col=1)\n",
    "\n",
    "# Add MACD\n",
    "macd_line = f'MACD_{macd_fast}_{macd_slow}_{macd_signal}'\n",
    "signal_line = f'MACDs_{macd_fast}_{macd_slow}_{macd_signal}'\n",
    "hist_line = f'MACDh_{macd_fast}_{macd_slow}_{macd_signal}'\n",
    "\n",
    "fig.add_trace(go.Scatter(x=candles_df.index, y=candles_df[macd_line], \n",
    "                         line=dict(color='#00FFFF', width=2),\n",
    "                         name='MACD'), row=2, col=1)\n",
    "fig.add_trace(go.Scatter(x=candles_df.index, y=candles_df[signal_line], \n",
    "                         line=dict(color='#FFA500', width=2),\n",
    "                         name='Signal'), row=2, col=1)\n",
    "fig.add_trace(go.Bar(x=candles_df.index, y=candles_df[hist_line], name='Histogram',\n",
    "                     marker_color=candles_df[hist_line].apply(\n",
    "                         lambda x: '#00FF00' if x >= 0 else '#FF0000')),\n",
    "              row=2, col=1)\n",
    "\n",
    "# Add the signal line\n",
    "fig.add_trace(go.Scatter(x=candles_df.index, y=candles_df['signal'],\n",
    "                         mode='lines',\n",
    "                         name='Signal',\n",
    "                         line=dict(color=\"white\")),\n",
    "              row=3, col=1)\n",
    "\n",
    "# Update layout for dark theme\n",
    "fig.update_layout(\n",
    "    title=f'{CONNECTOR_NAME} - {TRADING_PAIR} - {INTERVAL}',\n",
    "    width=1200, height=800,\n",
    "    font=dict(color='#e1e1e1'),\n",
    "    plot_bgcolor='#1e1e1e',\n",
    "    paper_bgcolor='#1e1e1e',\n",
    "    xaxis_rangeslider_visible=False,\n",
    "    legend=dict(bgcolor='rgba(0,0,0,0)'),\n",
    "    yaxis=dict(title='Price'),\n",
    "    yaxis2=dict(title='MACD', showgrid=False),\n",
    "    yaxis3=dict(title='Signal', showgrid=False),\n",
    "    showlegend=False\n",
    ")\n",
    "\n",
    "# Update axes\n",
    "fig.update_xaxes(showgrid=True, gridwidth=1, gridcolor='#323232', zeroline=False)\n",
    "fig.update_yaxes(showgrid=True, gridwidth=1, gridcolor='#323232', zeroline=False)\n",
    "\n",
    "# Show the plot\n",
    "fig.show()\n"
   ]
  },
  {
   "cell_type": "markdown",
   "metadata": {
    "collapsed": false
   },
   "source": [
    "# CONCLUSION\n",
    "\n",
    "In this notebook, we have implemented a strategy combining the MACD (Moving Average Convergence Divergence) indicator with Bollinger Bands. We've visualized these indicators along with the price data and generated signals based on their interactions. This approach provides a solid foundation for our trading strategy.\n",
    " \n",
    "## Key components of our strategy include:\n",
    " 1. MACD for trend identification\n",
    " 2. Bollinger Bands for volatility measurement and potential reversal points\n",
    " 3. A signal line derived from the combination of these indicators\n",
    " \n",
    " The next step is to backtest this strategy to evaluate its profitability and robustness. For this purpose, we have created a controller file named `macd_bb.py` in this folder. This file implements the logic we've developed here, allowing us to conduct comprehensive backtests in the subsequent notebook."
   ]
  }
 ],
 "metadata": {
  "kernelspec": {
   "display_name": "base",
   "language": "python",
   "name": "python3"
  },
  "language_info": {
   "codemirror_mode": {
    "name": "ipython",
    "version": 3
   },
   "file_extension": ".py",
   "mimetype": "text/x-python",
   "name": "python",
   "nbconvert_exporter": "python",
   "pygments_lexer": "ipython3",
   "version": "3.13.5"
  }
 },
 "nbformat": 4,
 "nbformat_minor": 0
}
