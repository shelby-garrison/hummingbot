{
 "cells": [
  {
   "cell_type": "code",
   "metadata": {},
   "source": [
    "import warnings\n",
    "\n",
    "warnings.filterwarnings('ignore')\n",
    "\n",
    "from app.controllers.directional_trading.macd_bb_v1 import MACDBBV1ControllerConfig\n",
    "\n",
    "from core.backtesting.optimizer import BacktestingConfig, BaseStrategyConfigGenerator\n",
    "from hummingbot.strategy_v2.executors.position_executor.data_types import TrailingStop\n",
    "from decimal import Decimal\n",
    "\n",
    "\n",
    "class MACDBBConfigGenerator(BaseStrategyConfigGenerator):\n",
    "    \"\"\"\n",
    "    Strategy configuration generator for PMM Simple optimization.\n",
    "    \"\"\"\n",
    "    async def generate_config(self, trial) -> BacktestingConfig:\n",
    "        # Controller configuration\n",
    "        connector_name = \"binance_perpetual\"\n",
    "        trading_pair = \"BTC-USDT\"\n",
    "        total_amount_quote = 1000\n",
    "        take_profit = trial.suggest_float(\"take_profit\", 0.01, 0.03, step=0.01)\n",
    "        stop_loss = trial.suggest_float(\"stop_loss\", 0.01, 0.05, step=0.01)\n",
    "        trailing_stop_activation_price = trial.suggest_float(\"trailing_stop_activation_price\", 0.005, 0.015, step=0.01)\n",
    "        trailing_delta_ratio = trial.suggest_float(\"trailing_delta_ratio\", 0.05, 0.1, step=0.01)\n",
    "        trailing_stop_trailing_delta = trailing_stop_activation_price * trailing_delta_ratio\n",
    "        time_limit = trial.suggest_int(\"time_limit\", 60 * 60 * 2, 60 * 60 * 4, step=60 * 60)\n",
    "        cooldown_time = trial.suggest_int(\"cooldown_time\", 60 * 5, 60 * 10, step=60)\n",
    "        interval = \"3m\"\n",
    "        bb_length = trial.suggest_int(\"bb_length\", 50, 150)\n",
    "        bb_std = trial.suggest_float(\"bb_std\", 0.1, 2.0)\n",
    "        fast_ma = trial.suggest_int(\"fast_ma\", 10, 50)\n",
    "        slow_ma = trial.suggest_int(\"slow_ma\", 51, 150)\n",
    "        signal_ma = trial.suggest_int(\"signal_ma\", 5, 20)\n",
    "\n",
    "\n",
    "        # Creating the instance of the configuration and the controller\n",
    "        config = MACDBBV1ControllerConfig(\n",
    "            connector_name=connector_name,\n",
    "            trading_pair=trading_pair,\n",
    "            total_amount_quote=Decimal(total_amount_quote),\n",
    "            take_profit=Decimal(take_profit),\n",
    "            stop_loss=Decimal(stop_loss),\n",
    "            trailing_stop=TrailingStop(activation_price=Decimal(trailing_stop_activation_price), trailing_delta=Decimal(trailing_stop_trailing_delta)),\n",
    "            time_limit=time_limit,\n",
    "            cooldown_time=cooldown_time,\n",
    "            candles_connector=connector_name,\n",
    "            candles_trading_pair=trading_pair,\n",
    "            interval=interval,\n",
    "            bb_length=bb_length,\n",
    "            bb_std=bb_std,\n",
    "            macd_fast=fast_ma,\n",
    "            macd_slow=slow_ma,\n",
    "            macd_signal=signal_ma,\n",
    "        )\n",
    "\n",
    "        # Return the configuration encapsulated in BacktestingConfig\n",
    "        return BacktestingConfig(config=config, start=self.start, end=self.end)"
   ],
   "outputs": [],
   "execution_count": null
  },
  {
   "cell_type": "code",
   "metadata": {
    "is_executing": true
   },
   "source": [
    "from core.backtesting.optimizer import StrategyOptimizer\n",
    "import datetime\n",
    "\n",
    "start_date = datetime.datetime(2025, 8, 1)\n",
    "end_date = datetime.datetime(2025, 9, 1)\n",
    "config_generator = MACDBBConfigGenerator(start_date=start_date, end_date=end_date)\n",
    "\n",
    "optimizer = StrategyOptimizer()\n",
    "await optimizer.optimize(\n",
    "    study_name=\"macd_bb_with_optimizer\",\n",
    "    config_generator=config_generator,\n",
    "    n_trials=5,\n",
    ")"
   ],
   "outputs": [],
   "execution_count": null
  },
  {
   "cell_type": "code",
   "source": [
    "optimizer.launch_optuna_dashboard()\n",
    "\n",
    "# check the dashboard running on 8080"
   ],
   "metadata": {
    "collapsed": false
   },
   "outputs": [],
   "execution_count": null
  }
 ],
 "metadata": {
  "kernelspec": {
   "display_name": "Python 3",
   "language": "python",
   "name": "python3"
  },
  "language_info": {
   "codemirror_mode": {
    "name": "ipython",
    "version": 3
   },
   "file_extension": ".py",
   "mimetype": "text/x-python",
   "name": "python",
   "nbconvert_exporter": "python",
   "pygments_lexer": "ipython3",
   "version": "3.10.14"
  }
 },
 "nbformat": 4,
 "nbformat_minor": 0
}
