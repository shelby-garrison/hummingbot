{
 "cells": [
  {
   "cell_type": "code",
   "execution_count": null,
   "id": "1c3e9e2c",
   "metadata": {},
   "outputs": [],
   "source": [
    "import warnings\n",
    "\n",
    "from core.backtesting import BacktestingEngine\n",
    "\n",
    "warnings.filterwarnings(\"ignore\")\n",
    "\n",
    "\n",
    "backtesting = BacktestingEngine(load_cached_data=True)"
   ]
  },
  {
   "cell_type": "markdown",
   "id": "e2f13520",
   "metadata": {},
   "source": [
    "### STRATEGY PARAMETERS"
   ]
  },
  {
   "cell_type": "code",
   "execution_count": null,
   "id": "7a62d87d",
   "metadata": {},
   "outputs": [],
   "source": [
    "from hummingbot.strategy_v2.executors.position_executor.data_types import TrailingStop\n",
    "from app.controllers.directional_trading.ema_crossover import EMACrossoverControllerConfig\n",
    "import datetime\n",
    "from decimal import Decimal\n",
    "import pandas as pd\n",
    "import plotly.express as px\n",
    "connector_name = \"binance\"\n",
    "trading_pair = \"ZEC-USDT\"\n",
    "candles_connector = \"binance\"\n",
    "interval = \"1m\"\n",
    "\n",
    "# EMA crossover params\n",
    "fast_ema = 9\n",
    "slow_ema = 21\n",
    "\n",
    "\n",
    "total_amount_quote = 1000\n",
    "take_profit = 0.01  # 1%\n",
    "stop_loss = 0.005   # 0.5%\n",
    "trailing_stop_activation_price = 0.004\n",
    "trailing_stop_trailing_delta = 0.002\n",
    "max_executors_per_side = 2\n",
    "time_limit = 60 * 60 * 12   # 12 hours\n",
    "cooldown_time = 60 * 10     # 10 minutes\n",
    "\n",
    "# timeframe for backtest\n",
    "start = int(datetime.datetime(2025, 10, 20).timestamp())\n",
    "end = int(datetime.datetime(2025, 10, 25).timestamp())\n",
    "\n",
    "config = EMACrossoverControllerConfig(\n",
    "    connector_name=connector_name,\n",
    "    trading_pair=trading_pair,\n",
    "    candles_connector=candles_connector,\n",
    "    candles_trading_pair=trading_pair,\n",
    "    interval=interval,\n",
    "    fast_ema=fast_ema,\n",
    "    slow_ema=slow_ema,\n",
    "    total_amount_quote=Decimal(total_amount_quote),\n",
    "    take_profit=Decimal(take_profit),\n",
    "    stop_loss=Decimal(stop_loss),\n",
    "    trailing_stop=TrailingStop(\n",
    "        activation_price=Decimal(trailing_stop_activation_price),\n",
    "        trailing_delta=Decimal(trailing_stop_trailing_delta)\n",
    "    ),\n",
    "    time_limit=time_limit,\n",
    "    max_executors_per_side=max_executors_per_side,\n",
    "    cooldown_time=cooldown_time,\n",
    ")\n",
    "\n",
    "\n"
   ]
  },
  {
   "cell_type": "markdown",
   "id": "c524a649",
   "metadata": {},
   "source": [
    "###  RUN BACKTEST"
   ]
  },
  {
   "cell_type": "code",
   "execution_count": null,
   "id": "c9529992",
   "metadata": {},
   "outputs": [],
   "source": [
    "backtesting_result = await backtesting.run_backtesting(config, start, end, interval)"
   ]
  },
  {
   "cell_type": "code",
   "execution_count": null,
   "id": "d19dae30",
   "metadata": {},
   "outputs": [],
   "source": [
    "print(backtesting_result.get_results_summary())\n",
    "backtesting_result.get_backtesting_figure()"
   ]
  },
  {
   "cell_type": "markdown",
   "id": "6856634b",
   "metadata": {},
   "source": [
    "### EXECUTORS DATAFRAME"
   ]
  },
  {
   "cell_type": "code",
   "execution_count": null,
   "id": "3223c5a2",
   "metadata": {},
   "outputs": [],
   "source": [
    "executors_df = backtesting_result.executors_df\n",
    "executors_df.head()\n"
   ]
  },
  {
   "cell_type": "markdown",
   "id": "60ce50d5",
   "metadata": {},
   "source": [
    "### PNL SCATTER PLOT"
   ]
  },
  {
   "cell_type": "code",
   "execution_count": null,
   "id": "dcbafc72",
   "metadata": {},
   "outputs": [],
   "source": [
    "executors_df['profitable'] = executors_df['net_pnl_quote'] > 0\n",
    "\n",
    "fig = px.scatter(\n",
    "    executors_df,\n",
    "    x=\"timestamp\",\n",
    "    y=\"net_pnl_quote\",\n",
    "    title=\"PNL per Trade (EMA Crossover)\",\n",
    "    color=\"profitable\",\n",
    "    color_discrete_map={True: 'green', False: 'red'},\n",
    "    labels={\"timestamp\": \"Timestamp\", \"net_pnl_quote\": \"Net PNL (Quote)\"},\n",
    "    hover_data=[\"filled_amount_quote\", \"side\"]\n",
    ")\n",
    "\n",
    "fig.update_layout(\n",
    "    xaxis_title=\"Timestamp\",\n",
    "    yaxis_title=\"Net PNL (Quote)\",\n",
    "    legend_title=\"Profitable\",\n",
    "    font=dict(size=12, color=\"white\"),\n",
    "    showlegend=False,\n",
    "    plot_bgcolor='rgba(0,0,0,0.8)',\n",
    "    paper_bgcolor='rgba(0,0,0,0.8)',\n",
    "    xaxis=dict(gridcolor=\"gray\"),\n",
    "    yaxis=dict(gridcolor=\"gray\")\n",
    ")\n",
    "\n",
    "fig.add_hline(y=0, line_dash=\"dash\", line_color=\"lightgray\")\n",
    "fig.show()\n"
   ]
  },
  {
   "cell_type": "markdown",
   "id": "e6d4a47f",
   "metadata": {
    "vscode": {
     "languageId": "raw"
    }
   },
   "source": [
    "### Histogram of PNL Distribution"
   ]
  },
  {
   "cell_type": "code",
   "execution_count": null,
   "id": "107c6618",
   "metadata": {},
   "outputs": [],
   "source": [
    "fig = px.histogram(\n",
    "    executors_df,\n",
    "    x='net_pnl_quote',\n",
    "    title='PNL Distribution (EMA Crossover)'\n",
    ")\n",
    "fig.show()"
   ]
  }
 ],
 "metadata": {
  "language_info": {
   "name": "python"
  }
 },
 "nbformat": 4,
 "nbformat_minor": 5
}
