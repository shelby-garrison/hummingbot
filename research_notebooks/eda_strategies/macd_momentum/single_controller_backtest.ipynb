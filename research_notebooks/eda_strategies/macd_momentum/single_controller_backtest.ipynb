{
 "cells": [
  {
   "cell_type": "code",
   "execution_count": null,
   "id": "271df663",
   "metadata": {},
   "outputs": [],
   "source": [
    "import warnings\n",
    "from core.backtesting import BacktestingEngine\n",
    "\n",
    "warnings.filterwarnings(\"ignore\")"
   ]
  },
  {
   "cell_type": "code",
   "execution_count": null,
   "id": "69cdc7a8",
   "metadata": {},
   "outputs": [],
   "source": [
    "from hummingbot.strategy_v2.executors.position_executor.data_types import TrailingStop\n",
    "from app.controllers.directional_trading.macd_momentum import MacdMomentumControllerConfig\n",
    "import datetime\n",
    "from decimal import Decimal\n",
    "import pandas as pd\n",
    "import plotly.express as px\n",
    "\n",
    "backtesting = BacktestingEngine(load_cached_data=True)"
   ]
  },
  {
   "cell_type": "markdown",
   "id": "a396d1d1",
   "metadata": {},
   "source": [
    "### STRATEGY PARAMETERS"
   ]
  },
  {
   "cell_type": "code",
   "execution_count": null,
   "id": "9a082dbb",
   "metadata": {},
   "outputs": [],
   "source": [
    "connector_name = \"binance\"\n",
    "trading_pair = \"ZEC-USDT\"\n",
    "candles_connector = \"binance\"\n",
    "interval = \"3m\"  \n",
    "\n",
    "# MACD Momentum params\n",
    "macd_fast = 12\n",
    "macd_slow = 26\n",
    "macd_signal = 9\n",
    "rsi_period = 14\n",
    "\n",
    "\n",
    "total_amount_quote = 1000\n",
    "take_profit = 0.01    # 1% target\n",
    "stop_loss = 0.005     # 0.5% stop\n",
    "trailing_stop_activation_price = 0.004\n",
    "trailing_stop_trailing_delta = 0.002\n",
    "max_executors_per_side = 2\n",
    "time_limit = 60 * 60 * 12   # 12 hours\n",
    "cooldown_time = 60 * 10     # 10 minutes\n",
    "\n",
    "# Timeframe for backtest\n",
    "start = int(datetime.datetime(2025, 10, 20).timestamp())\n",
    "end = int(datetime.datetime(2025, 10, 25).timestamp())\n",
    "\n"
   ]
  },
  {
   "cell_type": "code",
   "execution_count": null,
   "id": "f981736c",
   "metadata": {},
   "outputs": [],
   "source": [
    "config = MacdMomentumControllerConfig(\n",
    "    connector_name=connector_name,\n",
    "    trading_pair=trading_pair,\n",
    "    candles_connector=candles_connector,\n",
    "    candles_trading_pair=trading_pair,\n",
    "    interval=interval,\n",
    "    macd_fast=macd_fast,\n",
    "    macd_slow=macd_slow,\n",
    "    macd_signal=macd_signal,\n",
    "    rsi_period=rsi_period,\n",
    "    total_amount_quote=Decimal(total_amount_quote),\n",
    "    take_profit=Decimal(take_profit),\n",
    "    stop_loss=Decimal(stop_loss),\n",
    "    trailing_stop=TrailingStop(\n",
    "        activation_price=Decimal(trailing_stop_activation_price),\n",
    "        trailing_delta=Decimal(trailing_stop_trailing_delta)\n",
    "    ),\n",
    "    time_limit=time_limit,\n",
    "    max_executors_per_side=max_executors_per_side,\n",
    "    cooldown_time=cooldown_time,\n",
    ")"
   ]
  },
  {
   "cell_type": "markdown",
   "id": "009d6026",
   "metadata": {},
   "source": [
    "### BACKTEST RUN"
   ]
  },
  {
   "cell_type": "code",
   "execution_count": null,
   "id": "683e16da",
   "metadata": {},
   "outputs": [],
   "source": [
    "backtesting_result = await backtesting.run_backtesting(config, start, end, interval)\n"
   ]
  },
  {
   "cell_type": "code",
   "execution_count": null,
   "id": "f3e3f2d1",
   "metadata": {},
   "outputs": [],
   "source": [
    "print(backtesting_result.get_results_summary())\n",
    "backtesting_result.get_backtesting_figure()"
   ]
  },
  {
   "cell_type": "code",
   "execution_count": null,
   "id": "d8304487",
   "metadata": {},
   "outputs": [],
   "source": [
    "executors_df = backtesting_result.executors_df\n",
    "executors_df.head()"
   ]
  },
  {
   "cell_type": "markdown",
   "id": "1fdadf13",
   "metadata": {},
   "source": [
    "### PNL SCATTER PLOT"
   ]
  },
  {
   "cell_type": "code",
   "execution_count": null,
   "id": "612a6127",
   "metadata": {},
   "outputs": [],
   "source": [
    "executors_df[\"profitable\"] = executors_df[\"net_pnl_quote\"] > 0\n",
    "\n",
    "fig = px.scatter(\n",
    "    executors_df,\n",
    "    x=\"timestamp\",\n",
    "    y=\"net_pnl_quote\",\n",
    "    title=\"PNL per Trade (MACD Momentum Cross)\",\n",
    "    color=\"profitable\",\n",
    "    color_discrete_map={True: \"green\", False: \"red\"},\n",
    "    labels={\"timestamp\": \"Timestamp\", \"net_pnl_quote\": \"Net PNL (Quote)\"},\n",
    "    hover_data=[\"filled_amount_quote\", \"side\"]\n",
    ")\n",
    "\n",
    "fig.update_layout(\n",
    "    xaxis_title=\"Timestamp\",\n",
    "    yaxis_title=\"Net PNL (Quote)\",\n",
    "    legend_title=\"Profitable\",\n",
    "    font=dict(size=12, color=\"white\"),\n",
    "    showlegend=False,\n",
    "    plot_bgcolor=\"rgba(0,0,0,0.8)\",\n",
    "    paper_bgcolor=\"rgba(0,0,0,0.8)\",\n",
    "    xaxis=dict(gridcolor=\"gray\"),\n",
    "    yaxis=dict(gridcolor=\"gray\")\n",
    ")\n",
    "\n",
    "fig.add_hline(y=0, line_dash=\"dash\", line_color=\"lightgray\")\n",
    "fig.show()\n"
   ]
  },
  {
   "cell_type": "markdown",
   "id": "3bf21ef2",
   "metadata": {},
   "source": [
    "### Histogram of PNL Distribution"
   ]
  },
  {
   "cell_type": "code",
   "execution_count": null,
   "id": "28f1fc5e",
   "metadata": {},
   "outputs": [],
   "source": [
    "fig = px.histogram(\n",
    "    executors_df,\n",
    "    x=\"net_pnl_quote\",\n",
    "    title=\"PNL Distribution (MACD Momentum Cross)\"\n",
    ")\n",
    "fig.show()\n"
   ]
  }
 ],
 "metadata": {
  "language_info": {
   "name": "python"
  }
 },
 "nbformat": 4,
 "nbformat_minor": 5
}
