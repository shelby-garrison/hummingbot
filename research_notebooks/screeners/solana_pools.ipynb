{
 "cells": [
  {
   "cell_type": "markdown",
   "source": [
    "# 🔌 GeckoTerminal API Client Initialization\n",
    "GeckoTerminal provides comprehensive DEX data across multiple blockchain networks"
   ],
   "metadata": {}
  },
  {
   "metadata": {},
   "cell_type": "code",
   "source": [
    "# 📦 Environment Setup and Path Configuration\n",
    "# Add project root to Python path to enable imports from core modules\n",
    "import warnings\n",
    "\n",
    "warnings.filterwarnings(\"ignore\")  # Suppress non-critical warnings for cleaner output\n",
    "\n",
    "from geckoterminal_py import GeckoTerminalAsyncClient\n",
    "import pandas as pd\n",
    "\n",
    "# Create async client instance for efficient API calls\n",
    "# This client handles rate limiting and provides structured access to pool data\n",
    "gt = GeckoTerminalAsyncClient()"
   ],
   "outputs": [],
   "execution_count": null
  },
  {
   "cell_type": "markdown",
   "source": [
    "# ⚙️ Pool Filtering Configuration\n",
    "These parameters define the criteria for identifying suitable trading pools"
   ],
   "metadata": {}
  },
  {
   "metadata": {},
   "cell_type": "code",
   "source": [
    "# ============================================\n",
    "# POOL AGE CONSTRAINTS (Risk Management)\n",
    "# ============================================\n",
    "MIN_POOL_AGE_DAYS = 7      # Minimum age to ensure pool stability and avoid rug pulls\n",
    "MAX_POOL_AGE_DAYS = 720    # Maximum age to avoid obsolete or abandoned pools\n",
    "\n",
    "# ============================================\n",
    "# MARKET CAPITALIZATION RANGE (Mid-Cap Focus)\n",
    "# ============================================\n",
    "MIN_MARKET_CAP = 1_000_000     # $1M minimum for sufficient market depth\n",
    "MAX_MARKET_CAP = 100_000_000   # $100M maximum to avoid mega-cap tokens (lower volatility)\n",
    "\n",
    "# ============================================\n",
    "# LIQUIDITY AND VOLUME REQUIREMENTS\n",
    "# ============================================\n",
    "MIN_VOLUME_24H = 100_000   # Minimum daily volume for active trading environment\n",
    "MIN_LIQUIDITY = 10_000     # Minimum pool liquidity for efficient trade execution\n",
    "\n",
    "# ============================================\n",
    "# BLOCKCHAIN AND DEX SELECTION\n",
    "# ============================================\n",
    "NETWORK = \"solana\"          # Solana blockchain (fast, low-cost transactions)\n",
    "DEX = \"meteora\"            # Meteora DEX (concentrated liquidity AMM)\n",
    "QUOTE_ASSET = \"SOL\"        # SOL as quote currency for consistent pair analysis\n",
    "\n",
    "print(f\"🎯 Pool Selection Criteria:\")\n",
    "print(f\"  • Pool Age: {MIN_POOL_AGE_DAYS}-{MAX_POOL_AGE_DAYS} days\")\n",
    "print(f\"  • Market Cap: ${MIN_MARKET_CAP:,} - ${MAX_MARKET_CAP:,}\")\n",
    "print(f\"  • Daily Volume: ${MIN_VOLUME_24H:,}+\")\n",
    "print(f\"  • Pool Liquidity: ${MIN_LIQUIDITY:,}+\")\n",
    "print(f\"  • Network: {NETWORK.title()}\")\n",
    "print(f\"  • DEX: {DEX.title()}\")\n",
    "print(f\"  • Quote Asset: {QUOTE_ASSET}\")"
   ],
   "outputs": [],
   "execution_count": null
  },
  {
   "cell_type": "code",
   "metadata": {
    "collapsed": false
   },
   "source": "# 📥 Fetch Top Pools from Meteora DEX\n# Retrieve the most active pools on Solana's Meteora exchange\npools = await gt.get_top_pools_by_network_dex(NETWORK, DEX)\nprint(f\"📊 Retrieved {len(pools)} pools from {DEX.title()} on {NETWORK.title()}\")",
   "outputs": [],
   "execution_count": null
  },
  {
   "cell_type": "code",
   "metadata": {
    "collapsed": false
   },
   "source": "# 🔧 Data Processing and Feature Engineering\n# Convert raw pool data into analyzable format with additional metrics\n\n# Convert string columns to numeric for mathematical operations\npools[\"market_cap_usd\"] = pd.to_numeric(pools[\"market_cap_usd\"])\npools[\"volume_usd_h24\"] = pd.to_numeric(pools[\"volume_usd_h24\"])\npools[\"reserve_in_usd\"] = pd.to_numeric(pools[\"reserve_in_usd\"])\n\n# Parse datetime and remove timezone for consistent comparisons\npools[\"pool_created_at\"] = pd.to_datetime(pools[\"pool_created_at\"]).dt.tz_localize(None)\n\n# Extract base and quote symbols from trading pair names\npools[\"base\"] = pools[\"name\"].apply(lambda x: x.split(\"/\")[0].strip())    # Token being traded\npools[\"quote\"] = pools[\"name\"].apply(lambda x: x.split(\"/\")[1].strip())   # Quote currency (SOL, USDC, etc.)\n\n# Calculate volume-to-liquidity ratio (higher = more active trading relative to pool size)\npools[\"volume_liquidity_ratio\"] = pools[\"volume_usd_h24\"] / pools[\"reserve_in_usd\"]\n\nprint(f\"✅ Processed {len(pools)} pools with feature engineering\")\nprint(f\"📈 Volume/Liquidity ratio range: {pools['volume_liquidity_ratio'].min():.3f} - {pools['volume_liquidity_ratio'].max():.3f}\")",
   "outputs": [],
   "execution_count": null
  },
  {
   "cell_type": "code",
   "metadata": {
    "collapsed": false
   },
   "source": "# 📊 Display Pool Data Overview\n# Show processed pool data for analysis\nprint(f\"📋 Pool Data Overview ({len(pools)} total pools):\")\nprint(f\"  • Columns: {', '.join(pools.columns)}\")\nprint(f\"  • Market Cap Range: ${pools['market_cap_usd'].min():,.0f} - ${pools['market_cap_usd'].max():,.0f}\")\nprint(f\"  • Volume Range: ${pools['volume_usd_h24'].min():,.0f} - ${pools['volume_usd_h24'].max():,.0f}\")\nprint(f\"  • Liquidity Range: ${pools['reserve_in_usd'].min():,.0f} - ${pools['reserve_in_usd'].max():,.0f}\")\n\n# Display sample of pool data\npools.head(10)",
   "outputs": [],
   "execution_count": null
  },
  {
   "cell_type": "code",
   "metadata": {
    "collapsed": false
   },
   "source": "# 🎯 Apply Pool Filtering Criteria\n# Filter pools based on predefined criteria for trading suitability\nfrom datetime import datetime, timedelta\n\n# Calculate date boundaries for pool age filtering\nmin_pool_date_created = datetime.utcnow() - timedelta(days=MIN_POOL_AGE_DAYS)\nmax_pool_date_created = datetime.utcnow() - timedelta(days=MAX_POOL_AGE_DAYS)\n\n# Apply comprehensive filtering criteria\npools_filtered = pools[\n    (pools[\"market_cap_usd\"] > MIN_MARKET_CAP) &                    # Market cap range\n    (pools[\"market_cap_usd\"] < MAX_MARKET_CAP) &\n    (pools[\"volume_usd_h24\"] > MIN_VOLUME_24H) &                    # Minimum volume\n    (pools[\"reserve_in_usd\"] > MIN_LIQUIDITY) &                     # Minimum liquidity\n    (pools[\"pool_created_at\"] < min_pool_date_created) &            # Pool age constraints\n    (pools[\"pool_created_at\"] > max_pool_date_created) &\n    (pools[\"quote\"] == QUOTE_ASSET)                                 # Quote asset filter\n]\n\nprint(f\"🔍 Pool Filtering Results:\")\nprint(f\"  • Initial pools: {len(pools)}\")\nprint(f\"  • After filtering: {len(pools_filtered)}\")\nprint(f\"  • Filtered out: {len(pools) - len(pools_filtered)} pools\")\nprint(f\"  • Filter efficiency: {len(pools_filtered)/len(pools)*100:.1f}%\")",
   "outputs": [],
   "execution_count": null
  },
  {
   "cell_type": "code",
   "metadata": {
    "collapsed": false
   },
   "source": "# 🛠️ Price Analysis Functions\n# Define functions for fetching candle data and calculating position metrics\nfrom core.data_structures.candles import Candles\n\nasync def get_candles(pool, interval):\n    \"\"\"\n    Fetch OHLCV candle data for a specific pool.\n    \n    Args:\n        pool (pd.Series): Pool data containing base, quote, and address\n        interval (str): Timeframe for candles (e.g., '1d', '4h', '1h')\n    \n    Returns:\n        Candles: Processed candle data with trading pair information\n    \"\"\"\n    trading_pair = f\"{pool['base']}/{pool['quote']}\"\n    address = pool[\"address\"]\n    \n    # Fetch OHLCV data from GeckoTerminal API\n    ohlc = await gt.get_ohlcv(NETWORK, address, interval, currency=\"token\")\n    ohlc.index = pd.to_datetime(ohlc[\"timestamp\"], unit=\"s\")\n    \n    return Candles(candles_df=ohlc, connector_name=\"meteora\", trading_pair=trading_pair, interval=interval)\n\ndef add_position_metrics(candle, lookback_periods):\n    \"\"\"\n    Calculate position metrics for price range analysis.\n    \n    Args:\n        candle (Candles): Candle data object\n        lookback_periods (list): List of periods to analyze\n    \n    Returns:\n        list: Position metrics for each lookback period\n        \n    Metrics calculated:\n        - max_price: Highest price in period\n        - min_price: Lowest price in period  \n        - current_position: Where current price sits in range (0=low, 1=high)\n        - range_price_pct: Price range as percentage of current price\n    \"\"\"\n    df = candle.data\n    results = []\n    \n    for period in lookback_periods:\n        df_period = df.iloc[-period:]  # Get last N periods\n        max_price = df_period['high'].max()\n        min_price = df_period['low'].min()\n        range_price = max_price - min_price\n        current_price = df_period['close'].iloc[-1]\n        \n        # Calculate position in range (0 = at minimum, 1 = at maximum)\n        current_position = (max_price - current_price) / range_price if range_price != 0 else 0\n        \n        # Price range as percentage of current price\n        range_price_pct = (max_price - current_price) / current_price\n        \n        results.append({\n            'period': period,\n            'max_price': max_price,\n            'min_price': min_price,\n            'current_position': current_position,\n            'range_price_pct': range_price_pct,\n            'current_price': current_price\n        })\n    \n    return results\n\nprint(\"✅ Price analysis functions defined\")",
   "outputs": [],
   "execution_count": null
  },
  {
   "cell_type": "code",
   "metadata": {},
   "source": "# 📈 Fetch Price Data and Calculate Metrics\n# Download daily candle data for each filtered pool and calculate position metrics\npools_data = {}\ninterval = \"1d\"  # Daily timeframe for position analysis\n\nprint(f\"📊 Analyzing {len(pools_filtered)} filtered pools...\")\nprint(f\"⏱️ Fetching {interval} candle data and calculating position metrics...\")\n\nfor i, pool in pools_filtered.iterrows():\n    try:\n        # Fetch candle data for the pool\n        candle = await get_candles(pool, interval)\n        \n        # Calculate position metrics using all available data\n        position_metrics = add_position_metrics(candle, [len(candle.data)])[0]\n        \n        # Store pool data with analysis\n        pools_data[pool[\"address\"]] = {\n            \"candle\": candle,\n            \"metrics\": position_metrics,\n            \"pool\": pool\n        }\n        \n        print(f\"  ✅ {pool['base']}/{pool['quote']}: {len(candle.data)} candles, position: {position_metrics['current_position']:.3f}\")\n        \n    except Exception as e:\n        print(f\"  ❌ {pool['base']}/{pool['quote']}: Error - {str(e)}\")\n        continue\n\nprint(f\"\\n📊 Successfully analyzed {len(pools_data)} pools\")",
   "outputs": [],
   "execution_count": null
  },
  {
   "cell_type": "code",
   "metadata": {
    "collapsed": false
   },
   "source": [
    "# 📊 Sort Pools by Current Position\n",
    "# Organize pools by how close they are to their recent highs (for reversal trading)\n",
    "# Higher current_position = closer to recent high = potential reversal opportunity\n",
    "\n",
    "pools_data = dict(sorted(pools_data.items(), key=lambda item: item[1]['metrics']['current_position'], reverse=True))\n",
    "\n",
    "print(f\"🔄 Sorted {len(pools_data)} pools by current position (highest to lowest)\")\n",
    "print(f\"📈 Top pools near recent highs:\")\n",
    "\n",
    "for i, (pool_id, pool_data) in enumerate(list(pools_data.items())[:5]):\n",
    "    metrics = pool_data[\"metrics\"]\n",
    "    pool_info = pool_data[\"pool\"]\n",
    "    pool_data[\"candle\"].plot()\n",
    "    print(f\"  {i+1}. {pool_info['base']}/{pool_info['quote']}: Position {metrics['current_position']:.3f} (${metrics['current_price']:.6f})\")"
   ],
   "outputs": [],
   "execution_count": null
  }
 ],
 "metadata": {
  "kernelspec": {
   "display_name": "quants-lab",
   "language": "python",
   "name": "python3"
  },
  "language_info": {
   "codemirror_mode": {
    "name": "ipython",
    "version": 3
   },
   "file_extension": ".py",
   "mimetype": "text/x-python",
   "name": "python",
   "nbconvert_exporter": "python",
   "pygments_lexer": "ipython3",
   "version": "3.10.16"
  }
 },
 "nbformat": 4,
 "nbformat_minor": 2
}
