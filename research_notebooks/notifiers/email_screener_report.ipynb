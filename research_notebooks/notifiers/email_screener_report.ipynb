{
 "cells": [
  {
   "cell_type": "markdown",
   "id": "cell-0",
   "metadata": {},
   "source": [
    "# Email Market Screener Report Generator (Cache-Based)\n",
    "\n",
    "## 📊 Overview\n",
    "This notebook generates automated market screener reports using cached CLOB data and distributes them via email. It integrates with the QuantsLab notification system to send professional HTML-formatted volume reports, embedded charts, and detailed data files directly to email recipients for comprehensive market analysis.\n",
    "\n",
    "## 🎯 Objectives\n",
    "1. **Data Loading**: Load cached candle data from CLOB data source\n",
    "2. **Volume Analysis**: Calculate volume metrics and identify top performers\n",
    "3. **Report Generation**: Create professional HTML-formatted volume reports with styling\n",
    "4. **Email Integration**: Send reports via SMTP using notification system\n",
    "5. **Chart Creation**: Generate embedded charts for email compatibility\n",
    "6. **File Distribution**: Send CSV reports and chart files as email attachments\n",
    "\n",
    "## 📋 Prerequisites\n",
    "- Cached CLOB candle data (run data collection tasks first)\n",
    "- Email SMTP configuration (server, credentials in .env)\n",
    "- QuantsLab notification system setup\n",
    "- Environment variables configured (.env file)\n",
    "- Plotly and pandas for analysis\n",
    "\n",
    "## ⚠️ Important Notes\n",
    "- **Data Source**: Uses cached CLOB data instead of live database queries\n",
    "- **Email Setup**: Requires SMTP server configuration and credentials\n",
    "- **HTML Formatting**: Creates professional email-friendly HTML reports\n",
    "- **File Attachments**: Charts and CSV files sent as email attachments\n",
    "- **Rate Limiting**: Be mindful of email provider sending limits\n",
    "\n",
    "## 📈 Expected Outputs\n",
    "- Professional HTML-formatted volume reports sent via email\n",
    "- Embedded volume charts (PNG format for email compatibility)\n",
    "- Detailed CSV reports as email attachments\n",
    "- Automated email distribution for team collaboration"
   ]
  },
  {
   "cell_type": "code",
   "id": "cell-1",
   "metadata": {
    "ExecuteTime": {
     "end_time": "2025-09-10T14:02:05.764018Z",
     "start_time": "2025-09-10T14:02:04.879305Z"
    }
   },
   "source": [
    "# 🔌 Initialize QuantsLab Services\n",
    "# Import and configure core services and notification system\n",
    "import warnings\n",
    "warnings.filterwarnings(\"ignore\")\n",
    "\n",
    "from core.data_sources.clob import CLOBDataSource\n",
    "from core.notifiers import NotificationManager, NotificationMessage\n",
    "import pandas as pd\n",
    "import numpy as np\n",
    "import plotly.graph_objects as go\n",
    "import os\n",
    "from datetime import datetime, timezone\n",
    "from dotenv import load_dotenv\n",
    "\n",
    "# Load environment variables from .env file\n",
    "load_dotenv()\n",
    "\n",
    "print(\"✅ QuantsLab modules imported successfully\")\n",
    "print(\"📊 Services available: CLOB data source, Notification system\")\n",
    "print(\"⚙️ Environment variables loaded from .env\")"
   ],
   "outputs": [
    {
     "name": "stdout",
     "output_type": "stream",
     "text": [
      "✅ QuantsLab modules imported successfully\n",
      "📊 Services available: CLOB data source, Notification system\n",
      "⚙️ Environment variables loaded from .env\n"
     ]
    }
   ],
   "execution_count": 1
  },
  {
   "cell_type": "markdown",
   "id": "cell-2",
   "metadata": {},
   "source": [
    "# ⚙️ Configuration and Data Loading\n",
    "# Set up data source and load cached market data"
   ]
  },
  {
   "cell_type": "code",
   "id": "cell-3",
   "metadata": {
    "ExecuteTime": {
     "end_time": "2025-09-10T14:02:07.038329Z",
     "start_time": "2025-09-10T14:02:06.807Z"
    }
   },
   "source": "# Configuration Parameters\nCONNECTOR_NAME = \"binance_perpetual\"  # Exchange connector to use\nQUOTE_ASSET = \"USDT\"                  # Quote currency for trading pairs\nINTERVAL = \"15m\"                       # Candle interval for analysis\nFETCH_FRESH_DATA = False              # Set to True to fetch fresh data from exchange\nDAYS = 7                              # Days of historical data (when fetching fresh)\nTOP_PAIRS_COUNT = 15                  # Number of top pairs to include in report\n\n# 📧 Notifier Recipient Override Options (all optional - leave None to use .env defaults)\n# ===================================================================================\n\n# Email Recipients Override\nCUSTOM_EMAIL_RECIPIENTS = None  # Example: [\"analyst@company.com\", \"trader@company.com\"]\n\n# Telegram Chat IDs Override  \nCUSTOM_TELEGRAM_CHAT_IDS = None  # Example: [\"-1001234567890\", \"123456789\"]\n\n# Slack Channels Override\nCUSTOM_SLACK_CHANNELS = None  # Example: [\"#trading-alerts\", \"#risk-management\"]\nCUSTOM_SLACK_WEBHOOKS = None  # Example: [\"https://hooks.slack.com/services/T00/B00/XXX\"]\n\n# Discord Webhooks Override\nCUSTOM_DISCORD_WEBHOOKS = None  # Example: [\"https://discord.com/api/webhooks/123/ABC\"]\n\n# Initialize CLOB data source\nclob = CLOBDataSource()\n\n# Initialize notification manager\nnotification_manager = NotificationManager()\nenabled_notifiers = notification_manager.get_enabled_notifiers()\n\nprint(f\"📊 Configuration loaded:\")\nprint(f\"  - Connector: {CONNECTOR_NAME}\")\nprint(f\"  - Quote Asset: {QUOTE_ASSET}\")\nprint(f\"  - Interval: {INTERVAL}\")\nprint(f\"  - Top Pairs: {TOP_PAIRS_COUNT}\")\n\nprint(f\"\\n📧 Recipient Override Configuration:\")\nif CUSTOM_EMAIL_RECIPIENTS:\n    print(f\"  - Email: {', '.join(CUSTOM_EMAIL_RECIPIENTS)}\")\nelse:\n    print(f\"  - Email: Using .env defaults\")\n\nif CUSTOM_TELEGRAM_CHAT_IDS:\n    print(f\"  - Telegram: {len(CUSTOM_TELEGRAM_CHAT_IDS)} custom chat IDs\")\nelse:\n    print(f\"  - Telegram: Using .env default chat_id\")\n\nif CUSTOM_SLACK_CHANNELS or CUSTOM_SLACK_WEBHOOKS:\n    channels = f\"{len(CUSTOM_SLACK_CHANNELS)} channels\" if CUSTOM_SLACK_CHANNELS else \"default channel\"\n    webhooks = f\"{len(CUSTOM_SLACK_WEBHOOKS)} webhooks\" if CUSTOM_SLACK_WEBHOOKS else \"default webhook\"\n    print(f\"  - Slack: {channels}, {webhooks}\")\nelse:\n    print(f\"  - Slack: Using .env defaults\")\n\nif CUSTOM_DISCORD_WEBHOOKS:\n    print(f\"  - Discord: {len(CUSTOM_DISCORD_WEBHOOKS)} custom webhooks\")\nelse:\n    print(f\"  - Discord: Using .env default webhook\")\n\nprint(f\"\\n📧 Enabled notifiers: {', '.join(enabled_notifiers) if enabled_notifiers else 'None configured'}\")",
   "outputs": [],
   "execution_count": null
  },
  {
   "cell_type": "code",
   "id": "cell-4",
   "metadata": {
    "ExecuteTime": {
     "end_time": "2025-09-10T14:02:08.053381Z",
     "start_time": "2025-09-10T14:02:07.795249Z"
    }
   },
   "source": [
    "# 📊 Load Market Data from Cache\n",
    "# Load cached candle data or fetch fresh data if configured\n",
    "\n",
    "if FETCH_FRESH_DATA:\n",
    "    print(\"🔄 Fetching fresh data from exchange...\")\n",
    "    # Get trading pairs\n",
    "    trading_rules = await clob.get_trading_rules(CONNECTOR_NAME)\n",
    "    trading_pairs = [\n",
    "        pair for pair in trading_rules.get_all_trading_pairs() \n",
    "        if pair.split(\"-\")[1] == QUOTE_ASSET\n",
    "    ]\n",
    "    \n",
    "    # Fetch candle data\n",
    "    candles = await clob.get_candles_batch_last_days(\n",
    "        CONNECTOR_NAME, trading_pairs, INTERVAL, DAYS, 2, 1.0\n",
    "    )\n",
    "    \n",
    "    # Save to cache\n",
    "    clob.dump_candles_cache()\n",
    "    print(f\"✅ Fetched data for {len(candles)} trading pairs\")\n",
    "else:\n",
    "    print(\"📂 Loading data from cache...\")\n",
    "    clob.load_candles_cache()\n",
    "    print(\"✅ Cache loaded successfully\")\n",
    "\n",
    "# Filter cached data for our requirements\n",
    "candles = [\n",
    "    candle for key, candle in clob.candles_cache.items()\n",
    "    if key[0] == CONNECTOR_NAME and key[2] == INTERVAL and key[1].endswith(f\"-{QUOTE_ASSET}\")\n",
    "]\n",
    "\n",
    "print(f\"📈 Found {len(candles)} datasets matching criteria:\")\n",
    "print(f\"  - Connector: {CONNECTOR_NAME}\")\n",
    "print(f\"  - Interval: {INTERVAL}\")\n",
    "print(f\"  - Quote Asset: {QUOTE_ASSET}\")\n",
    "\n",
    "if len(candles) == 0:\n",
    "    print(\"⚠️  No cached data found. Please:\")\n",
    "    print(\"   1. Set FETCH_FRESH_DATA = True to fetch new data\")\n",
    "    print(\"   2. Or run data collection tasks to populate cache\")\n",
    "else:\n",
    "    sample_pairs = [candle.trading_pair for candle in candles[:5]]\n",
    "    print(f\"📊 Sample pairs: {', '.join(sample_pairs)}{'...' if len(candles) > 5 else ''}\")"
   ],
   "outputs": [
    {
     "name": "stdout",
     "output_type": "stream",
     "text": [
      "📂 Loading data from cache...\n",
      "✅ Cache loaded successfully\n",
      "📈 Found 21 datasets matching criteria:\n",
      "  - Connector: binance_perpetual\n",
      "  - Interval: 15m\n",
      "  - Quote Asset: USDT\n",
      "📊 Sample pairs: XRP-USDT, ETH-USDT, DOGE-USDT, DOT-USDT, OP-USDT...\n"
     ]
    }
   ],
   "execution_count": 3
  },
  {
   "cell_type": "markdown",
   "id": "cell-5",
   "metadata": {},
   "source": [
    "# 📊 Market Analysis and Volume Metrics\n",
    "# Calculate volume metrics and create market ranking"
   ]
  },
  {
   "cell_type": "code",
   "id": "cell-6",
   "metadata": {
    "ExecuteTime": {
     "end_time": "2025-09-10T14:02:09.065442Z",
     "start_time": "2025-09-10T14:02:09.050185Z"
    }
   },
   "source": [
    "# 💹 Calculate Volume Metrics for Market Screening\n",
    "# Process each trading pair and calculate comprehensive volume metrics\n",
    "\n",
    "volume_report = []\n",
    "\n",
    "for candle in candles:\n",
    "    try:\n",
    "        df = candle.data.copy()\n",
    "        \n",
    "        if df.empty or len(df) < 24:  # Need at least 24 hours of data\n",
    "            continue\n",
    "            \n",
    "        # Calculate volume metrics\n",
    "        latest_price = df['close'].iloc[-1]\n",
    "        \n",
    "        # Volume analysis (last 24 hours)\n",
    "        df_24h = df.tail(24) if len(df) >= 24 else df\n",
    "        volume_24h_base = df_24h['volume'].sum()\n",
    "        volume_24h_usd = volume_24h_base * latest_price\n",
    "        \n",
    "        # Price change analysis\n",
    "        price_24h_ago = df_24h['close'].iloc[0] if len(df_24h) > 1 else latest_price\n",
    "        price_change_24h = ((latest_price - price_24h_ago) / price_24h_ago * 100) if price_24h_ago > 0 else 0\n",
    "        \n",
    "        # Volatility analysis\n",
    "        price_std = df_24h['close'].std()\n",
    "        volatility_pct = (price_std / latest_price * 100) if latest_price > 0 else 0\n",
    "        \n",
    "        # High/Low analysis\n",
    "        high_24h = df_24h['high'].max()\n",
    "        low_24h = df_24h['low'].min()\n",
    "        \n",
    "        # Current position in 24h range (0 = at low, 1 = at high)\n",
    "        range_24h = high_24h - low_24h\n",
    "        position_in_range = ((latest_price - low_24h) / range_24h) if range_24h > 0 else 0.5\n",
    "        \n",
    "        # Volume trend (compare recent vs earlier volume)\n",
    "        recent_volume = df.tail(6)['volume'].mean()  # Last 6 hours average\n",
    "        earlier_volume = df.iloc[-24:-6]['volume'].mean() if len(df) >= 24 else recent_volume\n",
    "        volume_trend = ((recent_volume - earlier_volume) / earlier_volume * 100) if earlier_volume > 0 else 0\n",
    "        \n",
    "        # Calculate a composite score (volume * volatility * price momentum)\n",
    "        momentum_factor = abs(price_change_24h) / 100  # Normalize price change\n",
    "        volume_factor = volume_24h_usd / 1000000  # Normalize to millions USD\n",
    "        volatility_factor = volatility_pct / 100  # Normalize volatility\n",
    "        \n",
    "        composite_score = volume_factor * volatility_factor * (1 + momentum_factor)\n",
    "        \n",
    "        volume_report.append({\n",
    "            'trading_pair': candle.trading_pair,\n",
    "            'connector_name': CONNECTOR_NAME,\n",
    "            'price': latest_price,\n",
    "            'volume_24h_base': volume_24h_base,\n",
    "            'volume_24h_usd': volume_24h_usd,\n",
    "            'price_change_24h_pct': price_change_24h,\n",
    "            'volatility_pct': volatility_pct,\n",
    "            'high_24h': high_24h,\n",
    "            'low_24h': low_24h,\n",
    "            'position_in_range': position_in_range,\n",
    "            'volume_trend_pct': volume_trend,\n",
    "            'composite_score': composite_score,\n",
    "            'data_points': len(df)\n",
    "        })\n",
    "        \n",
    "    except Exception as e:\n",
    "        print(f\"⚠️  Error processing {candle.trading_pair}: {e}\")\n",
    "        continue\n",
    "\n",
    "# Convert to DataFrame and sort by volume\n",
    "df = pd.DataFrame(volume_report)\n",
    "\n",
    "if df.empty:\n",
    "    print(\"❌ No data could be processed for volume analysis\")\n",
    "    print(\"💡 Please check if cached data is available or fetch fresh data\")\n",
    "else:\n",
    "    # Sort by volume (USD) and add ranking\n",
    "    df = df.sort_values('volume_24h_usd', ascending=False).reset_index(drop=True)\n",
    "    df['volume_rank'] = range(1, len(df) + 1)\n",
    "    \n",
    "    print(f\"📊 Volume Analysis Complete:\")\n",
    "    print(f\"  - Total pairs analyzed: {len(df)}\")\n",
    "    print(f\"  - Top volume: ${df['volume_24h_usd'].max():,.0f}\")\n",
    "    print(f\"  - Date range: {INTERVAL} candles\")\n",
    "    \n",
    "    # Show top performers\n",
    "    print(f\"\\n🏆 TOP {min(10, len(df))} BY VOLUME:\")\n",
    "    print(\"-\" * 70)\n",
    "    \n",
    "    display_cols = ['volume_rank', 'trading_pair', 'volume_24h_usd', 'price_change_24h_pct', 'volatility_pct']\n",
    "    top_pairs = df[display_cols].head(10)\n",
    "    \n",
    "    for _, row in top_pairs.iterrows():\n",
    "        print(f\"  {row['volume_rank']:2d}. {row['trading_pair']:12s} | \"\n",
    "              f\"Vol: ${row['volume_24h_usd']:>10,.0f} | \"\n",
    "              f\"Change: {row['price_change_24h_pct']:>+6.2f}% | \"\n",
    "              f\"Vol: {row['volatility_pct']:>5.2f}%\")"
   ],
   "outputs": [
    {
     "name": "stdout",
     "output_type": "stream",
     "text": [
      "📊 Volume Analysis Complete:\n",
      "  - Total pairs analyzed: 21\n",
      "  - Top volume: $4,380,802,256\n",
      "  - Date range: 15m candles\n",
      "\n",
      "🏆 TOP 10 BY VOLUME:\n",
      "----------------------------------------------------------------------\n",
      "   1. ETH-USDT     | Vol: $4,380,802,256 | Change:  +0.80% | Vol:  0.26%\n",
      "   2. BTC-USDT     | Vol: $3,864,052,880 | Change:  +0.36% | Vol:  0.19%\n",
      "   3. SOL-USDT     | Vol: $1,624,360,790 | Change:  +1.17% | Vol:  0.44%\n",
      "   4. WLD-USDT     | Vol: $1,260,812,640 | Change: +12.32% | Vol:  3.88%\n",
      "   5. XRP-USDT     | Vol: $573,313,000 | Change:  +1.44% | Vol:  0.53%\n",
      "   6. DOGE-USDT    | Vol: $489,970,725 | Change:  +1.88% | Vol:  0.44%\n",
      "   7. ADA-USDT     | Vol: $225,605,574 | Change:  +1.99% | Vol:  0.61%\n",
      "   8. LINK-USDT    | Vol: $185,966,285 | Change:  +1.46% | Vol:  0.38%\n",
      "   9. AVAX-USDT    | Vol: $134,115,202 | Change:  +2.68% | Vol:  0.74%\n",
      "  10. BNB-USDT     | Vol: $103,109,510 | Change:  +0.49% | Vol:  0.18%\n"
     ]
    }
   ],
   "execution_count": 4
  },
  {
   "cell_type": "markdown",
   "id": "cell-7",
   "metadata": {},
   "source": [
    "# 📤 Generate and Send Email Volume Report\n",
    "# Create professional HTML-formatted report and send via email notification system"
   ]
  },
  {
   "cell_type": "code",
   "id": "cell-8",
   "metadata": {
    "ExecuteTime": {
     "end_time": "2025-09-10T14:02:10.680942Z",
     "start_time": "2025-09-10T14:02:10.671876Z"
    }
   },
   "source": "# 🚀 Generate HTML Volume Report for Email Distribution\n# Create comprehensive, professional HTML-formatted volume report\n\nif not df.empty:\n    # Select top pairs for the report\n    top_pairs = df.head(TOP_PAIRS_COUNT)\n    \n    # Generate report timestamp\n    report_time = datetime.now(timezone.utc).strftime('%Y-%m-%d %H:%M UTC')\n    \n    # Calculate summary statistics\n    total_volume = df['volume_24h_usd'].sum()\n    avg_price_change = df['price_change_24h_pct'].mean()\n    max_gainer = df.loc[df['price_change_24h_pct'].idxmax()]\n    max_loser = df.loc[df['price_change_24h_pct'].idxmin()]\n    \n    # Build compact HTML email report\n    html_report = f\"\"\"<!DOCTYPE html>\n<html>\n<head>\n    <meta charset=\"UTF-8\">\n    <title>Volume Screener Report</title>\n    <style>\n        body {{ font-family: 'Segoe UI', Arial, sans-serif; margin: 0; padding: 15px; background-color: #f8f9fa; line-height: 1.4; }}\n        .container {{ max-width: 700px; margin: 0 auto; background-color: white; border-radius: 8px; box-shadow: 0 2px 4px rgba(0,0,0,0.1); overflow: hidden; }}\n        .header {{ background: linear-gradient(135deg, #4a90e2 0%, #357abd 100%); color: white; padding: 20px; text-align: center; }}\n        .header h1 {{ margin: 0; font-size: 24px; font-weight: 600; }}\n        .header .subtitle {{ margin: 8px 0 0 0; opacity: 0.9; font-size: 14px; }}\n        .content {{ padding: 20px; }}\n        .summary {{ background-color: #f8f9fa; border-radius: 6px; padding: 15px; margin-bottom: 20px; border-left: 3px solid #4a90e2; }}\n        .summary h3 {{ margin: 0 0 12px 0; color: #333; font-size: 18px; }}\n        .summary-grid {{ display: grid; grid-template-columns: repeat(auto-fit, minmax(160px, 1fr)); gap: 12px; }}\n        .summary-item {{ text-align: center; }}\n        .summary-label {{ font-size: 11px; color: #666; text-transform: uppercase; letter-spacing: 0.5px; margin-bottom: 4px; }}\n        .summary-value {{ font-size: 16px; font-weight: bold; color: #333; }}\n        .positive {{ color: #28a745; }}\n        .negative {{ color: #dc3545; }}\n        .section-title {{ margin: 20px 0 12px 0; color: #333; font-size: 18px; font-weight: 600; }}\n        table {{ width: 100%; border-collapse: collapse; font-size: 13px; }}\n        th, td {{ padding: 8px 6px; text-align: left; border-bottom: 1px solid #dee2e6; }}\n        th {{ background-color: #f8f9fa; font-weight: 600; color: #495057; font-size: 12px; }}\n        .rank {{ font-weight: bold; color: #4a90e2; text-align: center; }}\n        .pair {{ font-family: 'Courier New', monospace; font-weight: bold; }}\n        .footer {{ background-color: #f8f9fa; padding: 15px; text-align: center; font-size: 11px; color: #666; line-height: 1.3; }}\n        .change-positive {{ color: #28a745; font-weight: bold; }}\n        .change-negative {{ color: #dc3545; font-weight: bold; }}\n        .change-neutral {{ color: #6c757d; font-weight: bold; }}\n        @media only screen and (max-width: 600px) {{\n            .summary-grid {{ grid-template-columns: repeat(2, 1fr); }}\n            th, td {{ padding: 6px 4px; font-size: 12px; }}\n        }}\n    </style>\n</head>\n<body>\n    <div class=\"container\">\n        <div class=\"header\">\n            <h1>📊 Volume Screener Report</h1>\n            <div class=\"subtitle\">{report_time} • {CONNECTOR_NAME.replace('_', ' ').title()} • {INTERVAL} Timeframe</div>\n        </div>\n        \n        <div class=\"content\">\n            <div class=\"summary\">\n                <h3>📈 Market Summary</h3>\n                <div class=\"summary-grid\">\n                    <div class=\"summary-item\">\n                        <div class=\"summary-label\">Total Volume</div>\n                        <div class=\"summary-value\">${total_volume:,.0f}</div>\n                    </div>\n                    <div class=\"summary-item\">\n                        <div class=\"summary-label\">Avg Change</div>\n                        <div class=\"summary-value {'positive' if avg_price_change > 0 else 'negative'}\">{avg_price_change:+.2f}%</div>\n                    </div>\n                    <div class=\"summary-item\">\n                        <div class=\"summary-label\">Top Gainer</div>\n                        <div class=\"summary-value positive\">{max_gainer['trading_pair']}</div>\n                        <div style=\"font-size: 11px; margin-top: 2px; color: #28a745;\">{max_gainer['price_change_24h_pct']:+.2f}%</div>\n                    </div>\n                    <div class=\"summary-item\">\n                        <div class=\"summary-label\">Pairs Analyzed</div>\n                        <div class=\"summary-value\">{len(df)}</div>\n                    </div>\n                </div>\n            </div>\n            \n            <h3 class=\"section-title\">🏆 Top {TOP_PAIRS_COUNT} Trading Pairs by Volume</h3>\n            <table>\n                <thead>\n                    <tr>\n                        <th style=\"width: 8%;\">#</th>\n                        <th style=\"width: 20%;\">Pair</th>\n                        <th style=\"width: 25%;\">24h Volume</th>\n                        <th style=\"width: 15%;\">Change</th>\n                        <th style=\"width: 20%;\">Price</th>\n                        <th style=\"width: 12%;\">Volatility</th>\n                    </tr>\n                </thead>\n                <tbody>\"\"\"\n    \n    # Add top pairs to the HTML table with compact formatting\n    for i, (_, row) in enumerate(top_pairs.iterrows(), 1):\n        # Format volume in appropriate units\n        volume_usd = row['volume_24h_usd']\n        if volume_usd >= 1_000_000_000:\n            volume_str = f\"${volume_usd/1_000_000_000:.1f}B\"\n        elif volume_usd >= 1_000_000:\n            volume_str = f\"${volume_usd/1_000_000:.0f}M\"\n        elif volume_usd >= 1_000:\n            volume_str = f\"${volume_usd/1_000:.0f}K\"\n        else:\n            volume_str = f\"${volume_usd:.0f}\"\n        \n        # Determine change class for styling\n        change_pct = row['price_change_24h_pct']\n        change_class = \"change-positive\" if change_pct > 0 else \"change-negative\" if change_pct < 0 else \"change-neutral\"\n        \n        # Format price appropriately\n        price = row['price']\n        if price >= 1000:\n            price_str = f\"${price:,.0f}\"\n        elif price >= 10:\n            price_str = f\"${price:.2f}\"\n        elif price >= 1:\n            price_str = f\"${price:.3f}\"\n        else:\n            price_str = f\"${price:.4f}\"\n        \n        html_report += f\"\"\"\n                    <tr>\n                        <td class=\"rank\">{i}</td>\n                        <td class=\"pair\">{row['trading_pair']}</td>\n                        <td><strong>{volume_str}</strong></td>\n                        <td class=\"{change_class}\">{change_pct:+.2f}%</td>\n                        <td>{price_str}</td>\n                        <td>{row['volatility_pct']:.2f}%</td>\n                    </tr>\"\"\"\n    \n    # Close the HTML report\n    html_report += f\"\"\"\n                </tbody>\n            </table>\n        </div>\n        \n        <div class=\"footer\">\n            Generated by QuantsLab Market Screener • {len(df)} trading pairs analyzed<br>\n            Automated report from cached market data • {report_time}\n        </div>\n    </div>\n</body>\n</html>\"\"\"\n    \n    print(\"📤 Compact HTML email report generated successfully\")\n    print(f\"📊 Report includes {len(top_pairs)} top pairs\")\n    print(f\"💰 Total market volume: ${total_volume:,.0f}\")\n    \nelse:\n    html_report = f\"\"\"<!DOCTYPE html>\n<html>\n<head>\n    <meta charset=\"UTF-8\">\n    <title>Volume Screener Report - No Data</title>\n    <style>\n        body {{ font-family: 'Segoe UI', Arial, sans-serif; margin: 0; padding: 20px; background-color: #f8f9fa; }}\n        .container {{ max-width: 500px; margin: 0 auto; background-color: white; border-radius: 8px; box-shadow: 0 2px 4px rgba(0,0,0,0.1); overflow: hidden; }}\n        .header {{ background: linear-gradient(135deg, #dc3545 0%, #c82333 100%); color: white; padding: 20px; text-align: center; }}\n        .content {{ padding: 20px; text-align: center; }}\n        .footer {{ background-color: #f8f9fa; padding: 15px; text-align: center; font-size: 12px; color: #666; }}\n    </style>\n</head>\n<body>\n    <div class=\"container\">\n        <div class=\"header\">\n            <h1>⚠️ Volume Screener Report</h1>\n            <div>{datetime.now(timezone.utc).strftime('%Y-%m-%d %H:%M UTC')}</div>\n        </div>\n        <div class=\"content\">\n            <h3>❌ No Market Data Available</h3>\n            <p>No market data could be processed for analysis.</p>\n            <p>Please check data collection tasks or fetch fresh data.</p>\n        </div>\n        <div class=\"footer\">\n            QuantsLab Market Screener\n        </div>\n    </div>\n</body>\n</html>\"\"\"\n    \n    print(\"⚠️  No data available for report generation\")\n\n# Display preview (first 500 characters)\nprint(\"\\n📋 COMPACT EMAIL REPORT PREVIEW:\")\nprint(\"=\" * 50)\nprint(html_report[:500] + \"...\" if len(html_report) > 500 else html_report)\nprint(\"=\" * 50)",
   "outputs": [
    {
     "name": "stdout",
     "output_type": "stream",
     "text": [
      "📤 Compact HTML email report generated successfully\n",
      "📊 Report includes 15 top pairs\n",
      "💰 Total market volume: $13,370,789,540\n",
      "\n",
      "📋 COMPACT EMAIL REPORT PREVIEW:\n",
      "==================================================\n",
      "<!DOCTYPE html>\n",
      "<html>\n",
      "<head>\n",
      "    <meta charset=\"UTF-8\">\n",
      "    <title>Volume Screener Report</title>\n",
      "    <style>\n",
      "        body { font-family: 'Segoe UI', Arial, sans-serif; margin: 0; padding: 15px; background-color: #f8f9fa; line-height: 1.4; }\n",
      "        .container { max-width: 700px; margin: 0 auto; background-color: white; border-radius: 8px; box-shadow: 0 2px 4px rgba(0,0,0,0.1); overflow: hidden; }\n",
      "        .header { background: linear-gradient(135deg, #4a90e2 0%, #357abd 100%); color: white; pad...\n",
      "==================================================\n"
     ]
    }
   ],
   "execution_count": 5
  },
  {
   "cell_type": "code",
   "id": "cell-9",
   "metadata": {
    "ExecuteTime": {
     "end_time": "2025-09-10T14:02:14.524416Z",
     "start_time": "2025-09-10T14:02:11.718533Z"
    }
   },
   "source": "# 📧 Send Volume Report via All Enabled Notifiers\n# Distribute the report through all notification systems with optional recipient override\n\n# Create notification message\nnotification = NotificationMessage(\n    title=\"📊 Daily Volume Screener Report\",\n    message=html_report,\n    level=\"info\"\n)\n\nprint(\"📤 Sending volume report via all enabled notification systems...\")\n\n# Display override information\noverride_info = []\nif CUSTOM_EMAIL_RECIPIENTS:\n    override_info.append(f\"Email: {', '.join(CUSTOM_EMAIL_RECIPIENTS)}\")\nif CUSTOM_TELEGRAM_CHAT_IDS:\n    override_info.append(f\"Telegram: {len(CUSTOM_TELEGRAM_CHAT_IDS)} chat IDs\")\nif CUSTOM_SLACK_CHANNELS:\n    override_info.append(f\"Slack: {', '.join(CUSTOM_SLACK_CHANNELS)}\")\nif CUSTOM_DISCORD_WEBHOOKS:\n    override_info.append(f\"Discord: {len(CUSTOM_DISCORD_WEBHOOKS)} webhooks\")\n\nif override_info:\n    print(f\"   📧 Custom recipients: {'; '.join(override_info)}\")\nelse:\n    print(f\"   📧 Using default .env configured recipients for all services\")\n\n# Send notifications with recipient overrides\ntry:\n    results = {}\n    \n    # ============================================\n    # EMAIL NOTIFIER WITH RECIPIENT OVERRIDE\n    # ============================================\n    if 'email' in enabled_notifiers:\n        email_notifier = notification_manager.get_notifier('email')\n        if email_notifier:\n            email_success = await email_notifier.send_notification(\n                message=notification,\n                to_addresses=CUSTOM_EMAIL_RECIPIENTS  # None = use defaults\n            )\n            results['email'] = email_success\n    \n    # ============================================\n    # TELEGRAM NOTIFIER WITH CHAT ID OVERRIDE\n    # ============================================\n    if 'telegram' in enabled_notifiers:\n        telegram_notifier = notification_manager.get_notifier('telegram')\n        if telegram_notifier:\n            telegram_success = await telegram_notifier.send_notification(\n                message=notification,\n                chat_ids=CUSTOM_TELEGRAM_CHAT_IDS  # None = use default\n            )\n            results['telegram'] = telegram_success\n    \n    # ============================================\n    # SLACK NOTIFIER WITH CHANNEL/WEBHOOK OVERRIDE\n    # ============================================\n    if 'slack' in enabled_notifiers:\n        slack_notifier = notification_manager.get_notifier('slack')\n        if slack_notifier:\n            slack_success = await slack_notifier.send_notification(\n                message=notification,\n                channels=CUSTOM_SLACK_CHANNELS,      # None = use default\n                webhook_urls=CUSTOM_SLACK_WEBHOOKS   # None = use default\n            )\n            results['slack'] = slack_success\n    \n    # ============================================\n    # DISCORD NOTIFIER WITH WEBHOOK OVERRIDE\n    # ============================================\n    if 'discord' in enabled_notifiers:\n        discord_notifier = notification_manager.get_notifier('discord')\n        if discord_notifier:\n            discord_success = await discord_notifier.send_notification(\n                message=notification,\n                webhook_urls=CUSTOM_DISCORD_WEBHOOKS  # None = use default\n            )\n            results['discord'] = discord_success\n    \n    # ============================================\n    # RESULTS SUMMARY\n    # ============================================\n    print(f\"\\n📊 Notification Delivery Results:\")\n    print(\"-\" * 50)\n    \n    for service, success in results.items():\n        status_emoji = \"✅\" if success else \"❌\"\n        status_text = \"Delivered\" if success else \"Failed\"\n        service_name = service.capitalize()\n        print(f\"  {status_emoji} {service_name}: {status_text}\")\n    \n    # Overall summary\n    successful_deliveries = sum(results.values())\n    total_services = len(results)\n    print(f\"\\n📈 Delivery Summary: {successful_deliveries}/{total_services} services successful\")\n    \n    if successful_deliveries == 0:\n        print(\"⚠️ No notifications were delivered successfully\")\n        print(\"💡 Check your notification configurations in .env file\")\n    elif successful_deliveries == total_services:\n        print(\"🎉 Volume report successfully sent via all enabled services!\")\n        print(\"📧 Check your inboxes/channels for the HTML-formatted reports\")\n    else:\n        print(\"⚠️ Some notifications failed - check configurations for failed services\")\n        \nexcept Exception as e:\n    print(f\"❌ Error sending notifications: {e}\")\n    print(\"💡 Check your notification configurations and network connection\")",
   "outputs": [],
   "execution_count": null
  },
  {
   "cell_type": "markdown",
   "id": "cell-10",
   "metadata": {},
   "source": [
    "# 📊 Generate and Email Volume Chart\n",
    "# Create professional volume visualization chart and send as email attachment"
   ]
  },
  {
   "cell_type": "code",
   "id": "cell-11",
   "metadata": {
    "ExecuteTime": {
     "end_time": "2025-09-10T14:02:18.510432Z",
     "start_time": "2025-09-10T14:02:16.700395Z"
    }
   },
   "source": "# 🎨 Generate and Send Volume Chart as Email Attachment\n# Create professional volume visualization chart optimized for email\n\nif not df.empty and len(df) >= 10:\n    print(\"🎨 Creating volume chart for email attachment...\")\n    \n    # Select top 10 pairs by volume for visualization\n    top_10 = df.nlargest(10, 'volume_24h_usd')\n    \n    # Create horizontal bar chart\n    fig = go.Figure()\n    \n    # Generate clean pair labels\n    pair_labels = [row['trading_pair'] for _, row in top_10.iterrows()]\n    \n    # Create professional color scheme for email\n    colors = ['#E74C3C' if change < 0 else '#27AE60' if change > 0 else '#95A5A6' \n              for change in top_10['price_change_24h_pct']]\n    \n    fig.add_trace(go.Bar(\n        y=pair_labels,\n        x=top_10['volume_24h_usd'],\n        orientation='h',\n        marker=dict(\n            color=colors,\n            opacity=0.8,\n            line=dict(color='rgba(0,0,0,0.1)', width=1)\n        ),\n        text=[f\"${vol/1e6:.1f}M\" for vol in top_10['volume_24h_usd']],\n        textposition='inside',\n        textfont=dict(color='white', size=12, family='Arial Bold'),\n        hovertemplate=(\n            '<b>%{customdata[0]}</b><br>'\n            'Volume: $%{x:,.0f}<br>'\n            'Change: %{customdata[1]:+.2f}%<br>'\n            'Price: $%{customdata[2]:.4f}'\n            '<extra></extra>'\n        ),\n        customdata=list(zip(\n            top_10['trading_pair'],\n            top_10['price_change_24h_pct'],\n            top_10['price']\n        ))\n    ))\n    \n    # Customize layout for professional email presentation\n    fig.update_layout(\n        title=dict(\n            text=f\"Top 10 Trading Pairs by 24h Volume<br><sub>QuantsLab Market Screener - {CONNECTOR_NAME.replace('_', ' ').title()} ({datetime.now(timezone.utc).strftime('%Y-%m-%d %H:%M UTC')})</sub>\",\n            x=0.5,\n            xanchor='center',\n            font=dict(size=20, family='Arial Black', color='#2C3E50')\n        ),\n        xaxis_title=\"24-Hour Trading Volume (USD)\",\n        yaxis_title=\"Trading Pairs\",\n        template=\"plotly_white\",\n        height=700,\n        width=1200,\n        margin=dict(l=140, r=100, t=120, b=80),\n        xaxis=dict(\n            tickformat='$,.0s',\n            showgrid=True,\n            gridwidth=1,\n            gridcolor='#E8E8E8',\n            tickfont=dict(size=11),\n            title_font=dict(size=14, family='Arial Bold')\n        ),\n        yaxis=dict(\n            showgrid=False,\n            tickfont=dict(size=12, family='Arial Bold'),\n            title_font=dict(size=14, family='Arial Bold')\n        ),\n        plot_bgcolor='white',\n        paper_bgcolor='#FAFAFA',\n        font=dict(family='Arial', size=12, color='#2C3E50')\n    )\n    \n    # Add professional footer annotation\n    fig.add_annotation(\n        text=f\"📊 Generated by QuantsLab • Data from {len(df)} trading pairs • {INTERVAL} timeframe\",\n        xref=\"paper\", yref=\"paper\",\n        x=0.5, y=-0.12, xanchor=\"center\", yanchor=\"top\",\n        showarrow=False,\n        font=dict(size=11, color=\"#7F8C8D\", family=\"Arial\")\n    )\n    \n    # Display chart in notebook\n    fig.show()\n    \n    # ============================================\n    # SAVE AND SEND CHART VIA EMAIL ATTACHMENT\n    # ============================================\n    chart_png_path = '/tmp/volume_chart_email.png'\n    \n    print(\"💾 Generating high-quality PNG chart for email attachment...\")\n    \n    try:\n        # Save as high-quality PNG for email\n        fig.write_image(\n            chart_png_path, \n            width=1200, \n            height=700, \n            scale=2,  # High DPI for crisp email display\n            engine='kaleido'\n        )\n        print(f\"✅ High-quality PNG chart saved: {chart_png_path}\")\n        \n        # Send via Email\n        email_notifier = notification_manager.get_notifier('email')\n        \n        if email_notifier:\n            print(\"📧 Sending chart via email as attachment...\")\n            if CUSTOM_EMAIL_RECIPIENTS:\n                print(f\"   📧 Custom recipients: {', '.join(CUSTOM_EMAIL_RECIPIENTS)}\")\n            \n            # Create professional email with chart attachment\n            chart_email_html = f\"\"\"<!DOCTYPE html>\n<html>\n<body style=\"font-family: Arial, sans-serif; margin: 0; padding: 20px; background-color: #f5f5f5;\">\n    <div style=\"max-width: 600px; margin: 0 auto; background-color: white; border-radius: 10px; padding: 30px; box-shadow: 0 4px 6px rgba(0,0,0,0.1);\">\n        <h2 style=\"color: #2C3E50; text-align: center; margin-bottom: 20px;\">📊 Volume Analysis Chart</h2>\n        <p style=\"color: #34495E; font-size: 16px; line-height: 1.6;\">Dear Team,</p>\n        <p style=\"color: #34495E; font-size: 16px; line-height: 1.6;\">\n            Please find attached the latest volume analysis chart showing the top 10 trading pairs by 24-hour volume.\n        </p>\n        <div style=\"background-color: #EBF3FD; border-radius: 8px; padding: 20px; margin: 20px 0; border-left: 4px solid #3498DB;\">\n            <h3 style=\"margin-top: 0; color: #2C3E50;\">📈 Chart Highlights:</h3>\n            <ul style=\"color: #34495E; margin: 10px 0;\">\n                <li><strong>Top Performer:</strong> {top_10.iloc[0]['trading_pair']} (${top_10.iloc[0]['volume_24h_usd']/1e6:.1f}M volume)</li>\n                <li><strong>Total Volume:</strong> ${top_10['volume_24h_usd'].sum():,.0f}</li>\n                <li><strong>Exchange:</strong> {CONNECTOR_NAME.replace('_', ' ').title()}</li>\n                <li><strong>Timeframe:</strong> {INTERVAL} candles</li>\n                <li><strong>Colors:</strong> 🟢 Green = Price Up, 🔴 Red = Price Down</li>\n            </ul>\n        </div>\n        <p style=\"color: #34495E; font-size: 16px; line-height: 1.6;\">\n            The attached chart provides a visual representation of market leadership and can be used for trading decisions and market analysis.\n        </p>\n        <p style=\"color: #7F8C8D; font-size: 12px; text-align: center; margin-top: 30px; border-top: 1px solid #E8E8E8; padding-top: 20px;\">\n            📊 Generated by QuantsLab Market Screener<br>\n            Report Date: {datetime.now(timezone.utc).strftime('%Y-%m-%d %H:%M UTC')}\n        </p>\n    </div>\n</body>\n</html>\"\"\"\n            \n            # Create notification message for chart attachment\n            chart_notification = NotificationMessage(\n                title=f\"📊 Volume Chart - {CONNECTOR_NAME.replace('_', ' ').title()} Market Analysis\",\n                message=chart_email_html,\n                level=\"info\"\n            )\n            \n            # Send email with chart attachment using recipient override\n            chart_success = await email_notifier.send_attachment(\n                message=chart_notification,\n                attachment_path=chart_png_path,\n                attachment_name=\"volume_analysis_chart.png\",\n                to_addresses=CUSTOM_EMAIL_RECIPIENTS  # None = use defaults\n            )\n            \n            print(f\"  📊 Chart Email: {'✅ Sent successfully!' if chart_success else '❌ Failed to send'}\")\n            \n            if chart_success:\n                print(\"🎉 Volume chart delivered via email with professional formatting!\")\n                print(\"📧 Check your email for the chart attachment and analysis\")\n            else:\n                print(\"⚠️ Failed to send chart via email - check SMTP configuration\")\n                print(f\"💾 Chart saved locally at: {chart_png_path}\")\n                \n        else:\n            print(\"⚠️ Email notifier not configured\")\n            print(f\"💾 PNG chart saved locally: {chart_png_path}\")\n            print(\"💡 Configure email settings in .env to send chart attachments\")\n            \n    except ImportError as e:\n        print(f\"❌ Kaleido not installed properly: {e}\")\n        print(\"💡 Try: pip install --upgrade kaleido\")\n    except Exception as e:\n        print(f\"❌ Error generating or sending chart: {e}\")\n        print(\"💡 Check kaleido installation and email configuration\")\n        \nelse:\n    print(\"⚠️ Insufficient data to generate volume chart\")\n    if df.empty:\n        print(\"💡 No data available - ensure data collection tasks are running\")\n    else:\n        print(f\"💡 Only {len(df)} pairs available - need at least 10 for chart generation\")",
   "outputs": [],
   "execution_count": null
  },
  {
   "cell_type": "markdown",
   "id": "cell-12",
   "metadata": {},
   "source": [
    "# 📋 Generate and Email CSV Reports\n",
    "# Create detailed data export and send as email attachment"
   ]
  },
  {
   "cell_type": "code",
   "id": "cell-13",
   "metadata": {},
   "source": "# 📊 Generate and Send Comprehensive CSV Report via Email\n# Create detailed data export for advanced analysis and email as attachment\n\nif not df.empty:\n    print(\"📋 Generating detailed CSV report for email attachment...\")\n    \n    # Prepare comprehensive dataset\n    detailed_df = df.copy()\n    \n    # Add timestamp for the report\n    detailed_df['report_timestamp'] = datetime.now(timezone.utc).strftime('%Y-%m-%d %H:%M:%S UTC')\n    \n    # Calculate additional derived metrics\n    detailed_df['volume_24h_usd_millions'] = detailed_df['volume_24h_usd'] / 1_000_000\n    detailed_df['market_cap_rank'] = detailed_df['volume_rank']  # Use volume rank as proxy\n    \n    # Add performance categories\n    detailed_df['performance_category'] = detailed_df['price_change_24h_pct'].apply(\n        lambda x: 'Strong Gain' if x > 5 else \n                  'Moderate Gain' if x > 1 else \n                  'Stable' if x > -1 else \n                  'Moderate Loss' if x > -5 else 'Strong Loss'\n    )\n    \n    # Add volume categories\n    volume_quantiles = detailed_df['volume_24h_usd'].quantile([0.25, 0.5, 0.75])\n    detailed_df['volume_category'] = detailed_df['volume_24h_usd'].apply(\n        lambda x: 'Very High' if x > volume_quantiles[0.75] else\n                  'High' if x > volume_quantiles[0.5] else\n                  'Medium' if x > volume_quantiles[0.25] else 'Low'\n    )\n    \n    # Reorder columns for better presentation\n    column_order = [\n        'volume_rank', 'trading_pair', 'connector_name', 'price', \n        'volume_24h_usd', 'volume_24h_usd_millions', 'volume_category',\n        'price_change_24h_pct', 'performance_category', 'volatility_pct',\n        'high_24h', 'low_24h', 'position_in_range', 'volume_trend_pct',\n        'composite_score', 'data_points', 'report_timestamp'\n    ]\n    \n    # Add any remaining columns\n    remaining_cols = [col for col in detailed_df.columns if col not in column_order]\n    final_columns = column_order + remaining_cols\n    detailed_df = detailed_df[final_columns]\n    \n    # Create timestamped filename\n    timestamp_str = datetime.now(timezone.utc).strftime(\"%Y%m%d_%H%M\")\n    csv_path = f'/tmp/volume_screener_report_{timestamp_str}.csv'\n    \n    # Save to CSV with proper formatting\n    detailed_df.to_csv(csv_path, index=False, float_format='%.8f')\n    \n    print(f\"✅ CSV report generated: {len(detailed_df)} records\")\n    print(f\"💾 File location: {csv_path}\")\n    \n    # Send via Email if available\n    email_notifier = notification_manager.get_notifier('email')\n    \n    if email_notifier:\n        print(\"📧 Sending CSV report via email as attachment...\")\n        if CUSTOM_EMAIL_RECIPIENTS:\n            print(f\"   📧 Custom recipients: {', '.join(CUSTOM_EMAIL_RECIPIENTS)}\")\n        \n        # Create professional email for CSV attachment\n        csv_email_html = f\"\"\"<!DOCTYPE html>\n<html>\n<body style=\"font-family: Arial, sans-serif; margin: 0; padding: 20px; background-color: #f5f5f5;\">\n    <div style=\"max-width: 600px; margin: 0 auto; background-color: white; border-radius: 10px; padding: 30px; box-shadow: 0 4px 6px rgba(0,0,0,0.1);\">\n        <h2 style=\"color: #2C3E50; text-align: center; margin-bottom: 20px;\">📋 Volume Screener Data Export</h2>\n        <p style=\"color: #34495E; font-size: 16px; line-height: 1.6;\">Dear Team,</p>\n        <p style=\"color: #34495E; font-size: 16px; line-height: 1.6;\">\n            Please find attached the complete volume screener dataset in CSV format for detailed analysis.\n        </p>\n        <div style=\"background-color: #E8F6F3; border-radius: 8px; padding: 20px; margin: 20px 0; border-left: 4px solid #27AE60;\">\n            <h3 style=\"margin-top: 0; color: #2C3E50;\">📊 Dataset Summary:</h3>\n            <ul style=\"color: #34495E; margin: 10px 0; line-height: 1.8;\">\n                <li><strong>Total Records:</strong> {len(detailed_df)} trading pairs</li>\n                <li><strong>Top Volume:</strong> ${detailed_df['volume_24h_usd'].max():,.0f}</li>\n                <li><strong>Exchange:</strong> {CONNECTOR_NAME.replace('_', ' ').title()}</li>\n                <li><strong>Timeframe:</strong> {INTERVAL} candles</li>\n                <li><strong>Categories:</strong> Performance & Volume rankings included</li>\n                <li><strong>Metrics:</strong> Volume, Price Change, Volatility, Trends</li>\n            </ul>\n        </div>\n        <div style=\"background-color: #FEF9E7; border-radius: 8px; padding: 15px; margin: 20px 0; border-left: 4px solid #F39C12;\">\n            <h4 style=\"margin-top: 0; color: #2C3E50;\">💡 Data Usage Tips:</h4>\n            <p style=\"color: #34495E; margin: 5px 0; font-size: 14px;\">• Open in Excel or Google Sheets for pivot tables and analysis</p>\n            <p style=\"color: #34495E; margin: 5px 0; font-size: 14px;\">• Use volume_category and performance_category for filtering</p>\n            <p style=\"color: #34495E; margin: 5px 0; font-size: 14px;\">• Composite_score column provides overall ranking metric</p>\n        </div>\n        <p style=\"color: #34495E; font-size: 16px; line-height: 1.6;\">\n            This comprehensive dataset includes all calculated metrics and can be used for advanced market analysis, \n            backtesting, and strategy development.\n        </p>\n        <p style=\"color: #7F8C8D; font-size: 12px; text-align: center; margin-top: 30px; border-top: 1px solid #E8E8E8; padding-top: 20px;\">\n            📊 Generated by QuantsLab Market Screener<br>\n            Report Date: {datetime.now(timezone.utc).strftime('%Y-%m-%d %H:%M UTC')}<br>\n            Complete dataset with {len(detailed_df)} trading pairs\n        </p>\n    </div>\n</body>\n</html>\"\"\"\n        \n        try:\n            # Create notification message for CSV attachment\n            csv_notification = NotificationMessage(\n                title=f\"📋 Volume Screener Data Export - {datetime.now(timezone.utc).strftime('%Y-%m-%d')}\",\n                message=csv_email_html,\n                level=\"info\"\n            )\n            \n            # Send email with CSV attachment using recipient override\n            doc_success = await email_notifier.send_attachment(\n                message=csv_notification,\n                attachment_path=csv_path,\n                attachment_name=f\"volume_screener_{timestamp_str}.csv\",\n                to_addresses=CUSTOM_EMAIL_RECIPIENTS  # None = use defaults\n            )\n            \n            print(f\"📋 CSV Email: {'✅ Sent successfully!' if doc_success else '❌ Failed to send'}\")\n            \n            if doc_success:\n                print(\"🎉 Detailed CSV report successfully delivered via email!\")\n                print(\"📧 Check your email for the comprehensive dataset attachment\")\n            else:\n                print(\"⚠️ CSV delivery failed - check email SMTP configuration\")\n        except Exception as e:\n            print(f\"❌ Error sending CSV via email: {e}\")\n            print(\"💾 CSV file saved locally and ready for manual distribution\")\n            \n    else:\n        print(\"⚠️ Email notifier not configured for CSV sending\")\n        print(f\"💾 CSV file saved locally and ready for manual distribution\")\n        print(\"💡 Configure email settings in .env to send CSV attachments\")\n    \n    # Display sample of the data\n    print(f\"\\n📋 CSV Report Preview (Top 5 rows):\")\n    print(\"-\" * 100)\n    preview_cols = ['volume_rank', 'trading_pair', 'volume_24h_usd', 'price_change_24h_pct', 'performance_category']\n    available_cols = [col for col in preview_cols if col in detailed_df.columns]\n    print(detailed_df[available_cols].head().to_string(index=False))\n    print(\"-\" * 100)\n    \nelse:\n    print(\"⚠️ No data available for CSV report generation\")\n    print(\"💡 Ensure data collection tasks are running and populating the cache\")",
   "outputs": [],
   "execution_count": null
  },
  {
   "cell_type": "markdown",
   "id": "cell-14",
   "metadata": {},
   "source": [
    "# 🧹 Cleanup and Finalization\n",
    "# Clean up resources and temporary files"
   ]
  },
  {
   "cell_type": "code",
   "id": "cell-15",
   "metadata": {},
   "source": [
    "# 🔒 Cleanup and Summary\n",
    "# Clean up temporary files and provide execution summary\n",
    "\n",
    "print(\"✅ Email volume screener analysis completed successfully\")\n",
    "\n",
    "# Optional: Clean up temporary files\n",
    "import os\n",
    "temp_files = ['/tmp/volume_chart_email.png']\n",
    "csv_files = [f for f in os.listdir('/tmp') if f.startswith('volume_screener_report_') and f.endswith('.csv')]\n",
    "\n",
    "cleanup_count = 0\n",
    "for file_path in temp_files:\n",
    "    if os.path.exists(file_path):\n",
    "        try:\n",
    "            os.remove(file_path)\n",
    "            cleanup_count += 1\n",
    "            print(f\"🗑️  Cleaned up: {file_path}\")\n",
    "        except Exception as e:\n",
    "            print(f\"⚠️  Could not remove {file_path}: {e}\")\n",
    "\n",
    "# Optionally clean up old CSV files (keep only the most recent)\n",
    "if len(csv_files) > 1:\n",
    "    csv_files_full = [f'/tmp/{f}' for f in csv_files]\n",
    "    csv_files_full.sort(key=lambda x: os.path.getctime(x))\n",
    "    \n",
    "    # Remove all but the most recent\n",
    "    for old_csv in csv_files_full[:-1]:\n",
    "        try:\n",
    "            os.remove(old_csv)\n",
    "            cleanup_count += 1\n",
    "            print(f\"🗑️  Cleaned up old CSV: {os.path.basename(old_csv)}\")\n",
    "        except Exception as e:\n",
    "            print(f\"⚠️  Could not remove {old_csv}: {e}\")\n",
    "\n",
    "if cleanup_count > 0:\n",
    "    print(f\"🧹 Cleaned up {cleanup_count} temporary files\")\n",
    "else:\n",
    "    print(\"🧹 No temporary files to clean up\")\n",
    "\n",
    "# Execution Summary\n",
    "print(\"\\n📊 EXECUTION SUMMARY\")\n",
    "print(\"=\" * 50)\n",
    "print(f\"📈 Data Source: CLOB Cached Data ({CONNECTOR_NAME})\")\n",
    "print(f\"⏰ Timeframe: {INTERVAL} candles\")\n",
    "print(f\"💹 Pairs Analyzed: {len(df) if not df.empty else 0}\")\n",
    "print(f\"📧 Email Report Sent: {'✅ Yes' if 'email' in enabled_notifiers else '❌ Email not configured'}\")\n",
    "print(f\"📊 Charts Generated: {'✅ Yes' if not df.empty and len(df) >= 10 else '❌ Insufficient data'}\")\n",
    "print(f\"📋 CSV Export: {'✅ Yes' if not df.empty else '❌ No data available'}\")\n",
    "\n",
    "print(\"\\n🎉 Email volume screener report generation complete!\")\n",
    "if 'email' in enabled_notifiers:\n",
    "    print(\"📧 Check your email for delivered reports, charts, and data files\")\n",
    "    print(\"💡 Reports are delivered as professional HTML emails with attachments\")\n",
    "else:\n",
    "    print(\"💡 Configure email SMTP settings in .env to receive automated reports\")\n",
    "\n",
    "print(\"\\n🔧 Next Steps:\")\n",
    "print(\"  • Run data collection tasks regularly for fresh data\")\n",
    "print(\"  • Adjust TOP_PAIRS_COUNT for different report sizes\")\n",
    "print(\"  • Set FETCH_FRESH_DATA = True for real-time analysis\")\n",
    "print(\"  • Schedule this notebook as a task for automated email reports\")\n",
    "print(\"  • Customize email templates and styling as needed\")"
   ],
   "outputs": [],
   "execution_count": null
  },
  {
   "cell_type": "markdown",
   "id": "cell-16",
   "metadata": {},
   "source": "# 🛠️ Setup and Configuration Guide\n\n## 📧 Recipient Override Examples\n\n### 1. Basic Usage (Use .env defaults)\n```python\n# All None = use configured .env recipients\nCUSTOM_EMAIL_RECIPIENTS = None\nCUSTOM_TELEGRAM_CHAT_IDS = None  \nCUSTOM_SLACK_CHANNELS = None\nCUSTOM_DISCORD_WEBHOOKS = None\n```\n\n### 2. Email Override Examples\n```python\n# Send to specific email addresses\nCUSTOM_EMAIL_RECIPIENTS = [\"analyst@company.com\", \"trader@company.com\"]\n\n# Send to distribution lists\nCUSTOM_EMAIL_RECIPIENTS = [\"trading-team@company.com\", \"risk-management@company.com\"]\n```\n\n### 3. Telegram Override Examples\n```python\n# Send to multiple chats (private chats, groups, channels)\nCUSTOM_TELEGRAM_CHAT_IDS = [\n    \"123456789\",           # Private chat with user\n    \"-1001234567890\",      # Group chat (starts with -100)\n    \"@trading_alerts\"      # Public channel username\n]\n```\n\n### 4. Slack Override Examples\n```python\n# Send to specific channels\nCUSTOM_SLACK_CHANNELS = [\"#trading-alerts\", \"#risk-management\", \"#general\"]\n\n# Send to multiple workspaces\nCUSTOM_SLACK_WEBHOOKS = [\n    \"https://hooks.slack.com/services/T00/B00/XXX\",  # Workspace 1\n    \"https://hooks.slack.com/services/T11/B11/YYY\"   # Workspace 2\n]\n\n# Combine both (sends to each channel in each workspace)\nCUSTOM_SLACK_CHANNELS = [\"#alerts\", \"#trading\"]\nCUSTOM_SLACK_WEBHOOKS = [\"https://hooks.slack.com/services/T00/B00/XXX\"]\n```\n\n### 5. Discord Override Examples\n```python\n# Send to multiple Discord servers/channels\nCUSTOM_DISCORD_WEBHOOKS = [\n    \"https://discord.com/api/webhooks/123/ABC-trading-channel\",\n    \"https://discord.com/api/webhooks/456/DEF-alerts-channel\",\n    \"https://discord.com/api/webhooks/789/GHI-general-channel\"\n]\n```\n\n### 6. Mixed Override Scenarios\n```python\n# Executive Summary: Email only to leadership\nCUSTOM_EMAIL_RECIPIENTS = [\"ceo@company.com\", \"cto@company.com\"]\nCUSTOM_TELEGRAM_CHAT_IDS = None  # Skip Telegram\nCUSTOM_SLACK_CHANNELS = None     # Skip Slack\n\n# Trading Team: All channels with custom recipients\nCUSTOM_EMAIL_RECIPIENTS = [\"traders@company.com\"]\nCUSTOM_TELEGRAM_CHAT_IDS = [\"-1001234567890\"]  # Trading group\nCUSTOM_SLACK_CHANNELS = [\"#trading-floor\"]\nCUSTOM_DISCORD_WEBHOOKS = [\"https://discord.com/api/webhooks/123/trading\"]\n\n# Emergency Alerts: Broadcast everywhere\nCUSTOM_EMAIL_RECIPIENTS = [\"alerts@company.com\", \"oncall@company.com\"]\nCUSTOM_TELEGRAM_CHAT_IDS = [\"123\", \"456\", \"-1001234567890\"]\nCUSTOM_SLACK_CHANNELS = [\"#alerts\", \"#general\", \"#trading\"]  \nCUSTOM_DISCORD_WEBHOOKS = [\n    \"https://discord.com/api/webhooks/111/alerts\",\n    \"https://discord.com/api/webhooks/222/general\"\n]\n```\n\n## 📱 Platform-Specific Features\n\n### **Email**\n- **Multiple Recipients**: Send to unlimited email addresses\n- **Professional Formatting**: HTML with CSS styling\n- **Attachments**: Charts and CSV files included\n- **Corporate Integration**: Works with any SMTP server\n\n### **Telegram**\n- **Multiple Chats**: Private, group, and channel support\n- **Rich Formatting**: HTML/Markdown support\n- **Media Support**: Send charts via `send_photo()` and CSV via `send_document()`\n- **Chat Types**: Users (numbers), Groups (-100...), Channels (@username)\n\n### **Slack**\n- **Multi-Workspace**: Send to different Slack workspaces\n- **Channel Targeting**: Override default channel\n- **Rich Formatting**: Slack markup and emojis\n- **Corporate Integration**: Works with enterprise Slack\n\n### **Discord**\n- **Multi-Server**: Send to multiple Discord servers\n- **Rich Embeds**: Color-coded messages with formatting\n- **Webhook Flexibility**: Easy setup, no bot required\n- **Community Integration**: Perfect for trading communities\n\n## ⚙️ Configuration Files\n\n### .env Configuration (Default Recipients)\n```bash\n# Email Configuration\nEMAIL_ENABLED=true\nSMTP_TO_EMAIL=default@company.com\n\n# Telegram Configuration  \nTELEGRAM_ENABLED=true\nTELEGRAM_CHAT_ID=123456789\n\n# Slack Configuration\nSLACK_ENABLED=true\nSLACK_WEBHOOK_URL=https://hooks.slack.com/services/T00/B00/XXX\nSLACK_CHANNEL=#general\n\n# Discord Configuration\nDISCORD_ENABLED=true\nDISCORD_WEBHOOK_URL=https://discord.com/api/webhooks/123/ABC\n```\n\n### Override Usage Priority\n1. **Custom Variables** (highest priority): `CUSTOM_*_RECIPIENTS`\n2. **Method Parameters**: Direct notifier calls\n3. **Environment Variables** (lowest priority): `.env` defaults\n\n## 🔧 Advanced Usage Patterns\n\n### Pattern 1: Conditional Distribution\n```python\n# Send to different recipients based on market conditions\nif avg_price_change > 5:  # High volatility\n    CUSTOM_EMAIL_RECIPIENTS = [\"executives@company.com\"]\n    CUSTOM_TELEGRAM_CHAT_IDS = [\"-1001234567890\"]  # Urgent alerts group\nelif avg_price_change < -3:  # Market decline\n    CUSTOM_SLACK_CHANNELS = [\"#risk-management\", \"#trading\"]\nelse:  # Normal conditions\n    # Use defaults - all None\n    pass\n```\n\n### Pattern 2: Time-Based Distribution  \n```python\nimport datetime\nhour = datetime.now().hour\n\nif 9 <= hour <= 17:  # Business hours\n    CUSTOM_EMAIL_RECIPIENTS = [\"traders@company.com\"]\n    CUSTOM_SLACK_CHANNELS = [\"#trading-floor\"]\nelse:  # After hours\n    CUSTOM_TELEGRAM_CHAT_IDS = [\"-1001234567890\"]  # Night shift group\n    CUSTOM_DISCORD_WEBHOOKS = [\"https://discord.com/api/webhooks/123/night-alerts\"]\n```\n\n### Pattern 3: Department-Specific Reports\n```python\n# Different reports for different teams\ndef send_to_trading_team():\n    return {\n        'email': [\"traders@company.com\"],\n        'telegram': [\"-1001234567890\"],\n        'slack': [\"#trading-floor\"]\n    }\n\ndef send_to_executives():\n    return {\n        'email': [\"ceo@company.com\", \"cfo@company.com\"],\n        'slack': [\"#executive-updates\"]\n    }\n\n# Usage\nif report_type == \"detailed\":\n    recipients = send_to_trading_team()\nelif report_type == \"summary\": \n    recipients = send_to_executives()\n```\n\n## 🚀 Best Practices\n\n1. **Test Gradually**: Start with one override, then expand\n2. **Document Recipients**: Keep a list of who receives what\n3. **Respect Limits**: Each platform has rate limits and recipient limits\n4. **Error Handling**: Always check delivery results\n5. **Privacy**: Be mindful of sensitive data in group chats\n6. **Compliance**: Ensure email distribution follows company policies\n7. **Backup Channels**: Have multiple notification paths for critical alerts"
  }
 ],
 "metadata": {
  "kernelspec": {
   "display_name": "Python 3 (ipykernel)",
   "language": "python",
   "name": "python3"
  },
  "language_info": {
   "codemirror_mode": {
    "name": "ipython",
    "version": 3
   },
   "file_extension": ".py",
   "mimetype": "text/x-python",
   "name": "python",
   "nbconvert_exporter": "python",
   "pygments_lexer": "ipython3",
   "version": "3.12.0"
  }
 },
 "nbformat": 4,
 "nbformat_minor": 5
}