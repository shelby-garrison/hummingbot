{
 "cells": [
  {
   "cell_type": "markdown",
   "id": "cell-0",
   "metadata": {},
   "source": [
    "# Telegram Market Screener Report Generator (Cache-Based)\n",
    "\n",
    "## 📊 Overview\n",
    "This notebook generates automated market screener reports using cached CLOB data and distributes them via Telegram. It integrates with the QuantsLab notification system to send formatted volume reports, interactive charts, and detailed data files directly to Telegram channels or users for real-time market monitoring.\n",
    "\n",
    "## 🎯 Objectives\n",
    "1. **Data Loading**: Load cached candle data from CLOB data source\n",
    "2. **Volume Analysis**: Calculate volume metrics and identify top performers\n",
    "3. **Report Generation**: Create formatted volume reports with rankings\n",
    "4. **Telegram Integration**: Send reports via Telegram bot using notification system\n",
    "5. **Chart Creation**: Generate interactive Plotly charts for visual analysis\n",
    "6. **File Distribution**: Send CSV reports and chart files for detailed analysis\n",
    "\n",
    "## 📋 Prerequisites\n",
    "- Cached CLOB candle data (run data collection tasks first)\n",
    "- Telegram bot configuration (bot token and chat ID in .env)\n",
    "- QuantsLab notification system setup\n",
    "- Environment variables configured (.env file)\n",
    "- Plotly and pandas for analysis\n",
    "\n",
    "## ⚠️ Important Notes\n",
    "- **Data Source**: Uses cached CLOB data instead of live database queries\n",
    "- **Telegram Bot Setup**: Requires BotFather bot token and target chat ID\n",
    "- **File Handling**: Temporary files created in /tmp directory for chart/CSV export\n",
    "- **Rate Limiting**: Be mindful of Telegram API rate limits for file uploads\n",
    "\n",
    "## 📈 Expected Outputs\n",
    "- Formatted volume report messages sent to Telegram\n",
    "- Interactive volume charts (PNG and HTML formats)\n",
    "- Detailed CSV reports with complete market data\n",
    "- Real-time market monitoring capabilities via Telegram bot"
   ]
  },
  {
   "cell_type": "code",
   "id": "cell-1",
   "metadata": {
    "ExecuteTime": {
     "end_time": "2025-09-10T13:37:17.510129Z",
     "start_time": "2025-09-10T13:37:16.884359Z"
    }
   },
   "source": [
    "# 🔌 Initialize QuantsLab Services\n",
    "# Import and configure core services and notification system\n",
    "import warnings\n",
    "warnings.filterwarnings(\"ignore\")\n",
    "\n",
    "from core.data_sources.clob import CLOBDataSource\n",
    "from core.notifiers import NotificationManager, NotificationMessage\n",
    "import pandas as pd\n",
    "import numpy as np\n",
    "import plotly.graph_objects as go\n",
    "import os\n",
    "from datetime import datetime, timezone\n",
    "from dotenv import load_dotenv\n",
    "\n",
    "# Load environment variables from .env file\n",
    "load_dotenv()\n",
    "\n",
    "print(\"✅ QuantsLab modules imported successfully\")\n",
    "print(\"📊 Services available: CLOB data source, Notification system\")\n",
    "print(\"⚙️ Environment variables loaded from .env\")"
   ],
   "outputs": [
    {
     "name": "stdout",
     "output_type": "stream",
     "text": [
      "✅ QuantsLab modules imported successfully\n",
      "📊 Services available: CLOB data source, Notification system\n",
      "⚙️ Environment variables loaded from .env\n"
     ]
    }
   ],
   "execution_count": 1
  },
  {
   "cell_type": "markdown",
   "id": "cell-2",
   "metadata": {},
   "source": [
    "# ⚙️ Configuration and Data Loading\n",
    "# Set up data source and load cached market data"
   ]
  },
  {
   "cell_type": "code",
   "id": "cell-3",
   "metadata": {
    "ExecuteTime": {
     "end_time": "2025-09-10T13:37:18.219457Z",
     "start_time": "2025-09-10T13:37:18.042811Z"
    }
   },
   "source": [
    "# Configuration Parameters\n",
    "CONNECTOR_NAME = \"binance_perpetual\"  # Exchange connector to use\n",
    "QUOTE_ASSET = \"USDT\"                  # Quote currency for trading pairs\n",
    "INTERVAL = \"15m\"                       # Candle interval for analysis\n",
    "FETCH_FRESH_DATA = False              # Set to True to fetch fresh data from exchange\n",
    "DAYS = 7                              # Days of historical data (when fetching fresh)\n",
    "TOP_PAIRS_COUNT = 15                  # Number of top pairs to include in report\n",
    "\n",
    "# Initialize CLOB data source\n",
    "clob = CLOBDataSource()\n",
    "\n",
    "# Initialize notification manager\n",
    "notification_manager = NotificationManager()\n",
    "enabled_notifiers = notification_manager.get_enabled_notifiers()\n",
    "\n",
    "print(f\"📊 Configuration loaded:\")\n",
    "print(f\"  - Connector: {CONNECTOR_NAME}\")\n",
    "print(f\"  - Quote Asset: {QUOTE_ASSET}\")\n",
    "print(f\"  - Interval: {INTERVAL}\")\n",
    "print(f\"  - Top Pairs: {TOP_PAIRS_COUNT}\")\n",
    "print(f\"🔔 Enabled notifiers: {', '.join(enabled_notifiers) if enabled_notifiers else 'None configured'}\")"
   ],
   "outputs": [
    {
     "name": "stdout",
     "output_type": "stream",
     "text": [
      "📊 Configuration loaded:\n",
      "  - Connector: binance_perpetual\n",
      "  - Quote Asset: USDT\n",
      "  - Interval: 15m\n",
      "  - Top Pairs: 15\n",
      "🔔 Enabled notifiers: telegram\n"
     ]
    }
   ],
   "execution_count": 2
  },
  {
   "cell_type": "code",
   "id": "cell-4",
   "metadata": {
    "ExecuteTime": {
     "end_time": "2025-09-10T13:37:18.929480Z",
     "start_time": "2025-09-10T13:37:18.709807Z"
    }
   },
   "source": [
    "# 📊 Load Market Data from Cache\n",
    "# Load cached candle data or fetch fresh data if configured\n",
    "\n",
    "if FETCH_FRESH_DATA:\n",
    "    print(\"🔄 Fetching fresh data from exchange...\")\n",
    "    # Get trading pairs\n",
    "    trading_rules = await clob.get_trading_rules(CONNECTOR_NAME)\n",
    "    trading_pairs = [\n",
    "        pair for pair in trading_rules.get_all_trading_pairs() \n",
    "        if pair.split(\"-\")[1] == QUOTE_ASSET\n",
    "    ]\n",
    "    \n",
    "    # Fetch candle data\n",
    "    candles = await clob.get_candles_batch_last_days(\n",
    "        CONNECTOR_NAME, trading_pairs, INTERVAL, DAYS, 2, 1.0\n",
    "    )\n",
    "    \n",
    "    # Save to cache\n",
    "    clob.dump_candles_cache()\n",
    "    print(f\"✅ Fetched data for {len(candles)} trading pairs\")\nelse:\n",
    "    print(\"📂 Loading data from cache...\")\n",
    "    clob.load_candles_cache()\n",
    "    print(\"✅ Cache loaded successfully\")\n",
    "\n",
    "# Filter cached data for our requirements\n",
    "candles = [\n",
    "    candle for key, candle in clob.candles_cache.items()\n",
    "    if key[0] == CONNECTOR_NAME and key[2] == INTERVAL and key[1].endswith(f\"-{QUOTE_ASSET}\")\n",
    "]\n",
    "\n",
    "print(f\"📈 Found {len(candles)} datasets matching criteria:\")\n",
    "print(f\"  - Connector: {CONNECTOR_NAME}\")\n",
    "print(f\"  - Interval: {INTERVAL}\")\n",
    "print(f\"  - Quote Asset: {QUOTE_ASSET}\")\n",
    "\n",
    "if len(candles) == 0:\n",
    "    print(\"⚠️  No cached data found. Please:\")\n",
    "    print(\"   1. Set FETCH_FRESH_DATA = True to fetch new data\")\n",
    "    print(\"   2. Or run data collection tasks to populate cache\")\n",
    "else:\n",
    "    sample_pairs = [candle.trading_pair for candle in candles[:5]]\n",
    "    print(f\"📊 Sample pairs: {', '.join(sample_pairs)}{'...' if len(candles) > 5 else ''}\")"
   ],
   "outputs": [
    {
     "name": "stdout",
     "output_type": "stream",
     "text": [
      "📂 Loading data from cache...\n",
      "✅ Cache loaded successfully\n",
      "📈 Found 21 datasets matching criteria:\n",
      "  - Connector: binance_perpetual\n",
      "  - Interval: 15m\n",
      "  - Quote Asset: USDT\n",
      "📊 Sample pairs: XRP-USDT, ETH-USDT, DOGE-USDT, DOT-USDT, OP-USDT...\n"
     ]
    }
   ],
   "execution_count": 3
  },
  {
   "cell_type": "markdown",
   "id": "cell-5",
   "metadata": {},
   "source": [
    "# 📊 Market Analysis and Volume Metrics\n",
    "# Calculate volume metrics and create market ranking"
   ]
  },
  {
   "cell_type": "code",
   "id": "cell-6",
   "metadata": {
    "ExecuteTime": {
     "end_time": "2025-09-10T13:37:21.883730Z",
     "start_time": "2025-09-10T13:37:21.865264Z"
    }
   },
   "source": [
    "# 💹 Calculate Volume Metrics for Market Screening\n",
    "# Process each trading pair and calculate comprehensive volume metrics\n",
    "\n",
    "volume_report = []\n",
    "\n",
    "for candle in candles:\n",
    "    try:\n",
    "        df = candle.data.copy()\n",
    "        \n",
    "        if df.empty or len(df) < 24:  # Need at least 24 hours of data\n",
    "            continue\n",
    "            \n",
    "        # Calculate volume metrics\n",
    "        latest_price = df['close'].iloc[-1]\n",
    "        \n",
    "        # Volume analysis (last 24 hours)\n",
    "        df_24h = df.tail(24) if len(df) >= 24 else df\n",
    "        volume_24h_base = df_24h['volume'].sum()\n",
    "        volume_24h_usd = volume_24h_base * latest_price\n",
    "        \n",
    "        # Price change analysis\n",
    "        price_24h_ago = df_24h['close'].iloc[0] if len(df_24h) > 1 else latest_price\n",
    "        price_change_24h = ((latest_price - price_24h_ago) / price_24h_ago * 100) if price_24h_ago > 0 else 0\n",
    "        \n",
    "        # Volatility analysis\n",
    "        price_std = df_24h['close'].std()\n",
    "        volatility_pct = (price_std / latest_price * 100) if latest_price > 0 else 0\n",
    "        \n",
    "        # High/Low analysis\n",
    "        high_24h = df_24h['high'].max()\n",
    "        low_24h = df_24h['low'].min()\n",
    "        \n",
    "        # Current position in 24h range (0 = at low, 1 = at high)\n",
    "        range_24h = high_24h - low_24h\n",
    "        position_in_range = ((latest_price - low_24h) / range_24h) if range_24h > 0 else 0.5\n",
    "        \n",
    "        # Volume trend (compare recent vs earlier volume)\n",
    "        recent_volume = df.tail(6)['volume'].mean()  # Last 6 hours average\n",
    "        earlier_volume = df.iloc[-24:-6]['volume'].mean() if len(df) >= 24 else recent_volume\n",
    "        volume_trend = ((recent_volume - earlier_volume) / earlier_volume * 100) if earlier_volume > 0 else 0\n",
    "        \n",
    "        # Calculate a composite score (volume * volatility * price momentum)\n",
    "        momentum_factor = abs(price_change_24h) / 100  # Normalize price change\n",
    "        volume_factor = volume_24h_usd / 1000000  # Normalize to millions USD\n",
    "        volatility_factor = volatility_pct / 100  # Normalize volatility\n",
    "        \n",
    "        composite_score = volume_factor * volatility_factor * (1 + momentum_factor)\n",
    "        \n",
    "        volume_report.append({\n",
    "            'trading_pair': candle.trading_pair,\n",
    "            'connector_name': CONNECTOR_NAME,\n",
    "            'price': latest_price,\n",
    "            'volume_24h_base': volume_24h_base,\n",
    "            'volume_24h_usd': volume_24h_usd,\n",
    "            'price_change_24h_pct': price_change_24h,\n",
    "            'volatility_pct': volatility_pct,\n",
    "            'high_24h': high_24h,\n",
    "            'low_24h': low_24h,\n",
    "            'position_in_range': position_in_range,\n",
    "            'volume_trend_pct': volume_trend,\n",
    "            'composite_score': composite_score,\n",
    "            'data_points': len(df)\n",
    "        })\n",
    "        \n",
    "    except Exception as e:\n",
    "        print(f\"⚠️  Error processing {candle.trading_pair}: {e}\")\n",
    "        continue\n",
    "\n",
    "# Convert to DataFrame and sort by volume\n",
    "df = pd.DataFrame(volume_report)\n",
    "\n",
    "if df.empty:\n",
    "    print(\"❌ No data could be processed for volume analysis\")\n",
    "    print(\"💡 Please check if cached data is available or fetch fresh data\")\nelse:\n",
    "    # Sort by volume (USD) and add ranking\n",
    "    df = df.sort_values('volume_24h_usd', ascending=False).reset_index(drop=True)\n",
    "    df['volume_rank'] = range(1, len(df) + 1)\n",
    "    \n",
    "    print(f\"📊 Volume Analysis Complete:\")\n",
    "    print(f\"  - Total pairs analyzed: {len(df)}\")\n",
    "    print(f\"  - Top volume: ${df['volume_24h_usd'].max():,.0f}\")\n",
    "    print(f\"  - Date range: {INTERVAL} candles\")\n",
    "    \n",
    "    # Show top performers\n",
    "    print(f\"\\n🏆 TOP {min(10, len(df))} BY VOLUME:\")\n",
    "    print(\"-\" * 70)\n",
    "    \n",
    "    display_cols = ['volume_rank', 'trading_pair', 'volume_24h_usd', 'price_change_24h_pct', 'volatility_pct']\n",
    "    top_pairs = df[display_cols].head(10)\n",
    "    \n",
    "    for _, row in top_pairs.iterrows():\n",
    "        print(f\"  {row['volume_rank']:2d}. {row['trading_pair']:12s} | \"\n",
    "              f\"Vol: ${row['volume_24h_usd']:>10,.0f} | \"\n",
    "              f\"Change: {row['price_change_24h_pct']:>+6.2f}% | \"\n",
    "              f\"Vol: {row['volatility_pct']:>5.2f}%\")"
   ],
   "outputs": [
    {
     "name": "stdout",
     "output_type": "stream",
     "text": [
      "📊 Volume Analysis Complete:\n",
      "  - Total pairs analyzed: 21\n",
      "  - Top volume: $4,380,802,256\n",
      "  - Date range: 15m candles\n",
      "\n",
      "🏆 TOP 10 BY VOLUME:\n",
      "----------------------------------------------------------------------\n",
      "   1. ETH-USDT     | Vol: $4,380,802,256 | Change:  +0.80% | Vol:  0.26%\n",
      "   2. BTC-USDT     | Vol: $3,864,052,880 | Change:  +0.36% | Vol:  0.19%\n",
      "   3. SOL-USDT     | Vol: $1,624,360,790 | Change:  +1.17% | Vol:  0.44%\n",
      "   4. WLD-USDT     | Vol: $1,260,812,640 | Change: +12.32% | Vol:  3.88%\n",
      "   5. XRP-USDT     | Vol: $573,313,000 | Change:  +1.44% | Vol:  0.53%\n",
      "   6. DOGE-USDT    | Vol: $489,970,725 | Change:  +1.88% | Vol:  0.44%\n",
      "   7. ADA-USDT     | Vol: $225,605,574 | Change:  +1.99% | Vol:  0.61%\n",
      "   8. LINK-USDT    | Vol: $185,966,285 | Change:  +1.46% | Vol:  0.38%\n",
      "   9. AVAX-USDT    | Vol: $134,115,202 | Change:  +2.68% | Vol:  0.74%\n",
      "  10. BNB-USDT     | Vol: $103,109,510 | Change:  +0.49% | Vol:  0.18%\n"
     ]
    }
   ],
   "execution_count": 4
  },
  {
   "cell_type": "markdown",
   "id": "cell-7",
   "metadata": {},
   "source": [
    "# 📤 Generate and Send Telegram Volume Report\n",
    "# Create formatted report and send via Telegram notification system"
   ]
  },
  {
   "cell_type": "code",
   "id": "cell-8",
   "metadata": {
    "ExecuteTime": {
     "end_time": "2025-09-10T13:37:23.822124Z",
     "start_time": "2025-09-10T13:37:23.814963Z"
    }
   },
   "source": [
    "# 🚀 Generate Volume Report for Telegram Distribution\n",
    "# Create comprehensive volume report with top performing pairs\n",
    "\n",
    "if not df.empty:\n",
    "    # Select top pairs for the report\n",
    "    top_pairs = df.head(TOP_PAIRS_COUNT)\n",
    "    \n",
    "    # Generate report timestamp\n",
    "    report_time = datetime.now(timezone.utc).strftime('%Y-%m-%d %H:%M UTC')\n",
    "    \n",
    "    # Calculate summary statistics\n",
    "    total_volume = df['volume_24h_usd'].sum()\n",
    "    avg_price_change = df['price_change_24h_pct'].mean()\n",
    "    max_gainer = df.loc[df['price_change_24h_pct'].idxmax()]\n",
    "    max_loser = df.loc[df['price_change_24h_pct'].idxmin()]\n",
    "    \n",
    "    # Build the report message\n",
    "    report_message = f\"\"\"📊 <b>Volume Screener Report</b>\n",
    "📅 {report_time}\n",
    "🔗 Exchange: {CONNECTOR_NAME.replace('_', ' ').title()}\n",
    "⏰ Timeframe: {INTERVAL} candles\n",
    "\n",
    "📈 <b>Market Summary</b>\n",
    "💰 Total Volume (Top {len(df)}): ${total_volume:,.0f}\n",
    "📊 Avg Price Change: {avg_price_change:+.2f}%\n",
    "🚀 Top Gainer: {max_gainer['trading_pair']} ({max_gainer['price_change_24h_pct']:+.2f}%)\n",
    "📉 Top Loser: {max_loser['trading_pair']} ({max_loser['price_change_24h_pct']:+.2f}%)\n",
    "\n",
    "🏆 <b>Top {TOP_PAIRS_COUNT} by Volume</b>\n",
    "\"\"\"\n",
    "    \n",
    "    # Add top pairs to the report\n",
    "    for i, (_, row) in enumerate(top_pairs.iterrows(), 1):\n",
    "        # Format volume in appropriate units\n",
    "        volume_usd = row['volume_24h_usd']\n",
    "        if volume_usd >= 1_000_000:\n",
    "            volume_str = f\"${volume_usd/1_000_000:.1f}M\"\n",
    "        elif volume_usd >= 1_000:\n",
    "            volume_str = f\"${volume_usd/1_000:.0f}K\"\n",
    "        else:\n",
    "            volume_str = f\"${volume_usd:.0f}\"\n",
    "        \n",
    "        # Emoji for price change\n",
    "        change_pct = row['price_change_24h_pct']\n",
    "        change_emoji = \"🟢\" if change_pct > 0 else \"🔴\" if change_pct < 0 else \"⚪\"\n",
    "        \n",
    "        # Format the line\n",
    "        report_message += f\"{i:2d}. <code>{row['trading_pair']:12s}</code> {volume_str:>8s} {change_emoji} {change_pct:+5.1f}%\\n\"\n",
    "    \n",
    "    # Add footer\n",
    "    report_message += f\"\\n💡 <i>Data from {len(df)} trading pairs | QuantsLab</i>\"\n",
    "    \n",
    "    print(\"📤 Volume report generated successfully\")\n",
    "    print(f\"📊 Report includes {len(top_pairs)} top pairs\")\n",
    "    print(f\"💰 Total market volume: ${total_volume:,.0f}\")\n",
    "    \nelse:\n",
    "    report_message = f\"\"\"⚠️ <b>Volume Screener Report - No Data</b>\n",
    "📅 {datetime.now(timezone.utc).strftime('%Y-%m-%d %H:%M UTC')}\n",
    "\n",
    "❌ No market data available for analysis\n",
    "💡 Please check data collection tasks or fetch fresh data\n",
    "\n",
    "🔧 <i>QuantsLab Market Screener</i>\"\"\"\n",
    "    \n",
    "    print(\"⚠️  No data available for report generation\")\n",
    "\n",
    "# Display the report for preview\n",
    "print(\"\\n📋 TELEGRAM REPORT PREVIEW:\")\nprint(\"=\" * 50)\nprint(report_message.replace('<b>', '**').replace('</b>', '**').replace('<code>', '`').replace('</code>', '`').replace('<i>', '_').replace('</i>', '_'))\nprint(\"=\" * 50)"
   ],
   "outputs": [
    {
     "name": "stdout",
     "output_type": "stream",
     "text": [
      "📤 Volume report generated successfully\n",
      "📊 Report includes 15 top pairs\n",
      "💰 Total market volume: $13,370,789,540\n",
      "\n",
      "📋 TELEGRAM REPORT PREVIEW:\n",
      "==================================================\n",
      "📊 **Volume Screener Report**\n",
      "📅 2025-09-10 13:37 UTC\n",
      "🔗 Exchange: Binance Perpetual\n",
      "⏰ Timeframe: 15m candles\n",
      "\n",
      "📈 **Market Summary**\n",
      "💰 Total Volume (Top 21): $13,370,789,540\n",
      "📊 Avg Price Change: +2.26%\n",
      "🚀 Top Gainer: WLD-USDT (+12.32%)\n",
      "📉 Top Loser: BTC-USDT (+0.36%)\n",
      "\n",
      "🏆 **Top 15 by Volume**\n",
      " 1. `ETH-USDT    ` $4380.8M 🟢  +0.8%\n",
      " 2. `BTC-USDT    ` $3864.1M 🟢  +0.4%\n",
      " 3. `SOL-USDT    ` $1624.4M 🟢  +1.2%\n",
      " 4. `WLD-USDT    ` $1260.8M 🟢 +12.3%\n",
      " 5. `XRP-USDT    `  $573.3M 🟢  +1.4%\n",
      " 6. `DOGE-USDT   `  $490.0M 🟢  +1.9%\n",
      " 7. `ADA-USDT    `  $225.6M 🟢  +2.0%\n",
      " 8. `LINK-USDT   `  $186.0M 🟢  +1.5%\n",
      " 9. `AVAX-USDT   `  $134.1M 🟢  +2.7%\n",
      "10. `BNB-USDT    `  $103.1M 🟢  +0.5%\n",
      "11. `ARB-USDT    `   $81.3M 🟢  +3.1%\n",
      "12. `LTC-USDT    `   $72.3M 🟢  +0.8%\n",
      "13. `UNI-USDT    `   $70.1M 🟢  +2.6%\n",
      "14. `NEAR-USDT   `   $65.9M 🟢  +2.8%\n",
      "15. `DOT-USDT    `   $60.4M 🟢  +2.6%\n",
      "\n",
      "💡 _Data from 21 trading pairs | QuantsLab_\n",
      "==================================================\n"
     ]
    }
   ],
   "execution_count": 5
  },
  {
   "cell_type": "code",
   "id": "cell-9",
   "metadata": {
    "ExecuteTime": {
     "end_time": "2025-09-10T13:37:26.092162Z",
     "start_time": "2025-09-10T13:37:25.124769Z"
    }
   },
   "source": [
    "# 🚀 Send Volume Report via Telegram\n",
    "# Distribute the report through the notification system\n",
    "\n",
    "notification = NotificationMessage(\n",
    "    title=\"📊 Daily Volume Screener Report\",\n",
    "    message=report_message,\n",
    "    level=\"info\",\n",
    ")\n",
    "\n",
    "print(\"📤 Sending volume report via notification system...\")\n",
    "\n",
    "# Send notification to all enabled notifiers\n",
    "try:\n",
    "    results = await notification_manager.send_notification(notification)\n",
    "    \n",
    "    print(\"\\n📊 Notification Delivery Results:\")\n",
    "    print(\"-\" * 40)\n",
    "    for service, success in results.items():\n",
    "        status_emoji = \"✅\" if success else \"❌\"\n",
    "        status_text = \"Delivered\" if success else \"Failed\"\n",
    "        print(f\"  {status_emoji} {service.capitalize()}: {status_text}\")\n",
    "    \n",
    "    # Summary\n",
    "    successful_deliveries = sum(results.values())\n",
    "    total_services = len(results)\n",
    "    print(f\"\\n📈 Delivery Summary: {successful_deliveries}/{total_services} services successful\")\n",
    "    \n",
    "    if successful_deliveries == 0:\n",
    "        print(\"⚠️ No notifications were delivered successfully\")\n",
    "        print(\"💡 Check your notification configuration in .env file\")\n",
    "    elif 'telegram' in results and results['telegram']:\n",
    "        print(\"🎉 Volume report successfully sent to Telegram!\")\n",
    "    else:\n",
    "        print(\"⚠️ Telegram delivery failed - check bot configuration\")\n",
    "        \n",
    "except Exception as e:\n",
    "    print(f\"❌ Error sending notification: {e}\")\n",
    "    print(\"💡 Check your Telegram bot configuration and network connection\")"
   ],
   "outputs": [
    {
     "name": "stdout",
     "output_type": "stream",
     "text": [
      "📤 Sending volume report via notification system...\n",
      "\n",
      "📊 Notification Delivery Results:\n",
      "----------------------------------------\n",
      "  ✅ Telegram: Delivered\n",
      "\n",
      "📈 Delivery Summary: 1/1 services successful\n",
      "🎉 Volume report successfully sent to Telegram!\n"
     ]
    }
   ],
   "execution_count": 6
  },
  {
   "cell_type": "markdown",
   "id": "cell-10",
   "metadata": {},
   "source": [
    "# 📊 Advanced: Interactive Volume Charts\n",
    "# Generate and send visual analytics via Telegram"
   ]
  },
  {
   "cell_type": "code",
   "id": "cell-11",
   "metadata": {
    "ExecuteTime": {
     "end_time": "2025-09-10T13:37:33.104843Z",
     "start_time": "2025-09-10T13:37:29.392008Z"
    }
   },
   "source": "# 🎨 Generate and Send Volume Chart as PNG\n# Create professional volume visualization chart for Telegram\n\nif not df.empty and len(df) >= 10:\n    print(\"🎨 Creating volume chart for Telegram...\")\n    \n    # Select top 10 pairs by volume for visualization\n    top_10 = df.nlargest(10, 'volume_24h_usd')\n    \n    # Create horizontal bar chart\n    fig = go.Figure()\n    \n    # Generate clean pair labels\n    pair_labels = [row['trading_pair'] for _, row in top_10.iterrows()]\n    \n    # Create color scheme based on price change\n    colors = ['#FF4444' if change < 0 else '#44FF44' if change > 0 else '#888888' \n              for change in top_10['price_change_24h_pct']]\n    \n    fig.add_trace(go.Bar(\n        y=pair_labels,\n        x=top_10['volume_24h_usd'],\n        orientation='h',\n        marker=dict(\n            color=colors,\n            opacity=0.8,\n            line=dict(color='rgba(0,0,0,0.2)', width=1)\n        ),\n        text=[f\"${vol/1e6:.1f}M\" for vol in top_10['volume_24h_usd']],\n        textposition='inside',\n        textfont=dict(color='white', size=11, family='Arial Bold'),\n        hovertemplate=(\n            '<b>%{customdata[0]}</b><br>'\n            'Volume: $%{x:,.0f}<br>'\n            'Change: %{customdata[1]:+.2f}%<br>'\n            'Price: $%{customdata[2]:.4f}'\n            '<extra></extra>'\n        ),\n        customdata=list(zip(\n            top_10['trading_pair'],\n            top_10['price_change_24h_pct'],\n            top_10['price']\n        ))\n    ))\n    \n    # Customize layout for clean PNG export\n    fig.update_layout(\n        title=dict(\n            text=f\"Top 10 Trading Pairs by 24h Volume<br><sub>{CONNECTOR_NAME.replace('_', ' ').title()} - {datetime.now(timezone.utc).strftime('%Y-%m-%d %H:%M UTC')}</sub>\",\n            x=0.5,\n            xanchor='center',\n            font=dict(size=18, family='Arial Bold', color='#333333')\n        ),\n        xaxis_title=\"24-Hour Volume (USD)\",\n        yaxis_title=\"\",\n        template=\"plotly_white\",\n        height=600,\n        width=1000,\n        margin=dict(l=120, r=80, t=100, b=60),\n        xaxis=dict(\n            tickformat='$,.0s',\n            showgrid=True,\n            gridwidth=1,\n            gridcolor='#E0E0E0',\n            tickfont=dict(size=10)\n        ),\n        yaxis=dict(\n            showgrid=False,\n            tickfont=dict(size=11, family='Arial')\n        ),\n        plot_bgcolor='white',\n        paper_bgcolor='white',\n        font=dict(family='Arial', size=12, color='#333333')\n    )\n    \n    # Display chart in notebook\n    fig.show()\n    \n    # ============================================\n    # SAVE AND SEND PNG CHART VIA TELEGRAM\n    # ============================================\n    chart_png_path = '/tmp/volume_chart.png'\n    \n    print(\"💾 Generating PNG chart for Telegram...\")\n    \n    try:\n        # Save as high-quality PNG\n        fig.write_image(\n            chart_png_path, \n            width=1000, \n            height=600, \n            scale=2,  # 2x resolution for better quality\n            engine='kaleido'\n        )\n        print(f\"✅ PNG chart saved: {chart_png_path}\")\n        \n        # Send via Telegram\n        telegram_notifier = notification_manager.get_notifier('telegram')\n        \n        if telegram_notifier:\n            print(\"📤 Sending PNG chart via Telegram...\")\n            \n            # Create caption for the image\n            png_caption = f\"\"\"📊 <b>Volume Analysis Chart</b>\n\n🏆 Top 10 trading pairs by 24h volume\n💰 Total Volume: ${top_10['volume_24h_usd'].sum():,.0f}\n📈 {CONNECTOR_NAME.replace('_', ' ').title()}\n\n🟢 Green = Price Up | 🔴 Red = Price Down\n\n<i>Generated by QuantsLab Market Screener</i>\"\"\"\n            \n            # Send PNG image\n            chart_success = await telegram_notifier.send_photo(\n                chart_png_path,\n                caption=png_caption\n            )\n            \n            print(f\"  📊 PNG Chart: {'✅ Sent successfully!' if chart_success else '❌ Failed to send'}\")\n            \n            if chart_success:\n                print(\"🎉 Volume chart delivered to Telegram!\")\n            else:\n                print(\"⚠️ Failed to send chart - check Telegram configuration\")\n                print(f\"💾 Chart saved locally at: {chart_png_path}\")\n                \n        else:\n            print(\"⚠️ Telegram notifier not configured\")\n            print(f\"💾 PNG chart saved locally: {chart_png_path}\")\n            \n    except ImportError as e:\n        print(f\"❌ Kaleido not installed properly: {e}\")\n        print(\"💡 Try: pip install --upgrade kaleido\")\n        print(\"💡 Or: conda install -c conda-forge python-kaleido\")\n    except Exception as e:\n        print(f\"❌ Error generating PNG chart: {e}\")\n        print(\"💡 Make sure kaleido is properly installed\")\n        \n        # Fallback: Save as HTML\n        html_path = '/tmp/volume_chart.html'\n        fig.write_html(html_path)\n        print(f\"📄 Saved as HTML fallback: {html_path}\")\n        \nelse:\n    print(\"⚠️ Insufficient data to generate volume chart\")\n    if df.empty:\n        print(\"💡 No data available - ensure data collection tasks are running\")\n    else:\n        print(f\"💡 Only {len(df)} pairs available - need at least 10 for chart\")",
   "outputs": [
    {
     "name": "stdout",
     "output_type": "stream",
     "text": [
      "🎨 Creating volume chart for Telegram...\n"
     ]
    },
    {
     "data": {
      "application/vnd.plotly.v1+json": {
       "data": [
        {
         "customdata": [
          [
           "ETH-USDT",
           0.7973147957257274,
           4351.41
          ],
          [
           "BTC-USDT",
           0.3579064877907065,
           112553.6
          ],
          [
           "SOL-USDT",
           1.1715481171548165,
           217.62
          ],
          [
           "WLD-USDT",
           12.322171153425261,
           2.0528
          ],
          [
           "XRP-USDT",
           1.4407666093059488,
           3.0064
          ],
          [
           "DOGE-USDT",
           1.8751053429968016,
           0.24177
          ],
          [
           "ADA-USDT",
           1.9917107989868732,
           0.8859
          ],
          [
           "LINK-USDT",
           1.4553728587987902,
           23.632
          ],
          [
           "AVAX-USDT",
           2.6775136245162345,
           26.0
          ],
          [
           "BNB-USDT",
           0.49119048161738943,
           881.77
          ]
         ],
         "hovertemplate": "<b>%{customdata[0]}</b><br>Volume: $%{x:,.0f}<br>Change: %{customdata[1]:+.2f}%<br>Price: $%{customdata[2]:.4f}<extra></extra>",
         "marker": {
          "color": [
           "#44FF44",
           "#44FF44",
           "#44FF44",
           "#44FF44",
           "#44FF44",
           "#44FF44",
           "#44FF44",
           "#44FF44",
           "#44FF44",
           "#44FF44"
          ],
          "line": {
           "color": "rgba(0,0,0,0.2)",
           "width": 1
          },
          "opacity": 0.8
         },
         "orientation": "h",
         "text": [
          "$4380.8M",
          "$3864.1M",
          "$1624.4M",
          "$1260.8M",
          "$573.3M",
          "$490.0M",
          "$225.6M",
          "$186.0M",
          "$134.1M",
          "$103.1M"
         ],
         "textfont": {
          "color": "white",
          "family": "Arial Bold",
          "size": 11
         },
         "textposition": "inside",
         "x": {
          "dtype": "f8",
          "bdata": "zIb+zNtR8EEj2/mRGMrsQYXJnNVxNNhB1XjpV57J0kE2WePzBxbBQZ3c5yRcNL1BrfqcjO/kqkFtBOKaPSumQQAAAAi++Z9BVg6tGU6VmEE="
         },
         "y": [
          "ETH-USDT",
          "BTC-USDT",
          "SOL-USDT",
          "WLD-USDT",
          "XRP-USDT",
          "DOGE-USDT",
          "ADA-USDT",
          "LINK-USDT",
          "AVAX-USDT",
          "BNB-USDT"
         ],
         "type": "bar"
        }
       ],
       "layout": {
        "template": {
         "data": {
          "barpolar": [
           {
            "marker": {
             "line": {
              "color": "white",
              "width": 0.5
             },
             "pattern": {
              "fillmode": "overlay",
              "size": 10,
              "solidity": 0.2
             }
            },
            "type": "barpolar"
           }
          ],
          "bar": [
           {
            "error_x": {
             "color": "#2a3f5f"
            },
            "error_y": {
             "color": "#2a3f5f"
            },
            "marker": {
             "line": {
              "color": "white",
              "width": 0.5
             },
             "pattern": {
              "fillmode": "overlay",
              "size": 10,
              "solidity": 0.2
             }
            },
            "type": "bar"
           }
          ],
          "carpet": [
           {
            "aaxis": {
             "endlinecolor": "#2a3f5f",
             "gridcolor": "#C8D4E3",
             "linecolor": "#C8D4E3",
             "minorgridcolor": "#C8D4E3",
             "startlinecolor": "#2a3f5f"
            },
            "baxis": {
             "endlinecolor": "#2a3f5f",
             "gridcolor": "#C8D4E3",
             "linecolor": "#C8D4E3",
             "minorgridcolor": "#C8D4E3",
             "startlinecolor": "#2a3f5f"
            },
            "type": "carpet"
           }
          ],
          "choropleth": [
           {
            "colorbar": {
             "outlinewidth": 0,
             "ticks": ""
            },
            "type": "choropleth"
           }
          ],
          "contourcarpet": [
           {
            "colorbar": {
             "outlinewidth": 0,
             "ticks": ""
            },
            "type": "contourcarpet"
           }
          ],
          "contour": [
           {
            "colorbar": {
             "outlinewidth": 0,
             "ticks": ""
            },
            "colorscale": [
             [
              0.0,
              "#0d0887"
             ],
             [
              0.1111111111111111,
              "#46039f"
             ],
             [
              0.2222222222222222,
              "#7201a8"
             ],
             [
              0.3333333333333333,
              "#9c179e"
             ],
             [
              0.4444444444444444,
              "#bd3786"
             ],
             [
              0.5555555555555556,
              "#d8576b"
             ],
             [
              0.6666666666666666,
              "#ed7953"
             ],
             [
              0.7777777777777778,
              "#fb9f3a"
             ],
             [
              0.8888888888888888,
              "#fdca26"
             ],
             [
              1.0,
              "#f0f921"
             ]
            ],
            "type": "contour"
           }
          ],
          "heatmap": [
           {
            "colorbar": {
             "outlinewidth": 0,
             "ticks": ""
            },
            "colorscale": [
             [
              0.0,
              "#0d0887"
             ],
             [
              0.1111111111111111,
              "#46039f"
             ],
             [
              0.2222222222222222,
              "#7201a8"
             ],
             [
              0.3333333333333333,
              "#9c179e"
             ],
             [
              0.4444444444444444,
              "#bd3786"
             ],
             [
              0.5555555555555556,
              "#d8576b"
             ],
             [
              0.6666666666666666,
              "#ed7953"
             ],
             [
              0.7777777777777778,
              "#fb9f3a"
             ],
             [
              0.8888888888888888,
              "#fdca26"
             ],
             [
              1.0,
              "#f0f921"
             ]
            ],
            "type": "heatmap"
           }
          ],
          "histogram2dcontour": [
           {
            "colorbar": {
             "outlinewidth": 0,
             "ticks": ""
            },
            "colorscale": [
             [
              0.0,
              "#0d0887"
             ],
             [
              0.1111111111111111,
              "#46039f"
             ],
             [
              0.2222222222222222,
              "#7201a8"
             ],
             [
              0.3333333333333333,
              "#9c179e"
             ],
             [
              0.4444444444444444,
              "#bd3786"
             ],
             [
              0.5555555555555556,
              "#d8576b"
             ],
             [
              0.6666666666666666,
              "#ed7953"
             ],
             [
              0.7777777777777778,
              "#fb9f3a"
             ],
             [
              0.8888888888888888,
              "#fdca26"
             ],
             [
              1.0,
              "#f0f921"
             ]
            ],
            "type": "histogram2dcontour"
           }
          ],
          "histogram2d": [
           {
            "colorbar": {
             "outlinewidth": 0,
             "ticks": ""
            },
            "colorscale": [
             [
              0.0,
              "#0d0887"
             ],
             [
              0.1111111111111111,
              "#46039f"
             ],
             [
              0.2222222222222222,
              "#7201a8"
             ],
             [
              0.3333333333333333,
              "#9c179e"
             ],
             [
              0.4444444444444444,
              "#bd3786"
             ],
             [
              0.5555555555555556,
              "#d8576b"
             ],
             [
              0.6666666666666666,
              "#ed7953"
             ],
             [
              0.7777777777777778,
              "#fb9f3a"
             ],
             [
              0.8888888888888888,
              "#fdca26"
             ],
             [
              1.0,
              "#f0f921"
             ]
            ],
            "type": "histogram2d"
           }
          ],
          "histogram": [
           {
            "marker": {
             "pattern": {
              "fillmode": "overlay",
              "size": 10,
              "solidity": 0.2
             }
            },
            "type": "histogram"
           }
          ],
          "mesh3d": [
           {
            "colorbar": {
             "outlinewidth": 0,
             "ticks": ""
            },
            "type": "mesh3d"
           }
          ],
          "parcoords": [
           {
            "line": {
             "colorbar": {
              "outlinewidth": 0,
              "ticks": ""
             }
            },
            "type": "parcoords"
           }
          ],
          "pie": [
           {
            "automargin": true,
            "type": "pie"
           }
          ],
          "scatter3d": [
           {
            "line": {
             "colorbar": {
              "outlinewidth": 0,
              "ticks": ""
             }
            },
            "marker": {
             "colorbar": {
              "outlinewidth": 0,
              "ticks": ""
             }
            },
            "type": "scatter3d"
           }
          ],
          "scattercarpet": [
           {
            "marker": {
             "colorbar": {
              "outlinewidth": 0,
              "ticks": ""
             }
            },
            "type": "scattercarpet"
           }
          ],
          "scattergeo": [
           {
            "marker": {
             "colorbar": {
              "outlinewidth": 0,
              "ticks": ""
             }
            },
            "type": "scattergeo"
           }
          ],
          "scattergl": [
           {
            "marker": {
             "colorbar": {
              "outlinewidth": 0,
              "ticks": ""
             }
            },
            "type": "scattergl"
           }
          ],
          "scattermapbox": [
           {
            "marker": {
             "colorbar": {
              "outlinewidth": 0,
              "ticks": ""
             }
            },
            "type": "scattermapbox"
           }
          ],
          "scattermap": [
           {
            "marker": {
             "colorbar": {
              "outlinewidth": 0,
              "ticks": ""
             }
            },
            "type": "scattermap"
           }
          ],
          "scatterpolargl": [
           {
            "marker": {
             "colorbar": {
              "outlinewidth": 0,
              "ticks": ""
             }
            },
            "type": "scatterpolargl"
           }
          ],
          "scatterpolar": [
           {
            "marker": {
             "colorbar": {
              "outlinewidth": 0,
              "ticks": ""
             }
            },
            "type": "scatterpolar"
           }
          ],
          "scatter": [
           {
            "fillpattern": {
             "fillmode": "overlay",
             "size": 10,
             "solidity": 0.2
            },
            "type": "scatter"
           }
          ],
          "scatterternary": [
           {
            "marker": {
             "colorbar": {
              "outlinewidth": 0,
              "ticks": ""
             }
            },
            "type": "scatterternary"
           }
          ],
          "surface": [
           {
            "colorbar": {
             "outlinewidth": 0,
             "ticks": ""
            },
            "colorscale": [
             [
              0.0,
              "#0d0887"
             ],
             [
              0.1111111111111111,
              "#46039f"
             ],
             [
              0.2222222222222222,
              "#7201a8"
             ],
             [
              0.3333333333333333,
              "#9c179e"
             ],
             [
              0.4444444444444444,
              "#bd3786"
             ],
             [
              0.5555555555555556,
              "#d8576b"
             ],
             [
              0.6666666666666666,
              "#ed7953"
             ],
             [
              0.7777777777777778,
              "#fb9f3a"
             ],
             [
              0.8888888888888888,
              "#fdca26"
             ],
             [
              1.0,
              "#f0f921"
             ]
            ],
            "type": "surface"
           }
          ],
          "table": [
           {
            "cells": {
             "fill": {
              "color": "#EBF0F8"
             },
             "line": {
              "color": "white"
             }
            },
            "header": {
             "fill": {
              "color": "#C8D4E3"
             },
             "line": {
              "color": "white"
             }
            },
            "type": "table"
           }
          ]
         },
         "layout": {
          "annotationdefaults": {
           "arrowcolor": "#2a3f5f",
           "arrowhead": 0,
           "arrowwidth": 1
          },
          "autotypenumbers": "strict",
          "coloraxis": {
           "colorbar": {
            "outlinewidth": 0,
            "ticks": ""
           }
          },
          "colorscale": {
           "diverging": [
            [
             0,
             "#8e0152"
            ],
            [
             0.1,
             "#c51b7d"
            ],
            [
             0.2,
             "#de77ae"
            ],
            [
             0.3,
             "#f1b6da"
            ],
            [
             0.4,
             "#fde0ef"
            ],
            [
             0.5,
             "#f7f7f7"
            ],
            [
             0.6,
             "#e6f5d0"
            ],
            [
             0.7,
             "#b8e186"
            ],
            [
             0.8,
             "#7fbc41"
            ],
            [
             0.9,
             "#4d9221"
            ],
            [
             1,
             "#276419"
            ]
           ],
           "sequential": [
            [
             0.0,
             "#0d0887"
            ],
            [
             0.1111111111111111,
             "#46039f"
            ],
            [
             0.2222222222222222,
             "#7201a8"
            ],
            [
             0.3333333333333333,
             "#9c179e"
            ],
            [
             0.4444444444444444,
             "#bd3786"
            ],
            [
             0.5555555555555556,
             "#d8576b"
            ],
            [
             0.6666666666666666,
             "#ed7953"
            ],
            [
             0.7777777777777778,
             "#fb9f3a"
            ],
            [
             0.8888888888888888,
             "#fdca26"
            ],
            [
             1.0,
             "#f0f921"
            ]
           ],
           "sequentialminus": [
            [
             0.0,
             "#0d0887"
            ],
            [
             0.1111111111111111,
             "#46039f"
            ],
            [
             0.2222222222222222,
             "#7201a8"
            ],
            [
             0.3333333333333333,
             "#9c179e"
            ],
            [
             0.4444444444444444,
             "#bd3786"
            ],
            [
             0.5555555555555556,
             "#d8576b"
            ],
            [
             0.6666666666666666,
             "#ed7953"
            ],
            [
             0.7777777777777778,
             "#fb9f3a"
            ],
            [
             0.8888888888888888,
             "#fdca26"
            ],
            [
             1.0,
             "#f0f921"
            ]
           ]
          },
          "colorway": [
           "#636efa",
           "#EF553B",
           "#00cc96",
           "#ab63fa",
           "#FFA15A",
           "#19d3f3",
           "#FF6692",
           "#B6E880",
           "#FF97FF",
           "#FECB52"
          ],
          "font": {
           "color": "#2a3f5f"
          },
          "geo": {
           "bgcolor": "white",
           "lakecolor": "white",
           "landcolor": "white",
           "showlakes": true,
           "showland": true,
           "subunitcolor": "#C8D4E3"
          },
          "hoverlabel": {
           "align": "left"
          },
          "hovermode": "closest",
          "mapbox": {
           "style": "light"
          },
          "paper_bgcolor": "white",
          "plot_bgcolor": "white",
          "polar": {
           "angularaxis": {
            "gridcolor": "#EBF0F8",
            "linecolor": "#EBF0F8",
            "ticks": ""
           },
           "bgcolor": "white",
           "radialaxis": {
            "gridcolor": "#EBF0F8",
            "linecolor": "#EBF0F8",
            "ticks": ""
           }
          },
          "scene": {
           "xaxis": {
            "backgroundcolor": "white",
            "gridcolor": "#DFE8F3",
            "gridwidth": 2,
            "linecolor": "#EBF0F8",
            "showbackground": true,
            "ticks": "",
            "zerolinecolor": "#EBF0F8"
           },
           "yaxis": {
            "backgroundcolor": "white",
            "gridcolor": "#DFE8F3",
            "gridwidth": 2,
            "linecolor": "#EBF0F8",
            "showbackground": true,
            "ticks": "",
            "zerolinecolor": "#EBF0F8"
           },
           "zaxis": {
            "backgroundcolor": "white",
            "gridcolor": "#DFE8F3",
            "gridwidth": 2,
            "linecolor": "#EBF0F8",
            "showbackground": true,
            "ticks": "",
            "zerolinecolor": "#EBF0F8"
           }
          },
          "shapedefaults": {
           "line": {
            "color": "#2a3f5f"
           }
          },
          "ternary": {
           "aaxis": {
            "gridcolor": "#DFE8F3",
            "linecolor": "#A2B1C6",
            "ticks": ""
           },
           "baxis": {
            "gridcolor": "#DFE8F3",
            "linecolor": "#A2B1C6",
            "ticks": ""
           },
           "bgcolor": "white",
           "caxis": {
            "gridcolor": "#DFE8F3",
            "linecolor": "#A2B1C6",
            "ticks": ""
           }
          },
          "title": {
           "x": 0.05
          },
          "xaxis": {
           "automargin": true,
           "gridcolor": "#EBF0F8",
           "linecolor": "#EBF0F8",
           "ticks": "",
           "title": {
            "standoff": 15
           },
           "zerolinecolor": "#EBF0F8",
           "zerolinewidth": 2
          },
          "yaxis": {
           "automargin": true,
           "gridcolor": "#EBF0F8",
           "linecolor": "#EBF0F8",
           "ticks": "",
           "title": {
            "standoff": 15
           },
           "zerolinecolor": "#EBF0F8",
           "zerolinewidth": 2
          }
         }
        },
        "title": {
         "font": {
          "size": 18,
          "family": "Arial Bold",
          "color": "#333333"
         },
         "text": "Top 10 Trading Pairs by 24h Volume<br><sub>Binance Perpetual - 2025-09-10 13:37 UTC</sub>",
         "x": 0.5,
         "xanchor": "center"
        },
        "margin": {
         "l": 120,
         "r": 80,
         "t": 100,
         "b": 60
        },
        "xaxis": {
         "tickfont": {
          "size": 10
         },
         "title": {
          "text": "24-Hour Volume (USD)"
         },
         "tickformat": "$,.0s",
         "showgrid": true,
         "gridwidth": 1,
         "gridcolor": "#E0E0E0"
        },
        "yaxis": {
         "tickfont": {
          "size": 11,
          "family": "Arial"
         },
         "title": {
          "text": ""
         },
         "showgrid": false
        },
        "font": {
         "family": "Arial",
         "size": 12,
         "color": "#333333"
        },
        "height": 600,
        "width": 1000,
        "plot_bgcolor": "white",
        "paper_bgcolor": "white"
       },
       "config": {
        "plotlyServerURL": "https://plot.ly"
       }
      }
     },
     "metadata": {},
     "output_type": "display_data"
    },
    {
     "name": "stdout",
     "output_type": "stream",
     "text": [
      "💾 Generating PNG chart for Telegram...\n"
     ]
    },
    {
     "name": "stderr",
     "output_type": "stream",
     "text": [
      "WARNING: All log messages before absl::InitializeLog() is called are written to STDERR\n",
      "I0000 00:00:1757511449.926098 6612158 fork_posix.cc:71] Other threads are currently calling into gRPC, skipping fork() handlers\n"
     ]
    },
    {
     "name": "stdout",
     "output_type": "stream",
     "text": [
      "✅ PNG chart saved: /tmp/volume_chart.png\n",
      "📤 Sending PNG chart via Telegram...\n",
      "  📊 PNG Chart: ✅ Sent successfully!\n",
      "🎉 Volume chart delivered to Telegram!\n"
     ]
    }
   ],
   "execution_count": 7
  },
  {
   "cell_type": "markdown",
   "id": "cell-12",
   "metadata": {},
   "source": [
    "# 📋 Advanced: Detailed CSV Reports\n",
    "# Generate and send comprehensive data files"
   ]
  },
  {
   "cell_type": "code",
   "id": "cell-13",
   "metadata": {
    "ExecuteTime": {
     "end_time": "2025-09-10T13:37:52.186846Z",
     "start_time": "2025-09-10T13:37:50.903004Z"
    }
   },
   "source": [
    "# 📊 Generate and Send Comprehensive CSV Report\n",
    "# Create detailed data export for advanced analysis\n",
    "\n",
    "if not df.empty:\n",
    "    print(\"📋 Generating detailed CSV report...\")\n",
    "    \n",
    "    # Prepare comprehensive dataset\n",
    "    detailed_df = df.copy()\n",
    "    \n",
    "    # Add timestamp for the report\n",
    "    detailed_df['report_timestamp'] = datetime.now(timezone.utc).strftime('%Y-%m-%d %H:%M:%S UTC')\n",
    "    \n",
    "    # Calculate additional derived metrics\n",
    "    detailed_df['volume_24h_usd_millions'] = detailed_df['volume_24h_usd'] / 1_000_000\n",
    "    detailed_df['market_cap_rank'] = detailed_df['volume_rank']  # Use volume rank as proxy\n",
    "    \n",
    "    # Add performance categories\n",
    "    detailed_df['performance_category'] = detailed_df['price_change_24h_pct'].apply(\n",
    "        lambda x: 'Strong Gain' if x > 5 else \n",
    "                  'Moderate Gain' if x > 1 else \n",
    "                  'Stable' if x > -1 else \n",
    "                  'Moderate Loss' if x > -5 else 'Strong Loss'\n",
    "    )\n",
    "    \n",
    "    # Add volume categories\n",
    "    volume_quantiles = detailed_df['volume_24h_usd'].quantile([0.25, 0.5, 0.75])\n",
    "    detailed_df['volume_category'] = detailed_df['volume_24h_usd'].apply(\n",
    "        lambda x: 'Very High' if x > volume_quantiles[0.75] else\n",
    "                  'High' if x > volume_quantiles[0.5] else\n",
    "                  'Medium' if x > volume_quantiles[0.25] else 'Low'\n",
    "    )\n",
    "    \n",
    "    # Reorder columns for better presentation\n",
    "    column_order = [\n",
    "        'volume_rank', 'trading_pair', 'connector_name', 'price', \n",
    "        'volume_24h_usd', 'volume_24h_usd_millions', 'volume_category',\n",
    "        'price_change_24h_pct', 'performance_category', 'volatility_pct',\n",
    "        'high_24h', 'low_24h', 'position_in_range', 'volume_trend_pct',\n",
    "        'composite_score', 'data_points', 'report_timestamp'\n",
    "    ]\n",
    "    \n",
    "    # Add any remaining columns\n",
    "    remaining_cols = [col for col in detailed_df.columns if col not in column_order]\n",
    "    final_columns = column_order + remaining_cols\n",
    "    detailed_df = detailed_df[final_columns]\n",
    "    \n",
    "    # Create timestamped filename\n",
    "    timestamp_str = datetime.now(timezone.utc).strftime(\"%Y%m%d_%H%M\")\n",
    "    csv_path = f'/tmp/volume_screener_report_{timestamp_str}.csv'\n",
    "    \n",
    "    # Save to CSV with proper formatting\n",
    "    detailed_df.to_csv(csv_path, index=False, float_format='%.8f')\n",
    "    \n",
    "    print(f\"✅ CSV report generated: {len(detailed_df)} records\")\n",
    "    print(f\"💾 File location: {csv_path}\")\n",
    "    \n",
    "    # Send via Telegram if available\n",
    "    telegram_notifier = notification_manager.get_notifier('telegram')\n",
    "    \n",
    "    if telegram_notifier:\n",
    "        print(\"📤 Sending CSV report via Telegram...\")\n",
    "        \n",
    "        # Create detailed caption\n",
    "        csv_caption = f\"\"\"📋 <b>Detailed Volume Screener Data</b>\n",
    "📅 {datetime.now(timezone.utc).strftime('%Y-%m-%d %H:%M UTC')}\n",
    "🔗 Exchange: {CONNECTOR_NAME.replace('_', ' ').title()}\n",
    "\n",
    "📊 Dataset Summary:\n",
    "• Total Records: {len(detailed_df)}\n",
    "• Top Volume: ${detailed_df['volume_24h_usd'].max():,.0f}\n",
    "• Timeframe: {INTERVAL} candles\n",
    "• Categories: Performance & Volume rankings\n",
    "\n",
    "🔍 <i>Complete dataset with metrics for advanced analysis</i>\"\"\"\n",
    "        \n",
    "        try:\n",
    "            doc_success = await telegram_notifier.send_document(\n",
    "                csv_path,\n",
    "                caption=csv_caption\n",
    "            )\n",
    "            \n",
    "            print(f\"📋 CSV Report: {'✅ Sent' if doc_success else '❌ Failed'}\")\n",
    "            \n",
    "            if doc_success:\n",
    "                print(\"🎉 Detailed CSV report successfully delivered!\")\n",
    "            else:\n",
    "                print(\"⚠️ CSV delivery failed - check Telegram bot configuration\")\n",
    "        except Exception as e:\n",
    "            print(f\"❌ Error sending CSV: {e}\")\n",
    "            print(\"💾 CSV file saved locally and ready for manual distribution\")\n",
    "            \n",
    "    else:\n",
    "        print(\"⚠️ Telegram notifier not available for CSV sending\")\n",
    "        print(f\"💾 CSV file saved locally and ready for manual distribution\")\n",
    "    \n",
    "    # Display sample of the data\n",
    "    print(f\"\\n📋 CSV Report Preview (Top 5 rows):\")\n",
    "    print(\"-\" * 80)\n",
    "    preview_cols = ['volume_rank', 'trading_pair', 'volume_24h_usd', 'price_change_24h_pct', 'performance_category']\n",
    "    available_cols = [col for col in preview_cols if col in detailed_df.columns]\n",
    "    print(detailed_df[available_cols].head().to_string(index=False))\n",
    "    print(\"-\" * 80)\n",
    "    \nelse:\n",
    "    print(\"⚠️ No data available for CSV report generation\")\n",
    "    print(\"💡 Ensure data collection tasks are running and populating the cache\")"
   ],
   "outputs": [
    {
     "name": "stdout",
     "output_type": "stream",
     "text": [
      "📋 Generating detailed CSV report...\n",
      "✅ CSV report generated: 21 records\n",
      "💾 File location: /tmp/volume_screener_report_20250910_1337.csv\n",
      "📤 Sending CSV report via Telegram...\n",
      "📋 CSV Report: ✅ Sent\n",
      "🎉 Detailed CSV report successfully delivered!\n",
      "\n",
      "📋 CSV Report Preview (Top 5 rows):\n",
      "--------------------------------------------------------------------------------\n",
      " volume_rank trading_pair      volume_24h_usd  price_change_24h_pct performance_category\n",
      "           1     ETH-USDT 4380802255.90790939             0.7973148               Stable\n",
      "           2     BTC-USDT 3864052879.80800009            0.35790649               Stable\n",
      "           3     SOL-USDT 1624360790.44979978            1.17154812        Moderate Gain\n",
      "           4     WLD-USDT      1260812639.648           12.32217115          Strong Gain\n",
      "           5     XRP-USDT     573312999.77616            1.44076661        Moderate Gain\n",
      "--------------------------------------------------------------------------------\n"
     ]
    }
   ],
   "execution_count": 8
  },
  {
   "cell_type": "markdown",
   "id": "cell-14",
   "metadata": {},
   "source": [
    "# 🧹 Cleanup and Finalization\n",
    "# Clean up resources and temporary files"
   ]
  },
  {
   "cell_type": "code",
   "id": "cell-15",
   "metadata": {
    "ExecuteTime": {
     "end_time": "2025-09-10T13:38:37.577585Z",
     "start_time": "2025-09-10T13:38:37.570406Z"
    }
   },
   "source": [
    "# 🔒 Cleanup and Summary\n",
    "# Clean up temporary files and provide execution summary\n",
    "\n",
    "print(\"✅ Volume screener analysis completed successfully\")\n",
    "\n",
    "# Optional: Clean up temporary files\n",
    "import os\n",
    "temp_files = ['/tmp/volume_chart.html', '/tmp/volume_chart.png']\n",
    "csv_files = [f for f in os.listdir('/tmp') if f.startswith('volume_screener_report_') and f.endswith('.csv')]\n",
    "\n",
    "cleanup_count = 0\n",
    "for file_path in temp_files:\n",
    "    if os.path.exists(file_path):\n",
    "        try:\n",
    "            os.remove(file_path)\n",
    "            cleanup_count += 1\n",
    "            print(f\"🗑️  Cleaned up: {file_path}\")\n",
    "        except Exception as e:\n",
    "            print(f\"⚠️  Could not remove {file_path}: {e}\")\n",
    "\n",
    "# Optionally clean up old CSV files (keep only the most recent)\n",
    "if len(csv_files) > 1:\n",
    "    csv_files_full = [f'/tmp/{f}' for f in csv_files]\n",
    "    csv_files_full.sort(key=lambda x: os.path.getctime(x))\n",
    "    \n",
    "    # Remove all but the most recent\n",
    "    for old_csv in csv_files_full[:-1]:\n",
    "        try:\n",
    "            os.remove(old_csv)\n",
    "            cleanup_count += 1\n",
    "            print(f\"🗑️  Cleaned up old CSV: {os.path.basename(old_csv)}\")\n",
    "        except Exception as e:\n",
    "            print(f\"⚠️  Could not remove {old_csv}: {e}\")\n",
    "\n",
    "if cleanup_count > 0:\n",
    "    print(f\"🧹 Cleaned up {cleanup_count} temporary files\")\nelse:\n",
    "    print(\"🧹 No temporary files to clean up\")\n",
    "\n",
    "# Execution Summary\n",
    "print(\"\\n📊 EXECUTION SUMMARY\")\nprint(\"=\" * 50)\nprint(f\"📈 Data Source: CLOB Cached Data ({CONNECTOR_NAME})\")\nprint(f\"⏰ Timeframe: {INTERVAL} candles\")\nprint(f\"💹 Pairs Analyzed: {len(df) if not df.empty else 0}\")\nprint(f\"📤 Report Sent: {'✅ Yes' if enabled_notifiers else '❌ No notifiers configured'}\")\nprint(f\"📊 Charts Generated: {'✅ Yes' if not df.empty and len(df) >= 10 else '❌ Insufficient data'}\")\nprint(f\"📋 CSV Export: {'✅ Yes' if not df.empty else '❌ No data available'}\")\n\nprint(\"\\n🎉 Volume screener report generation complete!\")\nif 'telegram' in enabled_notifiers:\n    print(\"📱 Check your Telegram for delivered reports, charts, and data files\")\nelse:\n    print(\"💡 Configure Telegram in .env to receive automated reports\")\n\nprint(\"\\n🔧 Next Steps:\")\nprint(\"  • Run data collection tasks regularly for fresh data\")\nprint(\"  • Adjust TOP_PAIRS_COUNT for different report sizes\")\nprint(\"  • Set FETCH_FRESH_DATA = True for real-time analysis\")\nprint(\"  • Schedule this notebook as a task for automated reports\")"
   ],
   "outputs": [
    {
     "name": "stdout",
     "output_type": "stream",
     "text": [
      "✅ Volume screener analysis completed successfully\n",
      "🗑️  Cleaned up: /tmp/volume_chart.html\n",
      "🗑️  Cleaned up: /tmp/volume_chart.png\n",
      "🧹 Cleaned up 2 temporary files\n",
      "\n",
      "📊 EXECUTION SUMMARY\n",
      "==================================================\n",
      "📈 Data Source: CLOB Cached Data (binance_perpetual)\n",
      "⏰ Timeframe: 15m candles\n",
      "💹 Pairs Analyzed: 21\n",
      "📤 Report Sent: ✅ Yes\n",
      "📊 Charts Generated: ✅ Yes\n",
      "📋 CSV Export: ✅ Yes\n",
      "\n",
      "🎉 Volume screener report generation complete!\n",
      "📱 Check your Telegram for delivered reports, charts, and data files\n",
      "\n",
      "🔧 Next Steps:\n",
      "  • Run data collection tasks regularly for fresh data\n",
      "  • Adjust TOP_PAIRS_COUNT for different report sizes\n",
      "  • Set FETCH_FRESH_DATA = True for real-time analysis\n",
      "  • Schedule this notebook as a task for automated reports\n"
     ]
    }
   ],
   "execution_count": 9
  },
  {
   "cell_type": "markdown",
   "id": "cell-16",
   "metadata": {},
   "source": [
    "# 🛠️ Setup and Configuration Guide\n",
    "\n",
    "## 📱 Telegram Bot Configuration\n",
    "\n",
    "### 1. Create Telegram Bot\n",
    "1. **Start BotFather**: Message @BotFather on Telegram\n",
    "2. **Create Bot**: Send `/newbot` and follow prompts\n",
    "3. **Get Token**: Save the bot token (format: `123456789:ABCDEFGHIJKLMNOPQRSTUVWXYZ`)\n",
    "4. **Get Chat ID**: \n",
    "   - Start conversation with your bot\n",
    "   - Message @userinfobot to get your chat ID\n",
    "   - Or use group chat ID for team notifications\n",
    "\n",
    "### 2. Environment Variables\n",
    "Add these to your `.env` file:\n",
    "```bash\n",
    "# Telegram Configuration\n",
    "TELEGRAM_ENABLED=true\n",
    "TELEGRAM_BOT_TOKEN=your_bot_token_here\n",
    "TELEGRAM_CHAT_ID=your_chat_id_here\n",
    "TELEGRAM_PARSE_MODE=HTML\n",
    "TELEGRAM_DISABLE_NOTIFICATION=false\n",
    "```\n",
    "\n",
    "### 3. Data Collection Setup\n",
    "Ensure you have cached data by running:\n",
    "```bash\n",
    "# Run data collection tasks to populate cache\n",
    "python cli.py run app.tasks.data_collection.candles_downloader_task\n",
    "\n",
    "# Or fetch data directly in notebook by setting:\n",
    "FETCH_FRESH_DATA = True\n",
    "```\n",
    "\n",
    "## 🚀 Running the Report\n",
    "\n",
    "### Manual Execution\n",
    "1. **Activate Environment**: `conda activate quants-lab`\n",
    "2. **Start Jupyter**: `jupyter lab`\n",
    "3. **Run Notebook**: Execute all cells in order\n",
    "4. **Check Telegram**: Reports delivered to configured chat\n",
    "\n",
    "### Automated Execution\n",
    "Convert to scheduled task by creating a task configuration:\n",
    "```yaml\n",
    "# In config/telegram_report.yml\n",
    "version: '2.0'\n",
    "\n",
    "tasks:\n",
    "  telegram_volume_report:\n",
    "    enabled: true\n",
    "    task_class: notebook\n",
    "    schedule:\n",
    "      type: frequency\n",
    "      frequency_hours: 24  # Daily reports\n",
    "    config:\n",
    "      notebooks:\n",
    "        - research_notebooks/market_data_etl/telegram_screener_report.ipynb\n",
    "      parameters:\n",
    "        TOP_PAIRS_COUNT: 15\n",
    "        INTERVAL: \"1h\"\n",
    "        FETCH_FRESH_DATA: false\n",
    "```\n",
    "\n",
    "## 🔧 Troubleshooting\n",
    "\n",
    "### Common Issues\n",
    "- **No Data**: Set `FETCH_FRESH_DATA = True` or run data collection tasks\n",
    "- **Telegram Fails**: Verify bot token and chat ID in .env\n",
    "- **Chart Generation**: Install `kaleido` for PNG export: `pip install kaleido`\n",
    "- **Cache Empty**: Run candles downloader task first\n",
    "\n",
    "### Verification Steps\n",
    "1. Check cached data: `len(clob.candles_cache)` should be > 0\n",
    "2. Test Telegram bot: Send test message manually\n",
    "3. Verify notification system: Check enabled notifiers\n",
    "4. Ensure dependencies: `pip install plotly kaleido pandas`\n",
    "\n",
    "### Configuration Options\n",
    "- **TOP_PAIRS_COUNT**: Number of pairs in report (default: 15)\n",
    "- **INTERVAL**: Candle timeframe (\"1m\", \"5m\", \"1h\", \"1d\")\n",
    "- **CONNECTOR_NAME**: Exchange to analyze (\"binance_perpetual\", etc.)\n",
    "- **QUOTE_ASSET**: Quote currency filter (\"USDT\", \"BTC\", etc.)\n",
    "- **FETCH_FRESH_DATA**: True to fetch from API, False to use cache"
   ]
  }
 ],
 "metadata": {
  "kernelspec": {
   "display_name": "Python 3 (ipykernel)",
   "language": "python",
   "name": "python3"
  },
  "language_info": {
   "codemirror_mode": {
    "name": "ipython",
    "version": 3
   },
   "file_extension": ".py",
   "mimetype": "text/x-python",
   "name": "python",
   "nbconvert_exporter": "python",
   "pygments_lexer": "ipython3",
   "version": "3.12.0"
  }
 },
 "nbformat": 4,
 "nbformat_minor": 5
}
