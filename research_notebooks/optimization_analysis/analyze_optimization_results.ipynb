{
 "cells": [
  {
   "cell_type": "code",
   "metadata": {},
   "source": [
    "import warnings\n",
    "\n",
    "warnings.filterwarnings('ignore')\n",
    "\n",
    "from core.backtesting.optimizer import StrategyOptimizer\n",
    "\n",
    "optimizer = StrategyOptimizer()\n",
    "optimizer.get_all_study_names()\n"
   ],
   "outputs": [],
   "execution_count": null
  },
  {
   "cell_type": "code",
   "metadata": {},
   "source": [
    "study_name = \"macd_bb_with_optimizer\"\n",
    "df = optimizer.get_study_trials_df(study_name)\n",
    "df"
   ],
   "outputs": [],
   "execution_count": null
  },
  {
   "cell_type": "code",
   "metadata": {},
   "source": [
    "df_filtered = df[(df[\"value\"] > 0.5) & (df[\"total_executors\"] > 40)].sort_values(\"total_executors\", ascending=False)\n",
    "df_filtered"
   ],
   "outputs": [],
   "execution_count": null
  },
  {
   "cell_type": "code",
   "metadata": {},
   "source": [
    "import plotly.express as px\n",
    "\n",
    "px.scatter(df_filtered, x=\"total_executors\", y=\"sharpe_ratio\", color=\"net_pnl\", hover_data=[\"number\"])"
   ],
   "outputs": [],
   "execution_count": null
  }
 ],
 "metadata": {
  "kernelspec": {
   "display_name": "Python 3",
   "language": "python",
   "name": "python3"
  },
  "language_info": {
   "codemirror_mode": {
    "name": "ipython",
    "version": 3
   },
   "file_extension": ".py",
   "mimetype": "text/x-python",
   "name": "python",
   "nbconvert_exporter": "python",
   "pygments_lexer": "ipython3",
   "version": "3.10.15"
  }
 },
 "nbformat": 4,
 "nbformat_minor": 0
}
